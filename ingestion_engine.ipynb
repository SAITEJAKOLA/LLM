{
 "cells": [
  {
   "cell_type": "code",
   "execution_count": 1,
   "metadata": {},
   "outputs": [
    {
     "name": "stdout",
     "output_type": "stream",
     "text": [
      "Documents/5C-LYNX_Chatbot-191124-0622.pdf\n"
     ]
    }
   ],
   "source": [
    "import os\n",
    "pdf_path = \"Documents/5C-LYNX_Chatbot-191124-0622.pdf\"\n",
    "print(pdf_path)"
   ]
  },
  {
   "cell_type": "code",
   "execution_count": 2,
   "metadata": {},
   "outputs": [
    {
     "data": {
      "text/plain": [
       "True"
      ]
     },
     "execution_count": 2,
     "metadata": {},
     "output_type": "execute_result"
    }
   ],
   "source": [
    "import os\n",
    "from dotenv import load_dotenv\n",
    "load_dotenv()\n",
    " "
   ]
  },
  {
   "cell_type": "code",
   "execution_count": 3,
   "metadata": {},
   "outputs": [
    {
     "name": "stderr",
     "output_type": "stream",
     "text": [
      "/Users/saiteja.kola/Downloads/Work/Sources/LLM_CHAT/LLM_CHAT/lib/python3.10/site-packages/tqdm/auto.py:21: TqdmWarning: IProgress not found. Please update jupyter and ipywidgets. See https://ipywidgets.readthedocs.io/en/stable/user_install.html\n",
      "  from .autonotebook import tqdm as notebook_tqdm\n",
      "1it [00:00, 116.90it/s]\n"
     ]
    },
    {
     "data": {
      "text/plain": [
       "[{'page_number': 0,\n",
       "  'page_char_count': 3560,\n",
       "  'page_word_count': 640,\n",
       "  'page_sentence_count_raw': 36,\n",
       "  'page_token_count': 890.0,\n",
       "  'text': '1.   2.   3.   1.   2.   a.   b.   3.   4.   a.   LYNX_Chatbot User Creation in TTI: User creation is managed by company fleet managers. Navigate to company management and select action button and add user. for adding user fleet manager needs to select the company for which user needs to be added and than the required data asked in the  stepper form to create the user. Once user is created by fleet manager created user will get the email from OKTA where they get the link to activate the account. Once  user activated the account. They can use the credentials to login to the lynx fleet application. Password reset: User can reset the password from the login screen of the lynx fleet application. Company tiering: feature users have access to depends on company tiering level. we have   tiering available for each company. access, core and enhance Feature Access Details: API Portal: Available in Access, Core, Enhance Live Map View: Available in Access, Core Live Map View - Geofence: Available in Access, Core Live Grid View: Available in Access, Core Live Grid View - 2 Way Commands: Available in Core Live Grid View - Advanced 2-Way Commands: Available in Enhance Widget - KPI: Available in Access, Core, Enhance Asset Tracking - Replay: Available in Access, Core, Enhance Asset Tracking - Temperature Chart: Available in Access, Core, Enhance Asset Tracking - Asset History: Available in Access, Core, Enhance Alerts & Notifications: Available in Access, Core, Enhance Reports: Available in Access, Core, Enhance Company Management: Available in Access, Core, Enhance Command History: Available in Access, Core, Enhance Asset History: After the user clicks on an asset name on the  , they are directed to the   page. To view data  Asset Tracking Page Asset History for a specific time period, the user can choose from: One of the predefined time intervals:  ,  , or  . 24 hours 48 hours 7 days A  , where the user can select a specific date and time, down to the second. Note that the custom period is limited to 7  custom time range days due to the large data volume. Need of beacon Sensors: fleet manager would like to know which truck/tractor is near my trailer to ensure the trailer is on the correct route. Sometimes, the situation occurs where the trailer gets hitched to the wrong truck and ends up going to the wrong destination. This results in our  customers experiencing lost time and revenue. : Process to commission beacon sensors The beacons will be installed on the back of trucks The beacons will be commissioned in Lynx Fleet and associated with a truck. The Carrier team member will enter the beacon sensor MAC  ID, truck license plate number, and truck description during commissioning. Beacon sensors can be commissioned individually. Beacon sensors can be commissioned via bulk upload When a company opts into beacon sensors, a remote command must be sent from Lynx Fleet to all their devices to enable beacon  detection. An FMC can detect up to 100 beacon sensors. Each sensor detected will have its MAC ID and signal strength collected by the FMC every  2 minutes. This data will be stored in Flespi and associated with the trailer/device. Lynx Fleet can use GPS movement and signal strength to determine which trailer ID is moving with which truck/beacon. Screens Auto Refresh: In the lynx portal carrier loader will come only when we have access token which is expired (expiry is 1hr). In that case  new token request is made and new token is being saved to the local storage and that is used for making further network calls.'}]"
      ]
     },
     "execution_count": 3,
     "metadata": {},
     "output_type": "execute_result"
    }
   ],
   "source": [
    "# Requires !pip install PyMuPDF, see: https://github.com/pymupdf/pymupdf\n",
    "import fitz # (pymupdf, found this is better than pypdf for our use case, note: licence is AGPL-3.0, keep that in mind if you want to use any code commercially)\n",
    "from tqdm.auto import tqdm # for progress bars, requires !pip install tqdm \n",
    "\n",
    "def text_formatter(text: str) -> str:\n",
    "    \"\"\"Performs minor formatting on text.\"\"\"\n",
    "    cleaned_text = text.replace(\"\\n\", \" \").strip() # note: this might be different for each doc (best to experiment)\n",
    "\n",
    "    # Other potential text formatting functions can go here\n",
    "    return cleaned_text\n",
    "\n",
    "# Open PDF and get lines/pages\n",
    "# Note: this only focuses on text, rather than images/figures etc\n",
    "def open_and_read_pdf(pdf_path: str) -> list[dict]:\n",
    "    \"\"\"\n",
    "    Opens a PDF file, reads its text content page by page, and collects statistics.\n",
    "\n",
    "    Parameters:\n",
    "        pdf_path (str): The file path to the PDF document to be opened and read.\n",
    "\n",
    "    Returns:\n",
    "        list[dict]: A list of dictionaries, each containing the page number\n",
    "        (adjusted), character count, word count, sentence count, token count, and the extracted text\n",
    "        for each page.\n",
    "    \"\"\"\n",
    "    doc = fitz.open(pdf_path)  # open a document\n",
    "    pages_and_texts = []\n",
    "    for page_number, page in tqdm(enumerate(doc)):  # iterate the document pages\n",
    "        # if page_number <= 2:  # Skip the first 2 pages\n",
    "        #  continue\n",
    "        text = page.get_text()  # get plain text encoded as UTF-8\n",
    "        text = text_formatter(text)\n",
    "        pages_and_texts.append({\"page_number\": page_number - 0,  # adjust page numbers since our PDF starts on page 5\n",
    "                                \"page_char_count\": len(text),\n",
    "                                \"page_word_count\": len(text.split(\" \")),\n",
    "                                \"page_sentence_count_raw\": len(text.split(\". \")),\n",
    "                                \"page_token_count\": len(text) / 4,  # 1 token = ~4 chars, see: https://help.openai.com/en/articles/4936856-what-are-tokens-and-how-to-count-them\n",
    "                                \"text\": text})\n",
    "    return pages_and_texts\n",
    "\n",
    "pages_and_texts = open_and_read_pdf(pdf_path=pdf_path)\n",
    "pages_and_texts\n"
   ]
  },
  {
   "cell_type": "code",
   "execution_count": 5,
   "metadata": {},
   "outputs": [
    {
     "data": {
      "text/plain": [
       "[{'page_number': 0,\n",
       "  'page_char_count': 3560,\n",
       "  'page_word_count': 640,\n",
       "  'page_sentence_count_raw': 36,\n",
       "  'page_token_count': 890.0,\n",
       "  'text': '1.   2.   3.   1.   2.   a.   b.   3.   4.   a.   LYNX_Chatbot User Creation in TTI: User creation is managed by company fleet managers. Navigate to company management and select action button and add user. for adding user fleet manager needs to select the company for which user needs to be added and than the required data asked in the  stepper form to create the user. Once user is created by fleet manager created user will get the email from OKTA where they get the link to activate the account. Once  user activated the account. They can use the credentials to login to the lynx fleet application. Password reset: User can reset the password from the login screen of the lynx fleet application. Company tiering: feature users have access to depends on company tiering level. we have   tiering available for each company. access, core and enhance Feature Access Details: API Portal: Available in Access, Core, Enhance Live Map View: Available in Access, Core Live Map View - Geofence: Available in Access, Core Live Grid View: Available in Access, Core Live Grid View - 2 Way Commands: Available in Core Live Grid View - Advanced 2-Way Commands: Available in Enhance Widget - KPI: Available in Access, Core, Enhance Asset Tracking - Replay: Available in Access, Core, Enhance Asset Tracking - Temperature Chart: Available in Access, Core, Enhance Asset Tracking - Asset History: Available in Access, Core, Enhance Alerts & Notifications: Available in Access, Core, Enhance Reports: Available in Access, Core, Enhance Company Management: Available in Access, Core, Enhance Command History: Available in Access, Core, Enhance Asset History: After the user clicks on an asset name on the  , they are directed to the   page. To view data  Asset Tracking Page Asset History for a specific time period, the user can choose from: One of the predefined time intervals:  ,  , or  . 24 hours 48 hours 7 days A  , where the user can select a specific date and time, down to the second. Note that the custom period is limited to 7  custom time range days due to the large data volume. Need of beacon Sensors: fleet manager would like to know which truck/tractor is near my trailer to ensure the trailer is on the correct route. Sometimes, the situation occurs where the trailer gets hitched to the wrong truck and ends up going to the wrong destination. This results in our  customers experiencing lost time and revenue. : Process to commission beacon sensors The beacons will be installed on the back of trucks The beacons will be commissioned in Lynx Fleet and associated with a truck. The Carrier team member will enter the beacon sensor MAC  ID, truck license plate number, and truck description during commissioning. Beacon sensors can be commissioned individually. Beacon sensors can be commissioned via bulk upload When a company opts into beacon sensors, a remote command must be sent from Lynx Fleet to all their devices to enable beacon  detection. An FMC can detect up to 100 beacon sensors. Each sensor detected will have its MAC ID and signal strength collected by the FMC every  2 minutes. This data will be stored in Flespi and associated with the trailer/device. Lynx Fleet can use GPS movement and signal strength to determine which trailer ID is moving with which truck/beacon. Screens Auto Refresh: In the lynx portal carrier loader will come only when we have access token which is expired (expiry is 1hr). In that case  new token request is made and new token is being saved to the local storage and that is used for making further network calls.'}]"
      ]
     },
     "execution_count": 5,
     "metadata": {},
     "output_type": "execute_result"
    }
   ],
   "source": [
    "import random\n",
    "random.sample(pages_and_texts, k=1)"
   ]
  },
  {
   "cell_type": "code",
   "execution_count": 7,
   "metadata": {},
   "outputs": [
    {
     "data": {
      "text/html": [
       "<div>\n",
       "<style scoped>\n",
       "    .dataframe tbody tr th:only-of-type {\n",
       "        vertical-align: middle;\n",
       "    }\n",
       "\n",
       "    .dataframe tbody tr th {\n",
       "        vertical-align: top;\n",
       "    }\n",
       "\n",
       "    .dataframe thead th {\n",
       "        text-align: right;\n",
       "    }\n",
       "</style>\n",
       "<table border=\"1\" class=\"dataframe\">\n",
       "  <thead>\n",
       "    <tr style=\"text-align: right;\">\n",
       "      <th></th>\n",
       "      <th>page_number</th>\n",
       "      <th>page_char_count</th>\n",
       "      <th>page_word_count</th>\n",
       "      <th>page_sentence_count_raw</th>\n",
       "      <th>page_token_count</th>\n",
       "      <th>text</th>\n",
       "    </tr>\n",
       "  </thead>\n",
       "  <tbody>\n",
       "    <tr>\n",
       "      <th>0</th>\n",
       "      <td>0</td>\n",
       "      <td>3560</td>\n",
       "      <td>640</td>\n",
       "      <td>36</td>\n",
       "      <td>890.0</td>\n",
       "      <td>1.   2.   3.   1.   2.   a.   b.   3.   4.   a...</td>\n",
       "    </tr>\n",
       "  </tbody>\n",
       "</table>\n",
       "</div>"
      ],
      "text/plain": [
       "   page_number  page_char_count  page_word_count  page_sentence_count_raw  \\\n",
       "0            0             3560              640                       36   \n",
       "\n",
       "   page_token_count                                               text  \n",
       "0             890.0  1.   2.   3.   1.   2.   a.   b.   3.   4.   a...  "
      ]
     },
     "execution_count": 7,
     "metadata": {},
     "output_type": "execute_result"
    }
   ],
   "source": [
    "import pandas as pd\n",
    "\n",
    "df = pd.DataFrame(pages_and_texts)\n",
    "df.head()"
   ]
  },
  {
   "cell_type": "code",
   "execution_count": 12,
   "metadata": {},
   "outputs": [
    {
     "data": {
      "text/html": [
       "<div>\n",
       "<style scoped>\n",
       "    .dataframe tbody tr th:only-of-type {\n",
       "        vertical-align: middle;\n",
       "    }\n",
       "\n",
       "    .dataframe tbody tr th {\n",
       "        vertical-align: top;\n",
       "    }\n",
       "\n",
       "    .dataframe thead th {\n",
       "        text-align: right;\n",
       "    }\n",
       "</style>\n",
       "<table border=\"1\" class=\"dataframe\">\n",
       "  <thead>\n",
       "    <tr style=\"text-align: right;\">\n",
       "      <th></th>\n",
       "      <th>page_number</th>\n",
       "      <th>page_char_count</th>\n",
       "      <th>page_word_count</th>\n",
       "      <th>page_sentence_count_raw</th>\n",
       "      <th>page_token_count</th>\n",
       "    </tr>\n",
       "  </thead>\n",
       "  <tbody>\n",
       "    <tr>\n",
       "      <th>count</th>\n",
       "      <td>1.0</td>\n",
       "      <td>1.0</td>\n",
       "      <td>1.0</td>\n",
       "      <td>1.0</td>\n",
       "      <td>1.0</td>\n",
       "    </tr>\n",
       "    <tr>\n",
       "      <th>mean</th>\n",
       "      <td>0.0</td>\n",
       "      <td>3560.0</td>\n",
       "      <td>640.0</td>\n",
       "      <td>36.0</td>\n",
       "      <td>890.0</td>\n",
       "    </tr>\n",
       "    <tr>\n",
       "      <th>std</th>\n",
       "      <td>NaN</td>\n",
       "      <td>NaN</td>\n",
       "      <td>NaN</td>\n",
       "      <td>NaN</td>\n",
       "      <td>NaN</td>\n",
       "    </tr>\n",
       "    <tr>\n",
       "      <th>min</th>\n",
       "      <td>0.0</td>\n",
       "      <td>3560.0</td>\n",
       "      <td>640.0</td>\n",
       "      <td>36.0</td>\n",
       "      <td>890.0</td>\n",
       "    </tr>\n",
       "    <tr>\n",
       "      <th>25%</th>\n",
       "      <td>0.0</td>\n",
       "      <td>3560.0</td>\n",
       "      <td>640.0</td>\n",
       "      <td>36.0</td>\n",
       "      <td>890.0</td>\n",
       "    </tr>\n",
       "    <tr>\n",
       "      <th>50%</th>\n",
       "      <td>0.0</td>\n",
       "      <td>3560.0</td>\n",
       "      <td>640.0</td>\n",
       "      <td>36.0</td>\n",
       "      <td>890.0</td>\n",
       "    </tr>\n",
       "    <tr>\n",
       "      <th>75%</th>\n",
       "      <td>0.0</td>\n",
       "      <td>3560.0</td>\n",
       "      <td>640.0</td>\n",
       "      <td>36.0</td>\n",
       "      <td>890.0</td>\n",
       "    </tr>\n",
       "    <tr>\n",
       "      <th>max</th>\n",
       "      <td>0.0</td>\n",
       "      <td>3560.0</td>\n",
       "      <td>640.0</td>\n",
       "      <td>36.0</td>\n",
       "      <td>890.0</td>\n",
       "    </tr>\n",
       "  </tbody>\n",
       "</table>\n",
       "</div>"
      ],
      "text/plain": [
       "       page_number  page_char_count  page_word_count  page_sentence_count_raw  \\\n",
       "count          1.0              1.0              1.0                      1.0   \n",
       "mean           0.0           3560.0            640.0                     36.0   \n",
       "std            NaN              NaN              NaN                      NaN   \n",
       "min            0.0           3560.0            640.0                     36.0   \n",
       "25%            0.0           3560.0            640.0                     36.0   \n",
       "50%            0.0           3560.0            640.0                     36.0   \n",
       "75%            0.0           3560.0            640.0                     36.0   \n",
       "max            0.0           3560.0            640.0                     36.0   \n",
       "\n",
       "       page_token_count  \n",
       "count               1.0  \n",
       "mean              890.0  \n",
       "std                 NaN  \n",
       "min               890.0  \n",
       "25%               890.0  \n",
       "50%               890.0  \n",
       "75%               890.0  \n",
       "max               890.0  "
      ]
     },
     "execution_count": 12,
     "metadata": {},
     "output_type": "execute_result"
    }
   ],
   "source": [
    "# Get stats\n",
    "df.describe().round(2)"
   ]
  },
  {
   "cell_type": "code",
   "execution_count": 13,
   "metadata": {},
   "outputs": [
    {
     "data": {
      "text/plain": [
       "[This is a sentence., This another sentence.]"
      ]
     },
     "execution_count": 13,
     "metadata": {},
     "output_type": "execute_result"
    }
   ],
   "source": [
    "from spacy.lang.en import English # see https://spacy.io/usage for install instructions\n",
    "\n",
    "nlp = English()\n",
    "\n",
    "# Add a sentencizer pipeline, see https://spacy.io/api/sentencizer/ \n",
    "nlp.add_pipe(\"sentencizer\")\n",
    "\n",
    "# Create a document instance as an example\n",
    "doc = nlp(\"This is a sentence. This another sentence.\")\n",
    "assert len(list(doc.sents)) == 2\n",
    "\n",
    "# Access the sentences of the document\n",
    "list(doc.sents)"
   ]
  },
  {
   "cell_type": "code",
   "execution_count": 14,
   "metadata": {},
   "outputs": [
    {
     "name": "stderr",
     "output_type": "stream",
     "text": [
      "100%|██████████| 1/1 [00:00<00:00, 88.14it/s]\n"
     ]
    }
   ],
   "source": [
    "for item in tqdm(pages_and_texts):\n",
    "    item[\"sentences\"] = list(nlp(item[\"text\"]).sents)\n",
    "    \n",
    "    # Make sure all sentences are strings\n",
    "    item[\"sentences\"] = [str(sentence) for sentence in item[\"sentences\"]]\n",
    "    \n",
    "    # Count the sentences \n",
    "    item[\"page_sentence_count_spacy\"] = len(item[\"sentences\"])"
   ]
  },
  {
   "cell_type": "code",
   "execution_count": 15,
   "metadata": {},
   "outputs": [
    {
     "data": {
      "text/html": [
       "<div>\n",
       "<style scoped>\n",
       "    .dataframe tbody tr th:only-of-type {\n",
       "        vertical-align: middle;\n",
       "    }\n",
       "\n",
       "    .dataframe tbody tr th {\n",
       "        vertical-align: top;\n",
       "    }\n",
       "\n",
       "    .dataframe thead th {\n",
       "        text-align: right;\n",
       "    }\n",
       "</style>\n",
       "<table border=\"1\" class=\"dataframe\">\n",
       "  <thead>\n",
       "    <tr style=\"text-align: right;\">\n",
       "      <th></th>\n",
       "      <th>page_number</th>\n",
       "      <th>page_char_count</th>\n",
       "      <th>page_word_count</th>\n",
       "      <th>page_sentence_count_raw</th>\n",
       "      <th>page_token_count</th>\n",
       "      <th>page_sentence_count_spacy</th>\n",
       "    </tr>\n",
       "  </thead>\n",
       "  <tbody>\n",
       "    <tr>\n",
       "      <th>count</th>\n",
       "      <td>1.0</td>\n",
       "      <td>1.0</td>\n",
       "      <td>1.0</td>\n",
       "      <td>1.0</td>\n",
       "      <td>1.0</td>\n",
       "      <td>1.0</td>\n",
       "    </tr>\n",
       "    <tr>\n",
       "      <th>mean</th>\n",
       "      <td>0.0</td>\n",
       "      <td>3560.0</td>\n",
       "      <td>640.0</td>\n",
       "      <td>36.0</td>\n",
       "      <td>890.0</td>\n",
       "      <td>33.0</td>\n",
       "    </tr>\n",
       "    <tr>\n",
       "      <th>std</th>\n",
       "      <td>NaN</td>\n",
       "      <td>NaN</td>\n",
       "      <td>NaN</td>\n",
       "      <td>NaN</td>\n",
       "      <td>NaN</td>\n",
       "      <td>NaN</td>\n",
       "    </tr>\n",
       "    <tr>\n",
       "      <th>min</th>\n",
       "      <td>0.0</td>\n",
       "      <td>3560.0</td>\n",
       "      <td>640.0</td>\n",
       "      <td>36.0</td>\n",
       "      <td>890.0</td>\n",
       "      <td>33.0</td>\n",
       "    </tr>\n",
       "    <tr>\n",
       "      <th>25%</th>\n",
       "      <td>0.0</td>\n",
       "      <td>3560.0</td>\n",
       "      <td>640.0</td>\n",
       "      <td>36.0</td>\n",
       "      <td>890.0</td>\n",
       "      <td>33.0</td>\n",
       "    </tr>\n",
       "    <tr>\n",
       "      <th>50%</th>\n",
       "      <td>0.0</td>\n",
       "      <td>3560.0</td>\n",
       "      <td>640.0</td>\n",
       "      <td>36.0</td>\n",
       "      <td>890.0</td>\n",
       "      <td>33.0</td>\n",
       "    </tr>\n",
       "    <tr>\n",
       "      <th>75%</th>\n",
       "      <td>0.0</td>\n",
       "      <td>3560.0</td>\n",
       "      <td>640.0</td>\n",
       "      <td>36.0</td>\n",
       "      <td>890.0</td>\n",
       "      <td>33.0</td>\n",
       "    </tr>\n",
       "    <tr>\n",
       "      <th>max</th>\n",
       "      <td>0.0</td>\n",
       "      <td>3560.0</td>\n",
       "      <td>640.0</td>\n",
       "      <td>36.0</td>\n",
       "      <td>890.0</td>\n",
       "      <td>33.0</td>\n",
       "    </tr>\n",
       "  </tbody>\n",
       "</table>\n",
       "</div>"
      ],
      "text/plain": [
       "       page_number  page_char_count  page_word_count  page_sentence_count_raw  \\\n",
       "count          1.0              1.0              1.0                      1.0   \n",
       "mean           0.0           3560.0            640.0                     36.0   \n",
       "std            NaN              NaN              NaN                      NaN   \n",
       "min            0.0           3560.0            640.0                     36.0   \n",
       "25%            0.0           3560.0            640.0                     36.0   \n",
       "50%            0.0           3560.0            640.0                     36.0   \n",
       "75%            0.0           3560.0            640.0                     36.0   \n",
       "max            0.0           3560.0            640.0                     36.0   \n",
       "\n",
       "       page_token_count  page_sentence_count_spacy  \n",
       "count               1.0                        1.0  \n",
       "mean              890.0                       33.0  \n",
       "std                 NaN                        NaN  \n",
       "min               890.0                       33.0  \n",
       "25%               890.0                       33.0  \n",
       "50%               890.0                       33.0  \n",
       "75%               890.0                       33.0  \n",
       "max               890.0                       33.0  "
      ]
     },
     "execution_count": 15,
     "metadata": {},
     "output_type": "execute_result"
    }
   ],
   "source": [
    "\n",
    "df = pd.DataFrame(pages_and_texts)\n",
    "df.describe().round(2)"
   ]
  },
  {
   "cell_type": "code",
   "execution_count": 16,
   "metadata": {},
   "outputs": [
    {
     "name": "stderr",
     "output_type": "stream",
     "text": [
      "100%|██████████| 1/1 [00:00<00:00, 17476.27it/s]\n"
     ]
    }
   ],
   "source": [
    "# Define split size to turn groups of sentences into chunks\n",
    "num_sentence_chunk_size = 18\n",
    "\n",
    "# Create a function that recursively splits a list into desired sizes\n",
    "def split_list(input_list: list, \n",
    "               slice_size: int) -> list[list[str]]:\n",
    "    \"\"\"\n",
    "    Splits the input_list into sublists of size slice_size (or as close as possible).\n",
    "\n",
    "    For example, a list of 17 sentences would be split into two lists of [[10], [7]]\n",
    "    \"\"\"\n",
    "    return [input_list[i:i + slice_size] for i in range(0, len(input_list), slice_size)]\n",
    "\n",
    "# Loop through pages and texts and split sentences into chunks\n",
    "for item in tqdm(pages_and_texts):\n",
    "    item[\"sentence_chunks\"] = split_list(input_list=item[\"sentences\"],\n",
    "                                         slice_size=num_sentence_chunk_size)\n",
    "    item[\"num_chunks\"] = len(item[\"sentence_chunks\"])"
   ]
  },
  {
   "cell_type": "code",
   "execution_count": 17,
   "metadata": {},
   "outputs": [
    {
     "data": {
      "text/plain": [
       "[{'page_number': 0,\n",
       "  'page_char_count': 3560,\n",
       "  'page_word_count': 640,\n",
       "  'page_sentence_count_raw': 36,\n",
       "  'page_token_count': 890.0,\n",
       "  'text': '1.   2.   3.   1.   2.   a.   b.   3.   4.   a.   LYNX_Chatbot User Creation in TTI: User creation is managed by company fleet managers. Navigate to company management and select action button and add user. for adding user fleet manager needs to select the company for which user needs to be added and than the required data asked in the  stepper form to create the user. Once user is created by fleet manager created user will get the email from OKTA where they get the link to activate the account. Once  user activated the account. They can use the credentials to login to the lynx fleet application. Password reset: User can reset the password from the login screen of the lynx fleet application. Company tiering: feature users have access to depends on company tiering level. we have   tiering available for each company. access, core and enhance Feature Access Details: API Portal: Available in Access, Core, Enhance Live Map View: Available in Access, Core Live Map View - Geofence: Available in Access, Core Live Grid View: Available in Access, Core Live Grid View - 2 Way Commands: Available in Core Live Grid View - Advanced 2-Way Commands: Available in Enhance Widget - KPI: Available in Access, Core, Enhance Asset Tracking - Replay: Available in Access, Core, Enhance Asset Tracking - Temperature Chart: Available in Access, Core, Enhance Asset Tracking - Asset History: Available in Access, Core, Enhance Alerts & Notifications: Available in Access, Core, Enhance Reports: Available in Access, Core, Enhance Company Management: Available in Access, Core, Enhance Command History: Available in Access, Core, Enhance Asset History: After the user clicks on an asset name on the  , they are directed to the   page. To view data  Asset Tracking Page Asset History for a specific time period, the user can choose from: One of the predefined time intervals:  ,  , or  . 24 hours 48 hours 7 days A  , where the user can select a specific date and time, down to the second. Note that the custom period is limited to 7  custom time range days due to the large data volume. Need of beacon Sensors: fleet manager would like to know which truck/tractor is near my trailer to ensure the trailer is on the correct route. Sometimes, the situation occurs where the trailer gets hitched to the wrong truck and ends up going to the wrong destination. This results in our  customers experiencing lost time and revenue. : Process to commission beacon sensors The beacons will be installed on the back of trucks The beacons will be commissioned in Lynx Fleet and associated with a truck. The Carrier team member will enter the beacon sensor MAC  ID, truck license plate number, and truck description during commissioning. Beacon sensors can be commissioned individually. Beacon sensors can be commissioned via bulk upload When a company opts into beacon sensors, a remote command must be sent from Lynx Fleet to all their devices to enable beacon  detection. An FMC can detect up to 100 beacon sensors. Each sensor detected will have its MAC ID and signal strength collected by the FMC every  2 minutes. This data will be stored in Flespi and associated with the trailer/device. Lynx Fleet can use GPS movement and signal strength to determine which trailer ID is moving with which truck/beacon. Screens Auto Refresh: In the lynx portal carrier loader will come only when we have access token which is expired (expiry is 1hr). In that case  new token request is made and new token is being saved to the local storage and that is used for making further network calls.',\n",
       "  'sentences': ['1.',\n",
       "   '  2.',\n",
       "   '  3.',\n",
       "   '  1.',\n",
       "   '  2.',\n",
       "   '  a.   b.   3.',\n",
       "   '  4.',\n",
       "   '  a.   LYNX_Chatbot User Creation in TTI: User creation is managed by company fleet managers.',\n",
       "   'Navigate to company management and select action button and add user.',\n",
       "   'for adding user fleet manager needs to select the company for which user needs to be added and than the required data asked in the  stepper form to create the user.',\n",
       "   'Once user is created by fleet manager created user will get the email from OKTA where they get the link to activate the account.',\n",
       "   'Once  user activated the account.',\n",
       "   'They can use the credentials to login to the lynx fleet application.',\n",
       "   'Password reset: User can reset the password from the login screen of the lynx fleet application.',\n",
       "   'Company tiering: feature users have access to depends on company tiering level.',\n",
       "   'we have   tiering available for each company.',\n",
       "   'access, core and enhance Feature Access Details: API Portal: Available in Access, Core, Enhance Live Map View: Available in Access, Core Live Map View - Geofence: Available in Access, Core Live Grid View: Available in Access, Core Live Grid View - 2 Way Commands: Available in Core Live Grid View - Advanced 2-Way Commands: Available in Enhance Widget - KPI: Available in Access, Core, Enhance Asset Tracking - Replay: Available in Access, Core, Enhance Asset Tracking - Temperature Chart: Available in Access, Core, Enhance Asset Tracking - Asset History: Available in Access, Core, Enhance Alerts & Notifications: Available in Access, Core, Enhance Reports: Available in Access, Core, Enhance Company Management: Available in Access, Core, Enhance Command History: Available in Access, Core, Enhance Asset History: After the user clicks on an asset name on the  , they are directed to the   page.',\n",
       "   'To view data  Asset Tracking Page Asset History for a specific time period, the user can choose from: One of the predefined time intervals:  ,  , or  .',\n",
       "   '24 hours 48 hours 7 days A  , where the user can select a specific date and time, down to the second.',\n",
       "   'Note that the custom period is limited to 7  custom time range days due to the large data volume.',\n",
       "   'Need of beacon Sensors: fleet manager would like to know which truck/tractor is near my trailer to ensure the trailer is on the correct route.',\n",
       "   'Sometimes, the situation occurs where the trailer gets hitched to the wrong truck and ends up going to the wrong destination.',\n",
       "   'This results in our  customers experiencing lost time and revenue. :',\n",
       "   'Process to commission beacon sensors The beacons will be installed on the back of trucks The beacons will be commissioned in Lynx Fleet and associated with a truck.',\n",
       "   'The Carrier team member will enter the beacon sensor MAC  ID, truck license plate number, and truck description during commissioning.',\n",
       "   'Beacon sensors can be commissioned individually.',\n",
       "   'Beacon sensors can be commissioned via bulk upload When a company opts into beacon sensors, a remote command must be sent from Lynx Fleet to all their devices to enable beacon  detection.',\n",
       "   'An FMC can detect up to 100 beacon sensors.',\n",
       "   'Each sensor detected will have its MAC ID and signal strength collected by the FMC every  2 minutes.',\n",
       "   'This data will be stored in Flespi and associated with the trailer/device.',\n",
       "   'Lynx Fleet can use GPS movement and signal strength to determine which trailer ID is moving with which truck/beacon.',\n",
       "   'Screens Auto Refresh: In the lynx portal carrier loader will come only when we have access token which is expired (expiry is 1hr).',\n",
       "   'In that case  new token request is made and new token is being saved to the local storage and that is used for making further network calls.'],\n",
       "  'page_sentence_count_spacy': 33,\n",
       "  'sentence_chunks': [['1.',\n",
       "    '  2.',\n",
       "    '  3.',\n",
       "    '  1.',\n",
       "    '  2.',\n",
       "    '  a.   b.   3.',\n",
       "    '  4.',\n",
       "    '  a.   LYNX_Chatbot User Creation in TTI: User creation is managed by company fleet managers.',\n",
       "    'Navigate to company management and select action button and add user.',\n",
       "    'for adding user fleet manager needs to select the company for which user needs to be added and than the required data asked in the  stepper form to create the user.',\n",
       "    'Once user is created by fleet manager created user will get the email from OKTA where they get the link to activate the account.',\n",
       "    'Once  user activated the account.',\n",
       "    'They can use the credentials to login to the lynx fleet application.',\n",
       "    'Password reset: User can reset the password from the login screen of the lynx fleet application.',\n",
       "    'Company tiering: feature users have access to depends on company tiering level.',\n",
       "    'we have   tiering available for each company.',\n",
       "    'access, core and enhance Feature Access Details: API Portal: Available in Access, Core, Enhance Live Map View: Available in Access, Core Live Map View - Geofence: Available in Access, Core Live Grid View: Available in Access, Core Live Grid View - 2 Way Commands: Available in Core Live Grid View - Advanced 2-Way Commands: Available in Enhance Widget - KPI: Available in Access, Core, Enhance Asset Tracking - Replay: Available in Access, Core, Enhance Asset Tracking - Temperature Chart: Available in Access, Core, Enhance Asset Tracking - Asset History: Available in Access, Core, Enhance Alerts & Notifications: Available in Access, Core, Enhance Reports: Available in Access, Core, Enhance Company Management: Available in Access, Core, Enhance Command History: Available in Access, Core, Enhance Asset History: After the user clicks on an asset name on the  , they are directed to the   page.',\n",
       "    'To view data  Asset Tracking Page Asset History for a specific time period, the user can choose from: One of the predefined time intervals:  ,  , or  .'],\n",
       "   ['24 hours 48 hours 7 days A  , where the user can select a specific date and time, down to the second.',\n",
       "    'Note that the custom period is limited to 7  custom time range days due to the large data volume.',\n",
       "    'Need of beacon Sensors: fleet manager would like to know which truck/tractor is near my trailer to ensure the trailer is on the correct route.',\n",
       "    'Sometimes, the situation occurs where the trailer gets hitched to the wrong truck and ends up going to the wrong destination.',\n",
       "    'This results in our  customers experiencing lost time and revenue. :',\n",
       "    'Process to commission beacon sensors The beacons will be installed on the back of trucks The beacons will be commissioned in Lynx Fleet and associated with a truck.',\n",
       "    'The Carrier team member will enter the beacon sensor MAC  ID, truck license plate number, and truck description during commissioning.',\n",
       "    'Beacon sensors can be commissioned individually.',\n",
       "    'Beacon sensors can be commissioned via bulk upload When a company opts into beacon sensors, a remote command must be sent from Lynx Fleet to all their devices to enable beacon  detection.',\n",
       "    'An FMC can detect up to 100 beacon sensors.',\n",
       "    'Each sensor detected will have its MAC ID and signal strength collected by the FMC every  2 minutes.',\n",
       "    'This data will be stored in Flespi and associated with the trailer/device.',\n",
       "    'Lynx Fleet can use GPS movement and signal strength to determine which trailer ID is moving with which truck/beacon.',\n",
       "    'Screens Auto Refresh: In the lynx portal carrier loader will come only when we have access token which is expired (expiry is 1hr).',\n",
       "    'In that case  new token request is made and new token is being saved to the local storage and that is used for making further network calls.']],\n",
       "  'num_chunks': 2}]"
      ]
     },
     "execution_count": 17,
     "metadata": {},
     "output_type": "execute_result"
    }
   ],
   "source": [
    "# Sample an example from the group (note: many samples have only 1 chunk as they have <=10 sentences total)\n",
    "random.sample(pages_and_texts, k=1)"
   ]
  },
  {
   "cell_type": "code",
   "execution_count": 18,
   "metadata": {},
   "outputs": [
    {
     "data": {
      "text/html": [
       "<div>\n",
       "<style scoped>\n",
       "    .dataframe tbody tr th:only-of-type {\n",
       "        vertical-align: middle;\n",
       "    }\n",
       "\n",
       "    .dataframe tbody tr th {\n",
       "        vertical-align: top;\n",
       "    }\n",
       "\n",
       "    .dataframe thead th {\n",
       "        text-align: right;\n",
       "    }\n",
       "</style>\n",
       "<table border=\"1\" class=\"dataframe\">\n",
       "  <thead>\n",
       "    <tr style=\"text-align: right;\">\n",
       "      <th></th>\n",
       "      <th>page_number</th>\n",
       "      <th>page_char_count</th>\n",
       "      <th>page_word_count</th>\n",
       "      <th>page_sentence_count_raw</th>\n",
       "      <th>page_token_count</th>\n",
       "      <th>page_sentence_count_spacy</th>\n",
       "      <th>num_chunks</th>\n",
       "    </tr>\n",
       "  </thead>\n",
       "  <tbody>\n",
       "    <tr>\n",
       "      <th>count</th>\n",
       "      <td>1.0</td>\n",
       "      <td>1.0</td>\n",
       "      <td>1.0</td>\n",
       "      <td>1.0</td>\n",
       "      <td>1.0</td>\n",
       "      <td>1.0</td>\n",
       "      <td>1.0</td>\n",
       "    </tr>\n",
       "    <tr>\n",
       "      <th>mean</th>\n",
       "      <td>0.0</td>\n",
       "      <td>3560.0</td>\n",
       "      <td>640.0</td>\n",
       "      <td>36.0</td>\n",
       "      <td>890.0</td>\n",
       "      <td>33.0</td>\n",
       "      <td>2.0</td>\n",
       "    </tr>\n",
       "    <tr>\n",
       "      <th>std</th>\n",
       "      <td>NaN</td>\n",
       "      <td>NaN</td>\n",
       "      <td>NaN</td>\n",
       "      <td>NaN</td>\n",
       "      <td>NaN</td>\n",
       "      <td>NaN</td>\n",
       "      <td>NaN</td>\n",
       "    </tr>\n",
       "    <tr>\n",
       "      <th>min</th>\n",
       "      <td>0.0</td>\n",
       "      <td>3560.0</td>\n",
       "      <td>640.0</td>\n",
       "      <td>36.0</td>\n",
       "      <td>890.0</td>\n",
       "      <td>33.0</td>\n",
       "      <td>2.0</td>\n",
       "    </tr>\n",
       "    <tr>\n",
       "      <th>25%</th>\n",
       "      <td>0.0</td>\n",
       "      <td>3560.0</td>\n",
       "      <td>640.0</td>\n",
       "      <td>36.0</td>\n",
       "      <td>890.0</td>\n",
       "      <td>33.0</td>\n",
       "      <td>2.0</td>\n",
       "    </tr>\n",
       "    <tr>\n",
       "      <th>50%</th>\n",
       "      <td>0.0</td>\n",
       "      <td>3560.0</td>\n",
       "      <td>640.0</td>\n",
       "      <td>36.0</td>\n",
       "      <td>890.0</td>\n",
       "      <td>33.0</td>\n",
       "      <td>2.0</td>\n",
       "    </tr>\n",
       "    <tr>\n",
       "      <th>75%</th>\n",
       "      <td>0.0</td>\n",
       "      <td>3560.0</td>\n",
       "      <td>640.0</td>\n",
       "      <td>36.0</td>\n",
       "      <td>890.0</td>\n",
       "      <td>33.0</td>\n",
       "      <td>2.0</td>\n",
       "    </tr>\n",
       "    <tr>\n",
       "      <th>max</th>\n",
       "      <td>0.0</td>\n",
       "      <td>3560.0</td>\n",
       "      <td>640.0</td>\n",
       "      <td>36.0</td>\n",
       "      <td>890.0</td>\n",
       "      <td>33.0</td>\n",
       "      <td>2.0</td>\n",
       "    </tr>\n",
       "  </tbody>\n",
       "</table>\n",
       "</div>"
      ],
      "text/plain": [
       "       page_number  page_char_count  page_word_count  page_sentence_count_raw  \\\n",
       "count          1.0              1.0              1.0                      1.0   \n",
       "mean           0.0           3560.0            640.0                     36.0   \n",
       "std            NaN              NaN              NaN                      NaN   \n",
       "min            0.0           3560.0            640.0                     36.0   \n",
       "25%            0.0           3560.0            640.0                     36.0   \n",
       "50%            0.0           3560.0            640.0                     36.0   \n",
       "75%            0.0           3560.0            640.0                     36.0   \n",
       "max            0.0           3560.0            640.0                     36.0   \n",
       "\n",
       "       page_token_count  page_sentence_count_spacy  num_chunks  \n",
       "count               1.0                        1.0         1.0  \n",
       "mean              890.0                       33.0         2.0  \n",
       "std                 NaN                        NaN         NaN  \n",
       "min               890.0                       33.0         2.0  \n",
       "25%               890.0                       33.0         2.0  \n",
       "50%               890.0                       33.0         2.0  \n",
       "75%               890.0                       33.0         2.0  \n",
       "max               890.0                       33.0         2.0  "
      ]
     },
     "execution_count": 18,
     "metadata": {},
     "output_type": "execute_result"
    }
   ],
   "source": [
    "# Create a DataFrame to get stats\n",
    "df = pd.DataFrame(pages_and_texts)\n",
    "df.describe().round(2)"
   ]
  },
  {
   "cell_type": "code",
   "execution_count": 19,
   "metadata": {},
   "outputs": [
    {
     "name": "stderr",
     "output_type": "stream",
     "text": [
      "100%|██████████| 1/1 [00:00<00:00, 2369.66it/s]\n"
     ]
    },
    {
     "data": {
      "text/plain": [
       "2"
      ]
     },
     "execution_count": 19,
     "metadata": {},
     "output_type": "execute_result"
    }
   ],
   "source": [
    "import re\n",
    "\n",
    "# Split each chunk into its own item\n",
    "pages_and_chunks = []\n",
    "for item in tqdm(pages_and_texts):\n",
    "    for sentence_chunk in item[\"sentence_chunks\"]:\n",
    "        chunk_dict = {}\n",
    "        chunk_dict[\"page_number\"] = item[\"page_number\"]\n",
    "        \n",
    "        # Join the sentences together into a paragraph-like structure, aka a chunk (so they are a single string)\n",
    "        joined_sentence_chunk = \"\".join(sentence_chunk).replace(\"  \", \" \").strip()\n",
    "        joined_sentence_chunk = re.sub(r'\\.([A-Z])', r'. \\1', joined_sentence_chunk) # \".A\" -> \". A\" for any full-stop/capital letter combo \n",
    "        chunk_dict[\"sentence_chunk\"] = joined_sentence_chunk\n",
    "\n",
    "        # Get stats about the chunk\n",
    "        chunk_dict[\"chunk_char_count\"] = len(joined_sentence_chunk)\n",
    "        chunk_dict[\"chunk_word_count\"] = len([word for word in joined_sentence_chunk.split(\" \")])\n",
    "        chunk_dict[\"chunk_token_count\"] = len(joined_sentence_chunk) / 4 # 1 token = ~4 characters\n",
    "        \n",
    "        pages_and_chunks.append(chunk_dict)\n",
    "\n",
    "# How many chunks do we have?\n",
    "len(pages_and_chunks)"
   ]
  },
  {
   "cell_type": "code",
   "execution_count": 20,
   "metadata": {},
   "outputs": [
    {
     "data": {
      "text/plain": [
       "[{'page_number': 0,\n",
       "  'sentence_chunk': '24 hours 48 hours 7 days A , where the user can select a specific date and time, down to the second. Note that the custom period is limited to 7 custom time range days due to the large data volume. Need of beacon Sensors: fleet manager would like to know which truck/tractor is near my trailer to ensure the trailer is on the correct route. Sometimes, the situation occurs where the trailer gets hitched to the wrong truck and ends up going to the wrong destination. This results in our customers experiencing lost time and revenue. :Process to commission beacon sensors The beacons will be installed on the back of trucks The beacons will be commissioned in Lynx Fleet and associated with a truck. The Carrier team member will enter the beacon sensor MAC ID, truck license plate number, and truck description during commissioning. Beacon sensors can be commissioned individually. Beacon sensors can be commissioned via bulk upload When a company opts into beacon sensors, a remote command must be sent from Lynx Fleet to all their devices to enable beacon detection. An FMC can detect up to 100 beacon sensors. Each sensor detected will have its MAC ID and signal strength collected by the FMC every 2 minutes. This data will be stored in Flespi and associated with the trailer/device. Lynx Fleet can use GPS movement and signal strength to determine which trailer ID is moving with which truck/beacon. Screens Auto Refresh: In the lynx portal carrier loader will come only when we have access token which is expired (expiry is 1hr). In that case new token request is made and new token is being saved to the local storage and that is used for making further network calls.',\n",
       "  'chunk_char_count': 1674,\n",
       "  'chunk_word_count': 291,\n",
       "  'chunk_token_count': 418.5}]"
      ]
     },
     "execution_count": 20,
     "metadata": {},
     "output_type": "execute_result"
    }
   ],
   "source": [
    "# View a random sample\n",
    "random.sample(pages_and_chunks, k=1)"
   ]
  },
  {
   "cell_type": "code",
   "execution_count": 21,
   "metadata": {},
   "outputs": [
    {
     "data": {
      "text/html": [
       "<div>\n",
       "<style scoped>\n",
       "    .dataframe tbody tr th:only-of-type {\n",
       "        vertical-align: middle;\n",
       "    }\n",
       "\n",
       "    .dataframe tbody tr th {\n",
       "        vertical-align: top;\n",
       "    }\n",
       "\n",
       "    .dataframe thead th {\n",
       "        text-align: right;\n",
       "    }\n",
       "</style>\n",
       "<table border=\"1\" class=\"dataframe\">\n",
       "  <thead>\n",
       "    <tr style=\"text-align: right;\">\n",
       "      <th></th>\n",
       "      <th>page_number</th>\n",
       "      <th>chunk_char_count</th>\n",
       "      <th>chunk_word_count</th>\n",
       "      <th>chunk_token_count</th>\n",
       "    </tr>\n",
       "  </thead>\n",
       "  <tbody>\n",
       "    <tr>\n",
       "      <th>count</th>\n",
       "      <td>2.0</td>\n",
       "      <td>2.00</td>\n",
       "      <td>2.00</td>\n",
       "      <td>2.00</td>\n",
       "    </tr>\n",
       "    <tr>\n",
       "      <th>mean</th>\n",
       "      <td>0.0</td>\n",
       "      <td>1761.00</td>\n",
       "      <td>301.50</td>\n",
       "      <td>440.25</td>\n",
       "    </tr>\n",
       "    <tr>\n",
       "      <th>std</th>\n",
       "      <td>0.0</td>\n",
       "      <td>123.04</td>\n",
       "      <td>14.85</td>\n",
       "      <td>30.76</td>\n",
       "    </tr>\n",
       "    <tr>\n",
       "      <th>min</th>\n",
       "      <td>0.0</td>\n",
       "      <td>1674.00</td>\n",
       "      <td>291.00</td>\n",
       "      <td>418.50</td>\n",
       "    </tr>\n",
       "    <tr>\n",
       "      <th>25%</th>\n",
       "      <td>0.0</td>\n",
       "      <td>1717.50</td>\n",
       "      <td>296.25</td>\n",
       "      <td>429.38</td>\n",
       "    </tr>\n",
       "    <tr>\n",
       "      <th>50%</th>\n",
       "      <td>0.0</td>\n",
       "      <td>1761.00</td>\n",
       "      <td>301.50</td>\n",
       "      <td>440.25</td>\n",
       "    </tr>\n",
       "    <tr>\n",
       "      <th>75%</th>\n",
       "      <td>0.0</td>\n",
       "      <td>1804.50</td>\n",
       "      <td>306.75</td>\n",
       "      <td>451.12</td>\n",
       "    </tr>\n",
       "    <tr>\n",
       "      <th>max</th>\n",
       "      <td>0.0</td>\n",
       "      <td>1848.00</td>\n",
       "      <td>312.00</td>\n",
       "      <td>462.00</td>\n",
       "    </tr>\n",
       "  </tbody>\n",
       "</table>\n",
       "</div>"
      ],
      "text/plain": [
       "       page_number  chunk_char_count  chunk_word_count  chunk_token_count\n",
       "count          2.0              2.00              2.00               2.00\n",
       "mean           0.0           1761.00            301.50             440.25\n",
       "std            0.0            123.04             14.85              30.76\n",
       "min            0.0           1674.00            291.00             418.50\n",
       "25%            0.0           1717.50            296.25             429.38\n",
       "50%            0.0           1761.00            301.50             440.25\n",
       "75%            0.0           1804.50            306.75             451.12\n",
       "max            0.0           1848.00            312.00             462.00"
      ]
     },
     "execution_count": 21,
     "metadata": {},
     "output_type": "execute_result"
    }
   ],
   "source": [
    "# Get stats about our chunks\n",
    "df = pd.DataFrame(pages_and_chunks)\n",
    "df.describe().round(2)"
   ]
  },
  {
   "cell_type": "code",
   "execution_count": 22,
   "metadata": {},
   "outputs": [
    {
     "name": "stdout",
     "output_type": "stream",
     "text": [
      "[{'page_number': 0, 'sentence_chunk': '1. 2. 3. 1. 2. a.  b.  3. 4. a.  LYNX_Chatbot User Creation in TTI: User creation is managed by company fleet managers. Navigate to company management and select action button and add user.for adding user fleet manager needs to select the company for which user needs to be added and than the required data asked in the stepper form to create the user. Once user is created by fleet manager created user will get the email from OKTA where they get the link to activate the account. Once user activated the account. They can use the credentials to login to the lynx fleet application. Password reset: User can reset the password from the login screen of the lynx fleet application. Company tiering: feature users have access to depends on company tiering level.we have  tiering available for each company.access, core and enhance Feature Access Details: API Portal: Available in Access, Core, Enhance Live Map View: Available in Access, Core Live Map View - Geofence: Available in Access, Core Live Grid View: Available in Access, Core Live Grid View - 2 Way Commands: Available in Core Live Grid View - Advanced 2-Way Commands: Available in Enhance Widget - KPI: Available in Access, Core, Enhance Asset Tracking - Replay: Available in Access, Core, Enhance Asset Tracking - Temperature Chart: Available in Access, Core, Enhance Asset Tracking - Asset History: Available in Access, Core, Enhance Alerts & Notifications: Available in Access, Core, Enhance Reports: Available in Access, Core, Enhance Company Management: Available in Access, Core, Enhance Command History: Available in Access, Core, Enhance Asset History: After the user clicks on an asset name on the , they are directed to the  page. To view data Asset Tracking Page Asset History for a specific time period, the user can choose from: One of the predefined time intervals: , , or .', 'chunk_char_count': 1848, 'chunk_word_count': 312, 'chunk_token_count': 462.0}, {'page_number': 0, 'sentence_chunk': '24 hours 48 hours 7 days A , where the user can select a specific date and time, down to the second. Note that the custom period is limited to 7 custom time range days due to the large data volume. Need of beacon Sensors: fleet manager would like to know which truck/tractor is near my trailer to ensure the trailer is on the correct route. Sometimes, the situation occurs where the trailer gets hitched to the wrong truck and ends up going to the wrong destination. This results in our customers experiencing lost time and revenue. :Process to commission beacon sensors The beacons will be installed on the back of trucks The beacons will be commissioned in Lynx Fleet and associated with a truck. The Carrier team member will enter the beacon sensor MAC ID, truck license plate number, and truck description during commissioning. Beacon sensors can be commissioned individually. Beacon sensors can be commissioned via bulk upload When a company opts into beacon sensors, a remote command must be sent from Lynx Fleet to all their devices to enable beacon detection. An FMC can detect up to 100 beacon sensors. Each sensor detected will have its MAC ID and signal strength collected by the FMC every 2 minutes. This data will be stored in Flespi and associated with the trailer/device. Lynx Fleet can use GPS movement and signal strength to determine which trailer ID is moving with which truck/beacon. Screens Auto Refresh: In the lynx portal carrier loader will come only when we have access token which is expired (expiry is 1hr). In that case new token request is made and new token is being saved to the local storage and that is used for making further network calls.', 'chunk_char_count': 1674, 'chunk_word_count': 291, 'chunk_token_count': 418.5}]\n"
     ]
    }
   ],
   "source": [
    "\n",
    "pages_and_chunks_over_min_token_len = df.to_dict(orient=\"records\")\n",
    "# pages_and_chunks_over_min_token_len[:2]\n",
    "print(pages_and_chunks_over_min_token_len)"
   ]
  },
  {
   "cell_type": "code",
   "execution_count": 31,
   "metadata": {},
   "outputs": [
    {
     "name": "stdout",
     "output_type": "stream",
     "text": [
      "api_key=SecretStr('**********') model_name='sentence-transformers/all-mpnet-base-v2' api_url=None additional_headers={}\n"
     ]
    }
   ],
   "source": [
    "# # Requires !pip install sentence-transformers\n",
    "# from sentence_transformers import SentenceTransformer\n",
    "# embedding_model = SentenceTransformer(model_name_or_path=\"dunzhang/stella_en_1.5B_v5\", \n",
    "#                                       device=\"mps\") # choose the device to load the model to (note: GPU will often be *much* faster than CPU)\n",
    "\n",
    "from langchain_community.embeddings import HuggingFaceInferenceAPIEmbeddings ## embeddings using Interface endpoint\n",
    "\n",
    "embeddings = HuggingFaceInferenceAPIEmbeddings(api_key= os.environ['HUGGING_API_KEY'], model_name=\"sentence-transformers/all-mpnet-base-v2\")\n",
    "# embeddings = HuggingFaceEndpointEmbeddings() ## embedding using local huggingface\n",
    "print(embeddings)\n"
   ]
  },
  {
   "cell_type": "code",
   "execution_count": 24,
   "metadata": {},
   "outputs": [
    {
     "name": "stdout",
     "output_type": "stream",
     "text": [
      "{'The Sentences Transformers library provides an easy and open-source way to create embeddings.': [-0.020798319950699806, 0.030316464602947235, -0.020121799781918526, 0.06864849478006363, -0.02552560716867447, -0.008476873859763145, -0.00020723622583318502, -0.0632377415895462, 0.0281606987118721, -0.033335376530885696, 0.03026341088116169, 0.05307215824723244, -0.05035270005464554, 0.026228871196508408, 0.03333137184381485, -0.045157741755247116, 0.036304496228694916, -0.0013711730716750026, -0.012017124332487583, 0.0114947110414505, 0.05045110359787941, 0.047085680067539215, 0.021191375330090523, 0.05146066099405289, -0.020374629646539688, -0.03588895872235298, -0.0006677835481241345, -0.02943938970565796, 0.04958592355251312, -0.010563945397734642, -0.015201376751065254, -0.0013175965286791325, 0.044819723814725876, 0.015602342784404755, 8.603794299233414e-07, -0.0012139284517616034, -0.023797864094376564, -0.0009093867265619338, 0.007344875484704971, -0.0025393629912286997, 0.05233704671263695, -0.04680436849594116, 0.01662147417664528, 0.04715794324874878, -0.041559915989637375, 0.0009019761346280575, 0.03602779656648636, 0.03422144055366516, 0.09682273119688034, 0.05948290973901749, -0.016498461365699768, -0.03512495756149292, 0.005925143137574196, -0.0007078744820319116, -0.024103151634335518, 0.03497409448027611, -0.02947467565536499, 0.006042645312845707, -0.009806509129703045, 0.028321800753474236, -0.018537599593400955, 0.036321282386779785, 0.013029241934418678, -0.03712328150868416, 0.052725650370121, -0.01197066344320774, -0.07180831581354141, 0.012443200685083866, -0.006705637089908123, 0.07421546429395676, 0.01163560338318348, -0.01745338924229145, -0.018240593373775482, -0.018893159925937653, 0.02824150025844574, 0.01328294724225998, -0.035190973430871964, 0.0008873060578480363, 0.05795727297663689, 0.03220938891172409, -0.003485779743641615, 0.04137689992785454, 0.014435834251344204, -0.0328044556081295, -0.009790834039449692, -0.03164928779006004, 0.042387090623378754, -0.047084685415029526, -0.02089366503059864, -0.01912495866417885, -0.012262750416994095, 0.0101606585085392, 0.03919210657477379, -0.026189619675278664, 0.010902821086347103, 0.01357231754809618, -0.057926714420318604, -0.03214998170733452, -0.005757246632128954, -0.024351580068469048, 0.052341677248477936, 0.005461244378238916, -0.023099644109606743, 0.0025717425160109997, -0.06633474677801132, 0.03541254624724388, -0.01039072684943676, 0.022541021928191185, -0.018457408994436264, -0.024200735613703728, -0.0478365495800972, -0.004792243707925081, -0.05341382697224617, 0.03017904981970787, -0.015613085590302944, -0.0551476925611496, -0.039187438786029816, 0.05921528488397598, -0.03476467728614807, 0.009681248106062412, 0.021341556683182716, 0.023041697219014168, 0.019171303138136864, 0.027737848460674286, -0.007735070772469044, 0.010444586165249348, -0.02677200920879841, -0.024020036682486534, -0.019229067489504814, 0.003915028180927038, -0.02547147311270237, 0.036194317042827606, 0.051286716014146805, -0.008416901342570782, -0.031383030116558075, 0.014748319052159786, 0.021394049748778343, -0.038490090519189835, 0.020194483920931816, 0.012076610699295998, -0.0031206447165459394, 0.007840348407626152, 0.0033033776562660933, -0.049435727298259735, 0.05838866904377937, 0.00326137593947351, 0.00484482292085886, -0.04506821557879448, 0.02456829883158207, 0.03554282709956169, -0.05325061082839966, 0.09211532026529312, 0.020439496263861656, -0.03369518741965294, -0.06198038160800934, -0.021103912964463234, 0.07823587954044342, 0.0511908158659935, 0.05931704118847847, -0.0001251013163710013, 0.049635015428066254, -0.015572285279631615, -0.0033567838836461306, 0.018201613798737526, -0.027344444766640663, -0.01087724044919014, 0.014147618785500526, 0.010987784713506699, 0.004325610585510731, 0.08233112096786499, -0.0009853893425315619, 0.07587910443544388, 0.0094499746337533, 0.02376875840127468, 0.016192778944969177, 0.062499385327100754, 0.047592245042324066, -0.003926280420273542, 0.09075245261192322, 0.044987451285123825, -0.034713178873062134, 0.0214077178388834, -0.03356045484542847, 0.04938490688800812, 0.01086695771664381, 0.02634473703801632, -0.03260895237326622, 0.08003030717372894, 0.009297656826674938, 0.007165808230638504, -0.027917252853512764, -0.030682150274515152, 0.004010629374533892, -0.04939069226384163, -0.0031376793049275875, 0.040053755044937134, -0.03978554159402847, 0.054801397025585175, 1.3629448403662536e-05, -0.08383733779191971, -0.012154764495790005, 0.03409498929977417, 0.003224048763513565, 0.06118462234735489, 0.05600668489933014, 0.009628667496144772, 0.02546164207160473, -0.04641689732670784, -0.039890095591545105, 0.07681320607662201, 0.022840876132249832, -0.022656885907053947, -0.019119353964924812, -0.06530294567346573, 0.04567812755703926, -0.004436585120856762, 0.014963171444833279, -0.021507779136300087, 0.0027424900326877832, 0.019035814329981804, 0.0591888427734375, -0.024756895378232002, 0.03661448881030083, 0.056308407336473465, -0.008864468894898891, -0.01743248477578163, -0.0010328679345548153, 0.02476668171584606, 0.01307632215321064, 0.05046331509947777, -0.005284919403493404, 0.05923973396420479, 0.06299065053462982, -0.043678347021341324, -0.04978303983807564, 0.055629655718803406, -0.024485383182764053, -0.0826754942536354, 0.02049105055630207, -0.10644620656967163, 0.006648417096585035, 0.02973046898841858, -0.02364403009414673, -0.008846178650856018, 0.0024555744603276253, -0.033523377031087875, 0.07522126287221909, -0.05898800864815712, -0.03678086772561073, 0.0341542512178421, 0.05411311611533165, -0.0174904502928257, 0.013392112217843533, 0.047168292105197906, 0.014611629769206047, -0.021231163293123245, -0.0655338391661644, 0.01238580234348774, 0.02760745957493782, -0.008021621033549309, -0.04596365988254547, -0.00822441279888153, 0.00916957762092352, -0.01563994772732258, 0.00754619250074029, 0.001583085861057043, -0.03039582632482052, -0.05106709524989128, 0.019631361588835716, 0.012626320123672485, -0.0015173547435551882, 0.020289147272706032, 0.013781723566353321, 0.014911076985299587, 0.02507670409977436, -0.036287058144807816, 0.010808524675667286, 0.0027413377538323402, 0.018151085823774338, 0.053987205028533936, -0.047454219311475754, -0.042873114347457886, -0.028991395607590675, 0.02132355235517025, -0.03851616010069847, 0.06319229304790497, -0.0577976368367672, 0.003778903279453516, -0.025439415127038956, -0.00017723633209243417, 0.009082484059035778, 0.01590951345860958, 0.04117998853325844, -0.039436761289834976, -0.009644358418881893, 0.013079164549708366, 0.06879621744155884, 0.043219249695539474, 0.0007539581274613738, 0.06777416169643402, 0.04937058687210083, -0.0034782334696501493, -0.0106055224314332, 0.006724935956299305, -0.013906234875321388, 0.048827674239873886, -0.010573525913059711, 0.003502258798107505, 0.0029022106900811195, 0.024004381150007248, 0.012027166783809662, -0.020979756489396095, -0.023911219090223312, 0.032657936215400696, -0.0010132959578186274, -0.005927524529397488, -0.0074053071439266205, 0.003631462110206485, -0.022669851779937744, -0.022124169394373894, 0.03869964927434921, 0.017232181504368782, 0.03859201446175575, -0.05047113820910454, -0.03421451523900032, -0.040044378489255905, -0.03579111024737358, -0.04625614732503891, 0.06702325493097305, -0.004616515710949898, -0.0032967394217848778, 0.020844431594014168, -0.005142587702721357, -0.05008496344089508, 0.022250378504395485, 0.04669339582324028, 0.013620869256556034, 0.01775301992893219, 0.004280848428606987, -0.027933238074183464, -0.01934206113219261, -0.03878600150346756, -0.03095548413693905, -0.06641342490911484, -0.011343399062752724, 0.01642681285738945, 0.017762890085577965, -0.0022822122555226088, -0.03300871700048447, -0.0013625911669805646, -0.021793439984321594, -0.026750877499580383, -0.01263754814863205, 0.0016187136061489582, -0.04956723377108574, 0.07854460179805756, 0.04109624773263931, 0.009659206494688988, -0.01146432664245367, 0.0016885962104424834, 0.05376631021499634, 0.0020553036592900753, -0.0411200113594532, 0.01463298313319683, -0.0375564768910408, -0.033568959683179855, 0.005192528013139963, -0.06330891698598862, 0.0332963690161705, 0.008761188015341759, 0.0013385816710069776, -0.0039574638940393925, -0.016167741268873215, 0.08267468214035034, 0.04759449511766434, -0.03430553898215294, 0.025088144466280937, -0.03509776294231415, 0.03686567768454552, 0.0041265287436544895, 0.04160181060433388, -0.13518168032169342, -0.0476338192820549, -0.012002615258097649, -0.03488917648792267, 0.0325455367565155, -0.0029357941821217537, -0.00485055148601532, -0.10422372072935104, 0.02786102704703808, 0.01415703259408474, 0.039439547806978226, -0.03888068348169327, -0.014246354810893536, -0.05199839174747467, 0.00892734993249178, -0.01997712068259716, -0.025172539055347443, -0.03412995859980583, 0.019304124638438225, -0.052020829170942307, -0.06720004975795746, -0.009463661350309849, -0.0012558617163449526, -0.05660486966371536, 0.026209836825728416, 0.00991586409509182, 0.04382864385843277, 0.002266435883939266, -0.03118954785168171, -0.06254676729440689, -0.03877933695912361, -0.06839393079280853, 0.04937215894460678, 0.05855073779821396, -0.04087292402982712, -0.019863808527588844, -0.021263400092720985, 0.04980374872684479, -0.045174919068813324, -0.023714227601885796, 0.023267466574907303, 0.10059486329555511, 0.009871194139122963, -0.013801496475934982, -0.05210413783788681, 0.00908206682652235, 0.017242800444364548, 0.05914314091205597, 0.026233676820993423, -0.007046382874250412, -0.015003210864961147, -0.0037666044663637877, 0.006282593123614788, -0.05239805951714516, -0.049663837999105453, 0.030661141499876976, -0.0033364722039550543, 0.02349112182855606, -0.08588296920061111, -0.04624491184949875, 0.055970098823308945, 0.0003090389946009964, 0.02017292007803917, -0.002980482531711459, 0.017664611339569092, 0.015466957353055477, -0.07417179644107819, 0.007349929306656122, -0.010501564480364323, 0.024524739012122154, 0.013687973842024803, -0.01178038027137518, 0.04515446349978447, 0.03290395066142082, -0.003503910033032298, -0.02713153138756752, -0.0527363196015358, -0.04601644352078438, 0.02228483557701111, 0.026227153837680817, 0.005561502650380135, 0.014578879810869694, -0.029714573174715042, 0.035704296082258224, 0.02225339412689209, 0.03896167874336243, -0.07926349341869354, -0.009010911919176579, 0.021901335567235947, -0.00549050560221076, 0.008699588477611542, 0.04330314323306084, -0.021263131871819496, 0.011329195462167263, -0.06336988508701324, 0.03637238219380379, 0.026744266971945763, -0.06642520427703857, 0.017049916088581085, -0.027969108894467354, 0.002363575855270028, -0.01819528080523014, 0.015295548364520073, -0.008504355326294899, 0.01166471466422081, -0.09759220480918884, -0.02920934557914734, -0.054254744201898575, 0.03612348809838295, 0.03251173719763756, 0.008269733749330044, -0.00029650586657226086, 0.011155554093420506, -0.03851884603500366, 0.023616140708327293, 0.009859234094619751, 0.05739988759160042, 0.048606131225824356, -0.013757903128862381, -0.00619223527610302, 0.011197327636182308, -0.03371751680970192, -0.01105159055441618, -0.07083337008953094, -0.010181684978306293, -0.03660108521580696, -0.015556108206510544, -0.021311074495315552, -0.010276027023792267, -0.043573420494794846, 0.05551862716674805, -0.03765476867556572, 0.052925270050764084, -0.0345223993062973, -0.0024300655350089073, 0.07255532592535019, 0.0044507309794425964, 0.0471416674554348, -0.009438825771212578, -0.019897891208529472, 0.057190004736185074, 0.08605414628982544, -0.052505817264318466, -0.013954989612102509, 0.0117373401299119, 0.013397442176938057, -0.047305285930633545, -0.05416742339730263, 0.04627256095409393, -0.025897040963172913, 0.015141542069613934, 0.03389450162649155, -0.0037825852632522583, -0.05760436877608299, -0.01600823551416397, 0.02427387237548828, 0.033736106008291245, -0.019682127982378006, -0.025346383452415466, -0.04756171256303787, -0.05687553063035011, -0.022819411009550095, 0.03831877559423447, -0.017833109945058823, 0.013596441596746445, 0.0007859903853386641, 0.00974009558558464, 0.033429887145757675, -0.026013389229774475, -0.007385677192360163, 0.03564511984586716, -0.026853268966078758, -0.07536248862743378, -0.026698365807533264, -4.464574564197081e-33, -0.033164650201797485, 0.014170353300869465, -0.03929094597697258, -0.034631866961717606, -0.00588670140132308, -0.01182121504098177, 0.015395160764455795, 0.01184738427400589, 0.010775741189718246, 0.03621402382850647, 0.007879547774791718, -0.023184580728411674, 0.010762309655547142, 0.017234599217772484, 0.0009542320040054619, 0.02836400642991066, 0.02374192513525486, -0.014805815182626247, 0.001241956022568047, 0.0035235618706792593, 0.023373577743768692, 0.05583077669143677, 0.05383283272385597, -0.037407923489809036, -0.021180560812354088, 0.00015267795242834836, -0.007277849595993757, 0.005505593493580818, 0.03058234415948391, 0.045463357120752335, -0.03357867896556854, 0.0316142775118351, -0.0025639357045292854, 0.03963550925254822, -0.014757335186004639, 0.05671680346131325, -0.0562787726521492, -0.005046026315540075, 0.035615451633930206, -0.027619902044534683, -0.023229196667671204, -0.046329230070114136, -0.037091974169015884, -0.04231889173388481, 0.037030670791864395, 0.007887196727097034, 0.03851759806275368, 0.0017477457877248526, 0.0056275902315974236, 0.006181095726788044, -0.0690268725156784, -0.009429633617401123, -0.007746730465441942, 0.016834992915391922, 0.012276817113161087, 0.02264062501490116, 0.01210087165236473, 0.011174350045621395, 0.012153944000601768, -0.011686221696436405, -0.04416128247976303, 0.023004690185189247, 0.022067243233323097, -0.05875043570995331, -0.0396428182721138, 0.06831353902816772, -0.032994791865348816, -0.036677535623311996, -0.03536548838019371, 0.017618492245674133, 0.006956413388252258, 0.05926928669214249, 0.04121562838554382, 0.0798109620809555, -0.005365635734051466, 0.011423885822296143, -0.02963883988559246, -0.011541171930730343, 0.022281259298324585, 0.007931845262646675, 0.0260356143116951, 0.012821233831346035, 0.017134573310613632, -0.00690188305452466, -0.010760330595076084, 0.013571435585618019, -0.0009907935746014118, -0.061607569456100464, 0.044051386415958405, -0.0008266161312349141, -0.027834083884954453, -0.012361901812255383, 0.013462989591062069, -0.03857453539967537, 0.001087042735889554, 0.021871233358979225, -0.03323984518647194, 0.018461568281054497, -0.00510111590847373, 0.037466518580913544, -0.0036754286848008633, -0.021924719214439392, -0.004964856430888176, -0.009598420932888985, 0.023359134793281555, 0.010487663559615612, 0.043872229754924774, -0.015142426826059818, -0.06303089112043381, 0.00823258701711893, -0.010913060978055, -0.04064095765352249, -0.06216912716627121, 0.022132640704512596, -0.027143454179167747, 0.040553972125053406, -0.008094459772109985, -0.0017641090089455247, 0.030152680352330208, -0.005422636400908232, -0.04698218032717705, -0.017376860603690147, 0.0411631315946579, 0.032063476741313934, -0.022294413298368454, -0.015816200524568558, -0.04507209360599518, 0.05694865807890892, 0.0471595898270607, -0.05780583992600441, 0.013247511349618435, -0.0047128694131970406, 1.6682449199834082e-07, 0.04810906574130058, 0.05036281421780586, 0.05452629178762436, 0.020756883546710014, -0.011908048763871193, -0.006374911405146122, 0.005263680592179298, 0.07219494879245758, -0.022176343947649002, 0.022010302171111107, -0.000990455038845539, -0.013716383837163448, 0.0068920208141207695, 0.024691328406333923, -0.13946205377578735, 0.002569822361692786, -0.04648265242576599, -0.04049672931432724, -0.06085560470819473, -0.015321263112127781, 0.1361299455165863, 0.0945034921169281, 0.042574189603328705, 0.04671314358711243, -0.023067805916070938, -0.012096592225134373, 0.03866731747984886, 0.0021164799109101295, -0.025147369131445885, -0.011507621966302395, -0.03465064987540245, -0.022953322157263756, -0.006338477600365877, -0.030517546460032463, -0.015623636543750763, 0.013951423577964306, 0.0003274794144090265, 0.002003192203119397, 0.004151047673076391, -0.02229251340031624, -0.03625895828008652, -0.02365794964134693, -0.018781743943691254, -0.01962890475988388, 0.04521255940198898, -0.08125686645507812, -0.02145691215991974, -0.0441543348133564, -0.026847535744309425, 0.02019740827381611, 0.002829937497153878, -0.019501160830259323, -0.03453307971358299, 0.022691328078508377, 0.03783262521028519, -0.01025441475212574, -0.002197595313191414, -0.08967448025941849, -0.045003097504377365, 0.008097019977867603, -0.020580565556883812, -0.020299850031733513, -0.02099221758544445, -0.017940493300557137, 0.0581897608935833, -0.007636507973074913, 0.015084723010659218, 1.782797550757165e-34, 0.048617925494909286, 0.04222282022237778, 0.047159530222415924, 0.058904752135276794, 0.03997856751084328, -0.05270717293024063, 0.015690552070736885, -0.0005250928807072341, 0.011365235783159733, -0.06564102321863174, -0.02208494022488594], 'Sentences can be embedded one by one or as a list of strings.': [0.04317179322242737, -0.05387025699019432, -0.037804435938596725, 0.04272359237074852, -0.023540878668427467, 0.0344860814511776, 0.02895870991051197, 0.001928193960338831, 0.024173345416784286, -0.031701263040304184, 0.07328559458255768, 0.012559005059301853, 0.036462072283029556, -0.020525125786662102, 0.028197405859827995, -0.06873288005590439, 0.042223162949085236, 0.0009317320073023438, 0.03540349006652832, 0.014178739860653877, 0.00783991627395153, 0.02311789058148861, -0.00484732910990715, 0.010717391036450863, 0.004394880495965481, 0.005478011444211006, -0.03803388774394989, -0.0030548872891813517, 0.005722262430936098, -0.06782141327857971, -0.048800770193338394, -0.014503244310617447, 0.006680143531411886, -0.07174800336360931, 1.6464485952383257e-06, 0.010756452567875385, -0.03609229624271393, -0.023705722764134407, -0.05227918550372124, 0.03461106866598129, -0.005421760492026806, 0.016261177137494087, 0.019656438380479813, 0.022539565339684486, -0.0022599510848522186, 0.040634192526340485, 0.08171574771404266, 0.024817947298288345, 0.05318846553564072, 0.07827150821685791, -0.019181380048394203, -0.019408689811825752, -0.026280514895915985, -0.024408303201198578, 0.054940592497587204, 0.019031889736652374, 0.016081184148788452, -0.026889555156230927, -0.008246946148574352, 0.07334451377391815, 0.010012314654886723, 0.02933156117796898, 0.0034286133013665676, -0.021327024325728416, -0.0016244241269305348, -0.005562548991292715, -0.07648797333240509, -0.05854504555463791, -0.028227228671312332, 0.007518445141613483, 0.07112259417772293, 0.001954545034095645, 0.005459274165332317, 0.0032231942750513554, 0.05128002539277077, -0.03541059046983719, -0.05036085844039917, 0.047051895409822464, 0.005154801998287439, 0.015228725969791412, -0.010668058879673481, 0.03162984177470207, -0.009090377017855644, -0.040132761001586914, -0.0435236319899559, -0.019496962428092957, 0.016560498625040054, -0.04711687192320824, -0.03920917585492134, -0.030775699764490128, -0.029416728764772415, -0.04208265244960785, 0.0022706876043230295, -0.027832942083477974, 0.016942178830504417, 0.007745011243969202, -0.052374210208654404, -0.04500400647521019, 0.03836052864789963, -0.04907868057489395, 0.050661906599998474, 0.010161531157791615, -0.012502183206379414, -0.004645504988729954, -0.015454011969268322, 0.015886278823018074, 0.01183703076094389, -0.0359233021736145, -0.07762255519628525, 0.03433583304286003, -0.02147098071873188, -0.06860988587141037, -0.05462365970015526, 0.07839015871286392, -0.030070239678025246, -0.03375505656003952, -0.040499862283468246, 0.048051562160253525, 0.009539023041725159, 0.023139940574765205, -0.08161149173974991, -0.006516971625387669, 0.015421319752931595, 0.07042576372623444, -0.012506883591413498, -0.02482668124139309, -0.017132863402366638, 0.00613109115511179, 0.054441288113594055, -0.014056657440960407, -0.0062451730482280254, 0.03657881170511246, 0.07362305372953415, -0.006056810729205608, -0.03616304695606232, -0.0014220885932445526, 0.044316619634628296, -0.0031451149843633175, 0.031876787543296814, -0.013094805181026459, -0.03695245832204819, -0.004980317782610655, 0.0013001852203160524, -0.02052132971584797, 0.020627755671739578, 0.005938705988228321, -0.0030716436449438334, -0.0397513173520565, 0.04298901557922363, 0.06498026102781296, -0.0676022469997406, 0.054165564477443695, 0.001525607192888856, -0.03729090094566345, -0.0402427613735199, -0.022877244278788567, 0.13176974654197693, 0.004878762178122997, 0.01394704356789589, 0.04924354329705238, 0.024921901524066925, -0.008760936558246613, -0.005387709941715002, -0.026559598743915558, -0.01197662204504013, -0.023200640454888344, -0.02674340084195137, 0.005669083911925554, 0.022172197699546814, 0.04672938585281372, -0.05784875899553299, 0.08221212029457092, -0.0033683418296277523, 0.08096476644277573, 0.01414231862872839, 0.10239306092262268, -0.00576829956844449, -0.011587769724428654, 0.049058493226766586, 0.058782972395420074, 0.06500305235385895, 0.04746216535568237, -0.028946414589881897, -0.00176586105953902, 0.033256106078624725, 0.029119834303855896, 0.06038111448287964, 0.00037348110345192254, 0.010657614096999168, -0.0596284493803978, -0.07286016643047333, 0.029508017003536224, 0.009544634260237217, -0.027154261246323586, -0.056330472230911255, 0.0009667553822509944, -0.04777293652296066, 0.04675769433379173, 0.004872558172792196, -0.06575195491313934, -0.014224808663129807, 0.03998728096485138, -0.010979745537042618, 0.07689416408538818, -0.04000040888786316, 0.029682651162147522, 0.028130337595939636, -0.05554250627756119, 0.006312648765742779, 0.05004502832889557, 0.018988406285643578, 0.05386839061975479, -0.019598180428147316, 0.010860120877623558, 0.016415046527981758, 0.014413541182875633, 0.017144905403256416, 0.021762531250715256, -0.0498863160610199, 0.015610510483384132, 0.0048373485915362835, 0.018705327063798904, -0.0031854272820055485, 0.026686305180191994, 0.05555529147386551, -0.04880063235759735, -0.03029293194413185, 0.025211025029420853, 0.010726473294198513, 0.01882704719901085, -0.01506880298256874, 0.03438322991132736, 0.04151250422000885, 0.013778921216726303, -0.055484917014837265, 0.014384844340384007, -0.05881396308541298, -0.06016764044761658, 0.026985613629221916, -0.054612983018159866, 0.008146341890096664, -0.011775875464081764, 0.015744294971227646, 0.001439021318219602, -0.0264554675668478, -0.04488764703273773, 0.04397328197956085, -0.00010618877422530204, -0.022590605542063713, 0.0300296600908041, 0.01974407210946083, 0.007440801709890366, -0.019378993660211563, 0.008097955025732517, 0.04348598048090935, -0.00010857050801860169, -0.037722546607255936, 0.02671961672604084, -0.046315696090459824, -0.0015340314712375402, 0.008053134195506573, -0.043090105056762695, -0.021384885534644127, 0.012018521316349506, 0.00841399747878313, 0.0024827064480632544, -0.030956676229834557, -0.0905277281999588, -0.04766936972737312, 0.012260633520781994, -0.013646703213453293, -0.026365503668785095, -0.0076555111445486546, 0.008723804727196693, 0.026572512462735176, 0.0008400538936257362, -0.005559257231652737, -0.009295392781496048, 0.0319337323307991, 0.05946468934416771, 0.01832052692770958, -0.07565467059612274, -0.05593887344002724, -0.012087083421647549, -0.031626105308532715, 0.03621871396899223, 0.007536044344305992, -0.06156542897224426, -0.023045919835567474, -0.0035166842862963676, 0.012333273887634277, -0.009676364250481129, 0.04968615248799324, -0.08422567695379257, 0.015239624306559563, -0.018244551494717598, 0.07704627513885498, 0.09287181496620178, 0.04037242755293846, 0.11173268407583237, -0.010327092371881008, -0.02545582689344883, 0.02131539210677147, -0.0011618571588769555, 0.0028260238468647003, 0.0506967268884182, -0.03136974200606346, -0.008142716251313686, 0.013838736340403557, 0.046688973903656006, 0.05096706748008728, 0.03771544620394707, -0.029498888179659843, 0.03606318309903145, -0.002611671108752489, 0.0002722844365052879, -0.06718070805072784, -0.06540263444185257, -0.034359097480773926, 0.019106734544038773, 0.04132942482829094, -0.011097069829702377, 0.04519517719745636, -0.05935654044151306, 0.010696332901716232, -0.01822294108569622, -0.056581445038318634, 0.01203868631273508, 0.044477399438619614, 0.018704965710639954, 0.016380997374653816, 0.05511506646871567, -0.022333260625600815, 0.02128620445728302, -0.012034001760184765, 0.03267528861761093, 0.014700452797114849, -0.008166824467480183, 0.01129052136093378, -0.030062055215239525, -0.023434558883309364, -0.026864612475037575, -0.001287191524170339, -0.07671896368265152, 0.0022260674741119146, -0.00589475454762578, 0.026310402899980545, 0.002071249997243285, -0.06911521404981613, -0.01437921542674303, 0.02687881514430046, -0.035154033452272415, -0.026961171999573708, 0.0025471793487668037, -0.06488820910453796, 0.03187279403209686, 0.017012665048241615, -0.04540043696761131, -0.018061617389321327, -0.016111619770526886, 0.057077422738075256, -0.0027827234007418156, -0.06455858051776886, 0.0786597728729248, 0.022907495498657227, 0.006818427238613367, -0.009117398411035538, -0.022772574797272682, -0.04765262454748154, 0.04884307086467743, -0.02098918706178665, -0.024369368329644203, -0.005012077745050192, 0.06702534854412079, 0.006913657765835524, 0.02258429117500782, 0.025112520903348923, -0.006925058551132679, 0.008594063110649586, 0.023897724226117134, 0.032973818480968475, -0.10531056672334671, 0.012209456413984299, -0.01222633570432663, -0.057376928627491, 0.01843121089041233, 0.029715852811932564, -0.0609428845345974, -0.06552565842866898, 0.035571303218603134, 0.005643235053867102, 0.0033464476000517607, -0.03596866875886917, -0.00883415900170803, -0.06978949159383774, 0.0689779669046402, -0.00488211028277874, 0.022399522364139557, -0.03160533308982849, -0.007411857135593891, 0.031935106962919235, -0.05187886208295822, 0.02116016112267971, -0.050334032624959946, 0.009105751290917397, 0.021335439756512642, 0.016683800145983696, 0.03490201011300087, -0.06384999305009842, -0.006756245624274015, -0.012740538455545902, -0.04633665084838867, -0.011477955617010593, 0.02087782882153988, 0.024482225999236107, 0.0036646381486207247, -0.0028609733562916517, 0.022939080372452736, 0.021374613046646118, -0.03489011898636818, -0.030038781464099884, 0.04788700118660927, 0.058337077498435974, -0.009704970754683018, 0.013823437504470348, -0.032748572528362274, -0.0008114662487059832, 0.009542305953800678, 0.01204011868685484, 0.01972302421927452, -0.0004748426144942641, -0.013922609388828278, -0.05210703983902931, -0.0175592340528965, -0.054169803857803345, -0.011797023005783558, -0.017103061079978943, -0.035019513219594955, 0.033866140991449356, -0.06765870004892349, -0.022760650143027306, 0.019560731947422028, 0.05502491444349289, 0.01220288872718811, -0.0017516810912638903, 0.007224434521049261, 0.011634997092187405, -0.01619075797498226, -0.03377547115087509, 0.03226272016763687, -0.020381392911076546, -0.02338593825697899, -0.012999177910387516, -0.016679907217621803, 0.010307093150913715, -0.014603013172745705, -0.07790704071521759, -0.08258122205734253, -0.03388098627328873, 0.03811144456267357, 0.007860075682401657, 0.02414550818502903, -0.027571536600589752, 0.013086693361401558, -0.007885953411459923, 0.017865091562271118, 0.053732242435216904, -0.030182329937815666, 0.016945520415902138, 0.01195719838142395, 0.00035255070542916656, 0.0490209236741066, -0.008572091348469257, 0.0017126882448792458, 0.0048387497663497925, -0.04100813344120979, -0.046812091022729874, -0.0023255767300724983, -0.05167761817574501, 0.031003078445792198, 0.01609610766172409, -0.010080348700284958, -0.0037248299922794104, -0.03533880040049553, 0.029596170410513878, 0.0289097148925066, -0.07599121332168579, -0.05029810220003128, -0.02117835357785225, 0.03204625844955444, -0.03845388442277908, 0.024510255083441734, -0.02041883021593094, 0.006021108478307724, -0.009819372557103634, 0.037477776408195496, 0.03408395126461983, 0.012886416167020798, 0.05673428997397423, -0.08097045123577118, -0.00893605686724186, 0.013335254043340683, -0.025156579911708832, 0.002584161702543497, -0.06518030166625977, 0.013440020382404327, -0.020468221977353096, 0.0065337917767465115, 0.004569753538817167, 0.019927123561501503, -0.06073402613401413, 0.014069152995944023, -0.057533375918865204, 0.009798021055758, 0.035539329051971436, -0.02452836185693741, -0.004733121022582054, -0.027749283239245415, 0.023428305983543396, -8.762268407735974e-05, 0.0073044076561927795, 0.01420285739004612, 0.049280717968940735, -0.03165407478809357, -0.01349019818007946, 0.030848823487758636, 0.028040220960974693, -0.043306875973939896, -0.04422838240861893, 0.03807390108704567, 9.477963612880558e-05, -0.043489646166563034, 0.01438683271408081, 0.0024433399084955454, -0.048407331109046936, 0.010895556770265102, -0.00987483561038971, 0.04592954367399216, 0.039637964218854904, -0.026011694222688675, 0.024813469499349594, -0.05371495336294174, 0.056282490491867065, 0.008813587948679924, 0.05250769853591919, -0.01473711896687746, -0.017438136041164398, 0.034508414566516876, 0.0375523678958416, -0.047016773372888565, -0.01949111744761467, 0.03826318308711052, -0.05675959214568138, -0.0017861095257103443, 0.023340437561273575, -5.8821638132811416e-33, -0.048718832433223724, -0.02762656845152378, -0.033824048936367035, 0.026618827134370804, -0.03392766788601875, -0.008491912856698036, -0.019125044345855713, 0.030025240033864975, 0.0340782105922699, 0.051115766167640686, -0.01924799382686615, 0.028564250096678734, 0.03660403564572334, 0.01688586175441742, 0.04772583767771721, 0.012380232103168964, 0.021484406664967537, 0.000493612140417099, 0.012127403169870377, -0.058214399963617325, 0.01629546284675598, -0.007142606656998396, 0.048009198158979416, 0.025119127705693245, 0.046009764075279236, -0.022984052076935768, -0.02056966722011566, -0.0032222960144281387, 0.04000916704535484, 0.03523102030158043, -0.03431539237499237, 0.0027562754694372416, -0.012513885274529457, 0.01976863667368889, 0.005534912925213575, 0.10374464839696884, 0.005776132456958294, -0.05654267966747284, 0.041955869644880295, -0.03788302093744278, -0.03934434801340103, -0.062430959194898605, -0.0022439821623265743, -0.05465487390756607, 0.04561346396803856, -0.00569244846701622, 0.03389165177941322, -0.01444474421441555, 0.0027210598345845938, 0.011119205504655838, -0.05006613954901695, -0.016112729907035828, 0.0017282371409237385, 0.06888780742883682, 0.01164930872619152, 0.028317105025053024, 0.00697192270308733, 0.0268371794372797, -0.007720876485109329, 0.02168283984065056, 0.01151830330491066, 0.08728324621915817, -0.006272732280194759, -0.0644473284482956, -0.015823407098650932, 0.0403268039226532, -0.016972867771983147, -0.016118871048092842, -0.03755767270922661, 0.0702938660979271, -0.03304864093661308, 0.046632442623376846, 0.011802817694842815, 0.06510750204324722, -0.01169794611632824, -0.008283441886305809, -0.054690469056367874, -0.02002270519733429, 0.000842702982481569, -0.008195233531296253, 0.020835688337683678, 0.013745477423071861, -0.0012992690317332745, -0.03945755586028099, -0.020018460229039192, -0.015372158959507942, 0.011727183125913143, -0.04401117563247681, 0.05392678454518318, -0.023301085457205772, -0.022421104833483696, -0.0036521898582577705, 0.029221368953585625, 0.007564402651041746, -0.029092315584421158, 0.04015177860856056, -0.020085331052541733, -0.0017985958838835359, -0.012623624876141548, 0.02510771155357361, -0.046928536146879196, -0.030855480581521988, -0.00036335914046503603, 0.006017886567860842, 0.039750903844833374, 0.013854808174073696, 0.024977456778287888, 0.01769765093922615, -0.0931573212146759, -0.009836915880441666, 0.008449242450296879, -0.01953912526369095, -0.03265693411231041, 0.005137403029948473, 0.005809303838759661, 0.020853668451309204, -0.005978339817374945, 0.058681048452854156, -0.014949657954275608, -0.057296548038721085, -0.005982361268252134, 0.0019520828500390053, 0.0027297623455524445, 0.006069958675652742, -0.020052529871463776, -0.013168804347515106, -0.04062291607260704, 0.05689970403909683, 0.044496919959783554, -0.012430788017809391, 0.019696757197380066, 0.038097936660051346, 2.30237674259115e-07, 0.011057493276894093, 0.0479513518512249, 0.06182985380291939, 0.044027864933013916, 0.006176686845719814, 0.0025828885845839977, 0.03389136865735054, -0.005329393316060305, -0.02592834271490574, -0.012614419683814049, 0.02464953064918518, -0.0016877410234883428, 0.001179039478302002, 0.024044299498200417, -0.09773095697164536, 0.019736753776669502, -0.055292047560214996, -0.061742473393678665, -0.048715170472860336, 0.001110894838348031, 0.1187320351600647, 0.08132586628198624, 0.033244889229536057, 0.0438326932489872, -0.024955924600362778, -0.03596268221735954, 0.016631966456770897, 0.005937650799751282, -0.01439722254872322, 0.004467089660465717, -0.06019870564341545, -0.05659116059541702, -0.008215405978262424, 0.005830585956573486, -0.016948232427239418, 0.00958634540438652, 0.014673354104161263, 0.05058455839753151, 0.03068913146853447, 0.06604685634374619, -0.025655165314674377, -0.027885854244232178, -0.03191736713051796, -0.03392362967133522, 0.014990306459367275, -0.030333606526255608, -0.006064935587346554, -0.0048177288845181465, 0.0172137264162302, -0.00823371484875679, 0.015554782003164291, 0.026910632848739624, 0.005443077068775892, -0.010689977556467056, -0.00782138854265213, -0.044450704008340836, 0.0255874115973711, -0.05747605115175247, -0.02054429054260254, -0.030785001814365387, -0.01578553579747677, -0.007075364235788584, -0.04213124141097069, 0.03799339756369591, 0.06277649849653244, -0.007677933666855097, -0.03183532878756523, 1.9927786091618204e-34, 0.010483423247933388, -0.033932700753211975, 0.03938215225934982, 0.055306579917669296, 0.00942170899361372, 0.010972827672958374, -0.049193963408470154, 0.02950242906808853, -0.008853749372065067, -0.05962487682700157, -0.023782560601830482], 'Embeddings are one of the most powerful concepts in machine learning!': [-0.029861172661185265, -0.013752203434705734, -0.04754022881388664, 0.027212655171751976, 0.03400538116693497, 0.031646598130464554, 0.04269638657569885, 0.0032979981042444706, 0.043571796268224716, 0.025383708998560905, 0.030252860859036446, 0.032113078981637955, -0.039991285651922226, 0.012876145541667938, 0.06702195107936859, -0.0792899876832962, 0.04687720537185669, 0.024026673287153244, -0.020799795165657997, -0.010743341408669949, -0.011941059492528439, -0.053929127752780914, 0.04210551828145981, 0.0223588515073061, -0.029894990846514702, 0.008359786123037338, 0.015838557854294777, -0.048023685812950134, 0.0018843833822757006, -0.016752159222960472, -0.0215628519654274, -0.038848862051963806, 0.030627399682998657, 0.04205263406038284, 1.6948333723121323e-06, -0.018692919984459877, -0.012455848045647144, 0.013212895020842552, -0.048903949558734894, 0.01347460225224495, 0.022887319326400757, 0.008817840367555618, 0.008649301715195179, -0.02009500376880169, -0.03152180463075638, -0.025343291461467743, 0.07573183625936508, 0.0362447090446949, 0.012528996914625168, 0.030969474464654922, 0.004507587291300297, -0.03500422462821007, -0.0004424689104780555, -0.009766488336026669, 0.06045453995466232, 0.04034723341464996, 0.011073482222855091, 0.006562017370015383, -0.005845970474183559, 0.0037978647742420435, -0.04469145089387894, 0.017640497535467148, 0.024591680616140366, -0.003600421827286482, 0.10247331112623215, 0.03737586736679077, 0.0061331335455179214, -0.02246769517660141, 0.014648249372839928, 0.05005365237593651, -0.022990724071860313, 0.011292477138340473, -0.031055232509970665, -0.014950929209589958, -0.0025313105434179306, 0.03209449723362923, -0.04670562222599983, -0.048588670790195465, 0.029830599203705788, 0.06442154943943024, -0.03126126900315285, 0.03574071824550629, 0.041652679443359375, -0.05525177717208862, -0.008746234700083733, -0.021863004192709923, -0.011274432763457298, -0.02144366316497326, -0.013282367028295994, -0.020486613735556602, -0.010057643987238407, 0.03547640144824982, -0.00747606810182333, -0.03701881319284439, 0.05778931826353073, -0.021816881373524666, 0.004362284205853939, 0.020438099279999733, 0.03368149325251579, -0.04928009584546089, 0.0482793003320694, -0.0018100268207490444, -0.010511861182749271, 0.04133228585124016, -0.06798341125249863, 0.017571602016687393, -0.04434124752879143, 0.00990841630846262, -0.03818093240261078, 0.011082768440246582, -0.05072803422808647, -0.021745124831795692, -0.010383633896708488, 0.04603332281112671, 0.015586260706186295, -0.04213666543364525, -0.02721460908651352, 0.03228190541267395, -0.04247395321726799, 0.027120696380734444, -0.0741061419248581, 0.04201074317097664, 0.02024381421506405, 0.07318110764026642, -0.008976975455880165, -0.023116033524274826, -0.03935593366622925, -0.014600841328501701, -0.033091042190790176, 0.011223956011235714, 0.002585715614259243, -0.0043685417622327805, 0.018585532903671265, 0.02699347957968712, -0.01672152616083622, 0.036956965923309326, 0.04444889351725578, -0.022172342985868454, 0.006729634013026953, 0.012293578125536442, 0.017175894230604172, -0.002364776097238064, 0.03722633421421051, -0.02228705585002899, 0.02946031652390957, -0.023369135335087776, 0.0053846705704927444, -0.030658163130283356, -0.023892007768154144, -0.026361441239714622, -0.020178865641355515, 0.11124558001756668, -0.01998363435268402, -0.0354030579328537, 0.0384143702685833, 0.0253069456666708, 0.019955161958932877, 0.055351827293634415, -0.019933298230171204, -0.002167225582525134, 0.04910925775766373, -0.04035305231809616, -0.011697717010974884, -0.05331132188439369, 0.008295891806483269, -0.05082515627145767, -0.02655036933720112, -0.015324294567108154, 0.005788154900074005, 0.002465785713866353, -0.034444984048604965, -0.0018512894166633487, -0.039573054760694504, -0.027169056236743927, 0.049356818199157715, 0.0838368758559227, 0.05434926599264145, 0.08222613483667374, 0.012389426119625568, -0.004797997884452343, 0.0007773644174449146, 0.029848698526620865, -0.018558403477072716, 0.059879545122385025, -0.006827934179455042, 0.000978127820417285, 0.02854856103658676, -0.007646222598850727, -0.018661992624402046, -0.026928730309009552, -0.029033247381448746, -0.013787157833576202, -0.0025759879499673843, -0.022017352283000946, -0.01708216778934002, -0.038184285163879395, 0.022150596603751183, -0.035923395305871964, -0.011943984776735306, -0.031830769032239914, -0.04808013141155243, 0.009776339866220951, -0.0010486182291060686, 0.04153706505894661, -0.011097447015345097, -0.047283053398132324, 0.019098447635769844, -0.053117699921131134, 0.021132521331310272, -0.002530700294300914, 0.05610548332333565, -0.013379553332924843, -0.005958643741905689, -0.012030808255076408, 0.04639299213886261, -0.028190866112709045, 0.022535525262355804, -0.0025047112721949816, -0.03524529188871384, 0.025549545884132385, 0.009103978052735329, 0.003252163529396057, 0.0025597147177904844, -0.012562442570924759, -0.035149674862623215, -0.042894650250673294, -0.002323300112038851, 0.02410212717950344, -0.005168363451957703, 0.01687401533126831, 0.005526465829461813, 0.02367919310927391, 0.05651646479964256, -0.03478693217039108, -0.06345181167125702, -0.007456289138644934, -0.017844879999756813, 0.053589798510074615, 0.026729173958301544, -0.08741990476846695, 0.01041965838521719, -0.00041396048618480563, -0.0030444583389908075, 0.009142417460680008, 0.029153019189834595, -0.05818314105272293, 0.06834633648395538, -0.04086184501647949, -0.009097841568291187, -0.034077007323503494, 0.03524118661880493, -0.010262809693813324, -0.000572490505874157, -0.002734513022005558, 0.015963595360517502, 0.004490622319281101, -0.0209051463752985, 0.030277006328105927, 0.024611927568912506, -0.014406794682145119, 0.017326949164271355, 0.00199037860147655, 0.04230520501732826, -0.023917648941278458, -0.03255472332239151, -0.01459397654980421, 0.03951011225581169, -0.060465008020401, -0.030206549912691116, 0.01671898551285267, -0.022681698203086853, -0.026195470243692398, -0.05513196438550949, 0.01449083723127842, -0.019924629479646683, 0.003997481428086758, 0.031261008232831955, -0.049072764813899994, -0.0009497167193330824, 0.05394976586103439, -0.009100827388465405, -0.026948632672429085, -0.03631582483649254, -0.013843686319887638, -0.0445622056722641, 0.054935842752456665, 0.0021759767550975084, 0.002234411658719182, -0.005230121314525604, -0.014789368957281113, 0.03605922311544418, 0.014526338316500187, 0.008391919545829296, -0.06103603541851044, -0.007899526506662369, -0.00298293842934072, 0.0035656823311001062, 0.083399198949337, -0.02612151950597763, 0.08067217469215393, 0.0036305265966802835, 0.01699749380350113, 0.025860456749796867, 0.001094431965611875, -0.045706357806921005, 0.055567868053913116, 0.02006438933312893, 0.04766611382365227, -0.049105286598205566, -0.01860816963016987, 0.03344050049781799, -0.025731049478054047, -0.0031636373605579138, 0.07214440405368805, -0.016151921823620796, -0.013393321074545383, -0.06062944605946541, -0.028218677267432213, -0.008919304236769676, -0.0027117147110402584, 0.008049196563661098, -0.049520935863256454, 0.07894345372915268, 0.02764284424483776, -0.005425793118774891, -0.003067255252972245, -0.041182685643434525, 0.013917158357799053, 0.030425360426306725, 0.01028563641011715, 0.010667916387319565, -0.05565541237592697, -0.017508354038000107, 0.020386874675750732, 0.008433112874627113, 0.03824709355831146, -0.03890998288989067, -0.016130371019244194, 0.03180598095059395, -0.07329700887203217, -0.017650272697210312, -0.047987405210733414, -0.05550418421626091, -0.005007493309676647, 0.00044683413580060005, 0.03573330119252205, -0.0008246584911830723, -0.03343243524432182, -0.03324166685342789, -0.02464602328836918, 0.02153322473168373, 0.003908595070242882, 0.02534712664783001, 0.006029939278960228, -0.007816070690751076, 0.012376554310321808, -0.017103945836424828, 0.02681027539074421, 0.002836755942553282, -0.01276431605219841, 0.1005108654499054, 0.010358041152358055, -0.03551429882645607, 0.01566162146627903, -0.09859493374824524, 0.04584416747093201, -0.031523071229457855, -0.02357812412083149, -0.027835074812173843, -7.758759602438658e-05, -0.028236348181962967, -0.019291836768388748, 0.018739020451903343, 0.05719410255551338, 0.025691192597150803, -0.03200306370854378, 0.019907409325242043, -0.031582050025463104, -0.040206179022789, 0.05776308476924896, 0.017297377809882164, -0.05370142310857773, -0.012532570399343967, -0.014548461884260178, -0.057617511600255966, 0.010972758755087852, -0.020472856238484383, 0.028554126620292664, -0.05043996497988701, 0.04369908198714256, 0.017571093514561653, -0.010234404355287552, -0.09697719663381577, -0.029999492689967155, -0.028667932376265526, 0.02249368466436863, -0.016812102869153023, -0.014367358759045601, -0.008795923553407192, -0.016904395073652267, 0.02415582537651062, -0.06531929969787598, -0.041080012917518616, -0.023405887186527252, -0.06760650128126144, -0.01556908618658781, 0.03623579069972038, 0.07831603288650513, -0.049751732498407364, -0.07085483521223068, -0.050117913633584976, -0.0008564268937334418, 0.005448971875011921, 0.004346978385001421, 0.0988052636384964, -0.021641526371240616, -0.018775086849927902, 0.01150699332356453, 0.02639959380030632, 0.0165235735476017, -0.022405795753002167, -0.04318266734480858, 0.1318039447069168, -0.029703490436077118, 0.026593420654535294, -0.013888843357563019, -0.016700414940714836, 0.034414615482091904, -0.008943591266870499, 0.061600103974342346, -0.0342303067445755, 0.0024642031639814377, -0.008140889927744865, 0.058032575994729996, 0.05242087319493294, -0.015328103676438332, 0.04013829305768013, 0.01514080073684454, -0.003014718648046255, -0.04970211535692215, -0.004242974333465099, 0.0577288493514061, 0.03178741782903671, 0.047400832176208496, 0.029521824792027473, -0.015012300573289394, -0.0247945599257946, -0.07115024328231812, 0.020684748888015747, 0.03114875964820385, -0.005860687233507633, 0.016278719529509544, -0.03936820849776268, 0.05465060472488403, 0.03265949338674545, -0.018702177330851555, -0.09798631817102432, 0.004337694030255079, -0.05581570416688919, -0.013462107628583908, 0.028845394030213356, 0.015874823555350304, -0.03325650095939636, 0.001444154535420239, -0.055110812187194824, 0.08246739953756332, 0.023884596303105354, -0.02048378624022007, -0.004785881377756596, 0.03787227347493172, -0.048756275326013565, 0.03446470946073532, 0.011035799980163574, 0.011245070025324821, 0.013326257467269897, -0.034637607634067535, -0.06922205537557602, 0.007301244419068098, -0.00657012639567256, 0.01732034422457218, 0.005230595823377371, 0.04481317847967148, 0.03898534178733826, -0.01992742158472538, -0.018092080950737, 0.0325937494635582, -0.020202646031975746, 0.0004862052737735212, -0.008887517265975475, -0.019134845584630966, 0.02506859414279461, 0.0474020354449749, 0.0021865523885935545, -0.01699885167181492, 0.03626716881990433, 0.0034624456893652678, 0.004219401627779007, 0.08041726052761078, 0.031062761321663857, -0.0010493978625163436, -0.03554665669798851, 0.0434836782515049, -0.03062189184129238, -0.030319251120090485, -0.04131750389933586, -0.010525783523917198, -0.023524262011051178, -0.018677154555916786, 0.004429355729371309, 0.054505616426467896, -0.060501743108034134, 0.0248421560972929, -0.03369662165641785, -0.0454169437289238, -0.026317328214645386, 0.006980476435273886, 0.06928717344999313, -0.020449060946702957, -0.019681332632899284, -0.009725638665258884, -0.0121564706787467, 0.007893424481153488, 0.001847448293119669, -0.06936511397361755, 0.0243357066065073, 0.04006094112992287, 0.03440132364630699, -0.028428224846720695, -0.010943127796053886, 0.01387424673885107, -0.004405902698636055, 0.001193415722809732, -0.08811648190021515, 0.01159309409558773, -0.025635140016674995, 0.05575255677103996, 0.12694613635540009, 0.05395660176873207, -0.014143640175461769, 0.012719633057713509, -0.013223614543676376, -0.05944841727614403, 0.02867048978805542, 0.025728458538651466, -0.008337782695889473, 0.00081739661982283, 0.0059305340982973576, 0.03291099891066551, 0.041275184601545334, -0.00577961653470993, -0.01711246557533741, 0.010622750036418438, -0.021960139274597168, -0.04972069337964058, 0.025376534089446068, -5.602574685989968e-33, -0.01353975385427475, -0.03779589757323265, -0.0026792436838150024, -0.0003696824423968792, -0.019826801493763924, 0.0054704900830984116, 0.006026813760399818, 0.019306913018226624, 0.003879822324961424, 0.02976987324655056, -0.018822859972715378, 0.0022003466729074717, 0.00817019585520029, 0.016196563839912415, 0.03175286203622818, -0.006834197789430618, 0.021925218403339386, 0.0004377432633191347, 0.029685940593481064, -0.026255715638399124, 0.006493835244327784, 0.03560251370072365, 0.0015861081192269921, -0.04765839874744415, -0.05262390896677971, 0.03782742843031883, 0.03543417155742645, -0.03103475831449032, 0.007964031770825386, 0.05484692007303238, -0.03564434126019478, 0.009101338684558868, -0.009459841065108776, -0.04632868245244026, -0.016390621662139893, 0.06324528902769089, -0.013858828693628311, -0.059572480618953705, -0.01579909585416317, 0.020188745111227036, -0.01982930675148964, -0.03492114320397377, 0.02279379591345787, -0.05916215479373932, 0.04188543185591698, 0.0012074820697307587, 0.05191587284207344, -0.018843617290258408, -0.03121020272374153, 0.02349328063428402, -0.07410299777984619, -0.0002766588586382568, -0.015172000043094158, 0.061171408742666245, 0.12506510317325592, -0.01284591481089592, -0.011267165653407574, 0.001517497468739748, -0.08091533184051514, 0.01126892026513815, -0.01975741796195507, 0.027426840737462044, 0.00940990075469017, -0.009587550535798073, 0.025485098361968994, 0.0681658461689949, -0.018345285207033157, -0.10096393525600433, -0.009452513419091702, -0.00527007644996047, 0.01986844278872013, 0.09808477014303207, 0.031563274562358856, 0.05304229259490967, 0.03751230984926224, -0.06642094254493713, -0.05928802862763405, -0.01570742577314377, 0.01766093634068966, -0.05810736119747162, 0.02232314832508564, 0.012986961752176285, -0.033026114106178284, 0.0009968769736588001, -0.009870865382254124, -0.03129550442099571, 0.0022852413821965456, -0.04912498965859413, 0.014769390225410461, -0.018336763605475426, -0.04163048788905144, 0.037689730525016785, 0.0335410051047802, -0.07971113175153732, 0.040129996836185455, 0.015907160937786102, 0.0050608995370566845, 0.04288087040185928, 0.022976016625761986, -0.04133511707186699, -0.03105032816529274, -0.05264049395918846, -0.04954052343964577, -0.02942562662065029, 0.05949244275689125, -0.025980312377214432, 0.03024975396692753, 0.008804090321063995, -0.04844672977924347, -0.020085148513317108, 0.009821753948926926, -0.07891938090324402, 0.004528848920017481, -0.009348985739052296, 0.00923311710357666, -0.03173626959323883, 0.02108330838382244, 0.006371264345943928, 0.03363478556275368, 0.0383613221347332, -0.045552808791399, 0.0010811645770445466, -0.009833235293626785, 0.007701888680458069, -0.028761770576238632, -0.01749594882130623, -0.004278088454157114, 0.028128731995821, 0.049733929336071014, -0.0745571106672287, -0.010700848884880543, -0.007660587318241596, 2.339688194297196e-07, 0.015248289331793785, 0.08396141976118088, 0.036724288016557693, -0.036924898624420166, 0.036475226283073425, 0.04264221712946892, -0.004398270510137081, 0.01781332865357399, -0.02670769765973091, -0.007138952612876892, 0.055997584015131, 0.03139660507440567, 0.002134402049705386, 0.0390370674431324, -0.0878528505563736, -0.022165995091199875, -0.02477356046438217, -0.011819055303931236, -0.007897070609033108, -0.020885715261101723, 0.043055612593889236, 0.10764352232217789, 0.04406186565756798, 0.014796324074268341, 0.024486279115080833, -0.03862679749727249, 0.01807434856891632, -0.0014783451333642006, 0.07741674780845642, -0.041956547647714615, -0.03805290907621384, 0.0361257903277874, 0.001590391737408936, 0.01953239180147648, -0.02000799961388111, 0.04225389286875725, 0.030611176043748856, -0.003536997362971306, 0.00593107845634222, -0.022322390228509903, -0.020713116973638535, -0.003629166167229414, 0.017465434968471527, -0.040875863283872604, 0.05915950611233711, -0.05890991538763046, -0.03967545926570892, -0.03335287794470787, 0.010216192342340946, 0.006972935516387224, 0.07703898102045059, -0.01869114488363266, -0.018256844952702522, -0.024231938645243645, -0.0034070212859660387, -0.036055464297533035, 0.04333896562457085, -0.03486030176281929, 0.052776847034692764, 0.028971021994948387, -0.04984628036618233, -0.01947491243481636, 0.011639847420156002, -0.03046148084104061, 0.08046382665634155, 0.06562479585409164, -0.02845330722630024, 1.8161531213167089e-34, -0.004191552754491568, -0.025788266211748123, 0.05173201113939285, 0.04944208264350891, 0.013247648254036903, -0.04219939187169075, -0.01124585047364235, -0.02615203894674778, 0.0551130548119545, 0.022002507001161575, -0.025117041543126106], \"Learn to use embeddings well and you'll be well on your way to being an AI engineer.\": [-0.022073091939091682, 0.02089502476155758, -0.06030059605836868, 0.008439524099230766, 0.04376506432890892, 0.015507092699408531, 0.049990709871053696, -0.030323244631290436, 0.04947845637798309, 0.023551126942038536, 0.03293502703309059, 0.01538771390914917, -0.06683549284934998, 0.1110028550028801, 0.06926766037940979, -0.02318894863128662, 0.03791030868887901, -0.00494147464632988, -0.015780087560415268, -0.03454761952161789, -0.026505326852202415, -0.02478792704641819, -0.01861415058374405, 0.030036183074116707, -0.028118645772337914, -0.008751396089792252, -0.0033077136613428593, -0.020611654967069626, 0.010331542231142521, -0.015148373320698738, -0.03483306244015694, -0.026324797421693802, 0.02069077454507351, 0.03791094198822975, 1.8191285562352277e-06, -0.002442919882014394, -0.0018056442495435476, 0.005617604125291109, -0.027986988425254822, 0.015470323152840137, 0.030645718798041344, 0.03726015239953995, -0.015561150386929512, 0.02544141188263893, -0.06420720368623734, 0.03163526952266693, 0.06634429842233658, 0.03809706121683121, 0.05578450486063957, 0.05316605046391487, -0.00969294086098671, -0.03614246845245361, 0.037243496626615524, -0.004678243305534124, 0.051457565277814865, 0.010005767457187176, 0.004902929533272982, 0.014156266115605831, 0.049509983509778976, 0.003329492872580886, -0.03211008012294769, 0.044238727539777756, 0.03274157643318176, -0.007906216196715832, 0.10780977457761765, 0.07329443097114563, 0.033670246601104736, -0.04283460974693298, 0.010596636682748795, 0.020565448328852654, -0.02026703581213951, 0.010496427305042744, -0.019761553034186363, -2.891750045819208e-05, -0.026186244562268257, -0.01851738803088665, -0.03442692384123802, -0.04086209461092949, 0.023257173597812653, 0.021419581025838852, 0.013132111169397831, -0.03272110968828201, -0.019142581149935722, -0.028657231479883194, -0.01168591994792223, 0.012191042304039001, 0.0105248698964715, -0.03395847603678703, 0.003089109668508172, -0.04448889568448067, 0.026510505005717278, 0.01095366571098566, 0.02514505758881569, -0.006488319486379623, 0.00454363226890564, -0.02027847059071064, -0.010321606881916523, 0.02065896987915039, -0.016531404107809067, -0.024561217054724693, 0.054754942655563354, 0.026826174929738045, 0.029551003128290176, 0.038675498217344284, -0.0776720866560936, 0.03800554946064949, -0.029836434870958328, 0.07968860864639282, -0.030094265937805176, 0.007578427437692881, -0.06898269802331924, -0.029266733676195145, -0.023558057844638824, 0.03481989726424217, 0.025293828919529915, -0.04538169130682945, -0.01579391397535801, 0.04390312731266022, -0.04043358936905861, 0.008325264789164066, -0.02846646122634411, 0.049493346363306046, 0.024127746000885963, 0.030219251289963722, -0.049959052354097366, -0.05945327877998352, -0.03701760247349739, 0.013032983988523483, -0.03364691883325577, 0.0345589853823185, -0.014452307485044003, 0.02576402574777603, 0.004611866548657417, 0.02215518243610859, -0.004934611264616251, 0.09660054743289948, -0.0027244635857641697, 0.0005653670523315668, -0.032424937933683395, 0.013168174773454666, 0.04416071996092796, -0.007030561100691557, 0.06842608749866486, -0.022816693410277367, -0.0028103485237807035, -0.04238834232091904, -0.013363217003643513, -0.05967383831739426, -0.006961249280720949, -0.0231900867074728, -0.03788510337471962, 0.09801866114139557, -0.02217288874089718, -0.023006269708275795, 0.03228151798248291, 0.008218041621148586, -0.007041174918413162, 0.04840797558426857, 0.04232913628220558, -0.0025971396826207638, 0.0001205336520797573, 0.016741469502449036, 0.029119782149791718, -0.012874063104391098, -0.024107791483402252, -0.032932061702013016, -0.0035029544960707426, -0.03193220496177673, -0.026417184621095657, 0.02304043062031269, 0.011163683608174324, -0.00995994545519352, -0.017590105533599854, -0.0020027966238558292, 0.01215947326272726, 0.046782366931438446, 0.052088215947151184, 0.07211719453334808, 0.019497832283377647, 0.011507255956530571, 0.0059416210278868675, -0.014783411286771297, -0.02877241000533104, 0.06726668030023575, -0.016875864937901497, 0.00525875436142087, -0.03397393599152565, 0.05245964974164963, -0.0259792972356081, -0.04413800686597824, 0.0014744914369657636, -0.010659920983016491, -0.015185976400971413, -0.0015588029054924846, 0.018150465562939644, -0.04854108765721321, 0.0036790326703339815, -0.0659312903881073, -0.014941847883164883, -0.032352983951568604, -0.027994908392429352, 0.01718565635383129, -0.00787079893052578, 0.04656921327114105, 0.014712337404489517, -0.0740438848733902, -0.06521044671535492, -0.05227349326014519, -0.01823435164988041, 0.05208594724535942, 0.03063047118484974, -0.023603778332471848, 0.024238474667072296, -0.018394023180007935, -0.004830113146454096, -0.021338634192943573, 0.01565842144191265, 0.009873432107269764, -0.04255618155002594, 0.006004588678479195, -0.0031450102105736732, 0.004515178967267275, -0.0015277988277375698, 0.011373162269592285, -0.06963534653186798, -0.03372584283351898, 0.013340702280402184, 0.0048728762194514275, -0.007814890705049038, 0.047804929316043854, -0.015971172600984573, 0.03146065026521683, 0.051592037081718445, -0.04051218926906586, -0.05064607411623001, 0.009999386966228485, -0.020072996616363525, 0.0421551950275898, 0.030318284407258034, -0.10043119639158249, -0.04120203107595444, 0.03439907729625702, 0.0329209640622139, 0.0010740769794210792, 0.03709625452756882, -0.06942372024059296, 0.06523936986923218, 0.008316636085510254, 0.01680360920727253, -0.02607058919966221, 0.008145005442202091, -0.014800924807786942, -0.026567023247480392, 0.03293219208717346, -0.007375167682766914, 0.007239780854433775, -0.026933016255497932, 0.017175544053316116, -0.022808317095041275, -0.0047534252516925335, 0.02885693684220314, 0.0001308106875512749, 0.05441291257739067, -0.014337902888655663, 0.018989183008670807, -0.013273226097226143, 0.04011780768632889, -0.0729275494813919, -0.02412106841802597, 0.03162172809243202, -0.016801437363028526, 0.008475433103740215, -0.0523940734565258, -0.01438828743994236, -0.014615658670663834, 0.006399068981409073, 0.02151135914027691, -0.05189606174826622, -0.0430576466023922, 0.023407578468322754, 0.0023027262650430202, -0.02484343945980072, -0.04382435604929924, -0.021657032892107964, -0.06915956735610962, 0.01767704449594021, 0.021206676959991455, -0.022029437124729156, -0.010677308775484562, 0.009574239142239094, 0.02219890058040619, 0.05514714494347572, 0.010368338786065578, -0.08148247003555298, -0.007947087287902832, -0.01858668401837349, 0.012049432843923569, 0.07514030486345291, -0.014121576212346554, 0.088392473757267, 0.0312628336250782, 0.008122555911540985, -0.022944454103708267, 0.03960108011960983, -0.02001681551337242, 0.09160276502370834, -0.02068392187356949, 0.05849907919764519, -0.04323684796690941, -0.004747397731989622, -0.009518853388726711, 0.005429469980299473, 0.00011915323557332158, 0.061537642031908035, -0.0016878689639270306, -0.04663205146789551, -0.020140543580055237, 0.013240613043308258, 0.00970686785876751, 0.02738475799560547, 0.030663976445794106, 0.006715842057019472, 0.0871221050620079, -0.0019737037364393473, 0.008182968944311142, 0.005443543661385775, -0.05762054771184921, 0.01348204631358385, 0.005062953103333712, -0.021056916564702988, 0.01259370893239975, -0.00549781508743763, -0.014464548788964748, -0.02925674058496952, 0.05532984808087349, -0.02600989304482937, -0.0028245211578905582, -0.023090165108442307, 0.008897051215171814, -0.02615654096007347, 0.0009086309582926333, -0.061620358377695084, -0.07564196735620499, -0.0105931730940938, -0.011956369504332542, 0.06714585423469543, -0.019623475149273872, -0.050093408674001694, -0.039122939109802246, -0.03070075437426567, 0.07189063727855682, 0.00929243490099907, -0.006343874614685774, 0.0007869733963161707, -0.013648392632603645, 0.02871888317167759, 0.04012249410152435, 0.012803709134459496, 0.01773814670741558, -0.004759793635457754, 0.05471736937761307, 0.0011080884141847491, -0.022579051554203033, -0.002802874194458127, -0.11369603872299194, 0.02559048868715763, 0.000400442659156397, -0.04398118332028389, 0.013631937094032764, -0.015413719229400158, -0.049901556223630905, -0.02328900247812271, -0.0016298687551170588, 0.039583537727594376, 0.018904078751802444, -0.030270328745245934, 0.02714378386735916, 0.001056766603142023, -0.0421069860458374, 0.037196118384599686, 0.03542587161064148, -0.06982746720314026, -0.022093763574957848, -0.04014965891838074, -0.01901642046868801, -0.02698352374136448, -0.015121323056519032, 0.03333655372262001, -0.09748896211385727, 0.01731024868786335, 0.006210192106664181, -0.0025942816864699125, -0.1101529449224472, -0.06101858988404274, -0.013655000366270542, -0.013503510504961014, -0.0672573447227478, -0.004051251336932182, -0.006649854127317667, 0.0038656701799482107, 0.009434710256755352, -0.03866373375058174, -0.019359299913048744, 0.013493433594703674, -0.045810677111148834, 0.06067372485995293, 0.060638006776571274, 0.048559702932834625, -0.045608825981616974, -0.057193659245967865, -0.015509499236941338, 0.03409627079963684, 0.0009481390006840229, -0.009943515993654728, 0.028465749695897102, -0.032902419567108154, -0.02832111530005932, 0.03199080005288124, 0.02612987719476223, -0.0274055078625679, -0.013635367155075073, 0.0074771493673324585, 0.1194303035736084, -0.04458068311214447, 0.010767101310193539, -0.08694244176149368, -0.021955085918307304, 0.01838749647140503, -0.010652159340679646, -0.018924301490187645, -0.030651366338133812, -0.030470170080661774, -0.032221484929323196, 0.04121512919664383, 0.008957515470683575, -0.027317998930811882, 0.009399956092238426, -0.000957124459091574, -0.01940096914768219, -0.04926234483718872, -0.009188845753669739, 0.04668943211436272, 0.0541892871260643, 0.02216094732284546, -0.028635185211896896, 0.05202960595488548, 0.024758899584412575, -0.0714268609881401, -0.01262066699564457, 0.007355210371315479, 0.021378444507718086, 0.029351437464356422, -0.025765156373381615, 0.052056290209293365, -0.0274891946464777, -0.031024260446429253, -0.09028800576925278, 0.06103716045618057, -0.05226099118590355, 0.021311169490218163, 0.04417352005839348, 0.032337091863155365, 0.017564807087183, -0.023952007293701172, -0.02697095274925232, 0.05112779513001442, 0.026906520128250122, -0.04519328102469444, 0.002526568714529276, 0.024493401870131493, -0.028954099863767624, 0.027999291196465492, -0.01360226608812809, -0.04323691502213478, 0.01858304813504219, 7.635558722540736e-05, 0.0024351428728550673, -0.0037331904750317335, -0.01722797565162182, 0.010129276663064957, 0.01984369195997715, -0.026001865044236183, -0.003401762107387185, 0.010912522673606873, -0.041636381298303604, 0.03370318561792374, -0.028163503855466843, 0.017912620678544044, -0.04530952125787735, -0.010981946252286434, -0.002208228223025799, 0.01991027593612671, 0.035637181252241135, -0.03117995150387287, 0.0378752276301384, -0.014140930958092213, -0.021690666675567627, 0.027301998808979988, 0.0036981753073632717, 0.0635388121008873, 0.012266901321709156, -0.006022736895829439, -0.007607609964907169, -0.018656505271792412, -0.005647190380841494, -0.0022004630882292986, -0.01318252645432949, 0.016772467643022537, -0.03772646561264992, 0.02978948876261711, -0.05015698820352554, 0.048908781260252, -0.060744427144527435, -0.08394183218479156, -0.0509001649916172, 0.018176758661866188, 0.06667327880859375, -0.003300402080640197, -0.0028239996172487736, -0.0535406656563282, 0.0390341579914093, 0.02198529802262783, 0.03135554492473602, -0.033652711659669876, 0.019691362977027893, 0.016788380220532417, 0.05040030553936958, 0.0030805787537246943, -0.0007247746689245105, 0.044290684163570404, -0.004129576496779919, 0.042932894080877304, -0.06625517457723618, 0.0011605657637119293, -0.02817166969180107, 0.015688635408878326, 0.09781336039304733, 0.055359434336423874, -0.013937911950051785, 0.021230723708868027, -0.013095627538859844, -0.06820277124643326, -0.0008090405608527362, 0.04992920905351639, -0.02692655473947525, -0.029780391603708267, 0.03844622150063515, 0.019735386595129967, 0.033708859235048294, 0.016587374731898308, 0.005773157346993685, -0.030489759519696236, -0.015251167118549347, -0.035615939646959305, -0.008692198432981968, -5.4229683327339386e-33, 0.003243680577725172, -0.03463301062583923, 0.03589329868555069, 0.018377140164375305, -0.021750470623373985, -0.0326412208378315, 0.002883974462747574, 0.015046361833810806, -0.001752581913024187, -0.019941916689276695, -0.006103466730564833, 0.022384731099009514, -0.0008789485436864197, 0.024868503212928772, 0.033973611891269684, 0.02755928784608841, 0.03377922996878624, 0.03985648602247238, 0.025554584339261055, 0.01830422692000866, -0.029287829995155334, 0.00518083618953824, 0.0008378475904464722, -0.03665604069828987, -0.0346732921898365, 0.03826870024204254, 0.005508206784725189, -0.04351877421140671, 0.024407774209976196, 0.035416778177022934, -0.0213442612439394, 0.02866235002875328, -0.00026540609542280436, 0.03734099119901657, -0.008681660518050194, 0.0030478788539767265, -0.02716822735965252, -0.038508858531713486, -0.0612388476729393, -0.0020084073767066, -0.012208018451929092, -0.08671984821557999, 0.00375361111946404, -0.017770705744624138, 0.008324837312102318, -0.016916727647185326, 0.07024043053388596, 0.03322339057922363, 0.04343134164810181, 0.014701700769364834, -0.12554696202278137, 0.015086648985743523, -0.054316453635692596, -0.0017914706841111183, 0.049960099160671234, -0.015378637239336967, 0.03326832130551338, -0.03077091835439205, -0.01838964968919754, 0.009457956999540329, -0.046029139310121536, -0.0020387049298733473, 0.026242835447192192, -0.0500788651406765, 0.020183607935905457, 0.0608983039855957, -0.020118076354265213, -0.02600538358092308, 0.010592524893581867, -0.03311533480882645, 0.01625956781208515, 0.07778622955083847, -0.0019073376897722483, -0.005628855898976326, 0.014371597208082676, -0.04068334028124809, -0.051497116684913635, 0.00016624151612631977, -0.0033305392134934664, 0.014468884095549583, 0.0004249343473929912, 0.030445313081145287, -0.01836361363530159, 0.0015119232703000307, 0.02998610958456993, -0.036800190806388855, 0.008356226608157158, -0.03310254588723183, 0.026691164821386337, 0.00547829968854785, -0.01805238611996174, 0.02425774559378624, 0.005727096926420927, -0.05933723226189613, 0.10435837507247925, -0.009879257529973984, -0.013610598631203175, 0.05799989402294159, 0.025010835379362106, 0.028933729976415634, -0.03205209970474243, -0.034023333340883255, -0.03416985645890236, -0.02769819088280201, 0.06470028311014175, 0.015079795382916927, -0.016192534938454628, 0.030326638370752335, -0.02671881578862667, -0.03677744045853615, -0.022784559056162834, -0.053643401712179184, 0.019049955531954765, -0.034250300377607346, 0.013268797658383846, -0.005413181614130735, 0.007497405167669058, -0.000736960384529084, -0.030856965109705925, 0.03822881355881691, -0.020831119269132614, -0.03431549668312073, 0.005602432880550623, 0.014499965123832226, -0.0376364104449749, -0.051178306341171265, -0.03510751575231552, 0.01718677207827568, 0.015072157606482506, -0.09620265662670135, -0.015354465693235397, 0.01583767868578434, 2.429409562410001e-07, -0.005888013169169426, 0.07687962800264359, 0.058606334030628204, 0.022123325616121292, -0.023669082671403885, 0.052527397871017456, 0.01486619096249342, 0.007341759279370308, -0.004989248234778643, 0.043741386383771896, -0.01283320039510727, 0.03373420238494873, -0.011081501841545105, -0.013393780216574669, -0.07800643891096115, -0.013633055612444878, 0.019474923610687256, 0.001917483750730753, -0.030025187879800797, 0.00010273681982653216, 0.09545328468084335, 0.11965401470661163, 0.03733721747994423, 0.004251318983733654, 0.020513014867901802, -0.038541436195373535, -0.019061407074332237, 0.05887928977608681, 0.06812641769647598, -0.031259533017873764, -0.06504404544830322, 0.02480440028011799, 0.0003900807350873947, 0.07547623664140701, -0.034607578068971634, 0.013294960372149944, 0.041400544345378876, 0.03075685352087021, 0.005503514781594276, -0.0015309039736166596, 0.027599379420280457, 0.006460272241383791, 0.010539812035858631, -0.03092985972762108, 0.04602321982383728, -0.03649205341935158, -0.013953978195786476, -0.035372085869312286, 0.0007978277280926704, 0.014063285663723946, 0.018025824800133705, -0.0143369035795331, 0.002192167332395911, -0.03968733921647072, -0.011728237383067608, -0.04452202841639519, 0.00805774237960577, -0.04048621281981468, 0.035614874213933945, 0.05128532648086548, -0.06640385836362839, -0.05325949564576149, 0.008928974159061909, 0.015642384067177773, 0.10211098194122314, 0.008107688277959824, -0.004038600251078606, 2.0235267403966986e-34, -0.013829405419528484, -0.01176238339394331, 0.015100580640137196, 0.08258964121341705, 0.023922855034470558, -0.011037803255021572, 0.0036566024646162987, -0.007447828073054552, 0.029455529525876045, 0.0035300073213875294, -0.061042170971632004]}\n",
      "Sentence: The Sentences Transformers library provides an easy and open-source way to create embeddings.\n",
      "Embedding: [-0.020798319950699806, 0.030316464602947235, -0.020121799781918526, 0.06864849478006363, -0.02552560716867447, -0.008476873859763145, -0.00020723622583318502, -0.0632377415895462, 0.0281606987118721, -0.033335376530885696, 0.03026341088116169, 0.05307215824723244, -0.05035270005464554, 0.026228871196508408, 0.03333137184381485, -0.045157741755247116, 0.036304496228694916, -0.0013711730716750026, -0.012017124332487583, 0.0114947110414505, 0.05045110359787941, 0.047085680067539215, 0.021191375330090523, 0.05146066099405289, -0.020374629646539688, -0.03588895872235298, -0.0006677835481241345, -0.02943938970565796, 0.04958592355251312, -0.010563945397734642, -0.015201376751065254, -0.0013175965286791325, 0.044819723814725876, 0.015602342784404755, 8.603794299233414e-07, -0.0012139284517616034, -0.023797864094376564, -0.0009093867265619338, 0.007344875484704971, -0.0025393629912286997, 0.05233704671263695, -0.04680436849594116, 0.01662147417664528, 0.04715794324874878, -0.041559915989637375, 0.0009019761346280575, 0.03602779656648636, 0.03422144055366516, 0.09682273119688034, 0.05948290973901749, -0.016498461365699768, -0.03512495756149292, 0.005925143137574196, -0.0007078744820319116, -0.024103151634335518, 0.03497409448027611, -0.02947467565536499, 0.006042645312845707, -0.009806509129703045, 0.028321800753474236, -0.018537599593400955, 0.036321282386779785, 0.013029241934418678, -0.03712328150868416, 0.052725650370121, -0.01197066344320774, -0.07180831581354141, 0.012443200685083866, -0.006705637089908123, 0.07421546429395676, 0.01163560338318348, -0.01745338924229145, -0.018240593373775482, -0.018893159925937653, 0.02824150025844574, 0.01328294724225998, -0.035190973430871964, 0.0008873060578480363, 0.05795727297663689, 0.03220938891172409, -0.003485779743641615, 0.04137689992785454, 0.014435834251344204, -0.0328044556081295, -0.009790834039449692, -0.03164928779006004, 0.042387090623378754, -0.047084685415029526, -0.02089366503059864, -0.01912495866417885, -0.012262750416994095, 0.0101606585085392, 0.03919210657477379, -0.026189619675278664, 0.010902821086347103, 0.01357231754809618, -0.057926714420318604, -0.03214998170733452, -0.005757246632128954, -0.024351580068469048, 0.052341677248477936, 0.005461244378238916, -0.023099644109606743, 0.0025717425160109997, -0.06633474677801132, 0.03541254624724388, -0.01039072684943676, 0.022541021928191185, -0.018457408994436264, -0.024200735613703728, -0.0478365495800972, -0.004792243707925081, -0.05341382697224617, 0.03017904981970787, -0.015613085590302944, -0.0551476925611496, -0.039187438786029816, 0.05921528488397598, -0.03476467728614807, 0.009681248106062412, 0.021341556683182716, 0.023041697219014168, 0.019171303138136864, 0.027737848460674286, -0.007735070772469044, 0.010444586165249348, -0.02677200920879841, -0.024020036682486534, -0.019229067489504814, 0.003915028180927038, -0.02547147311270237, 0.036194317042827606, 0.051286716014146805, -0.008416901342570782, -0.031383030116558075, 0.014748319052159786, 0.021394049748778343, -0.038490090519189835, 0.020194483920931816, 0.012076610699295998, -0.0031206447165459394, 0.007840348407626152, 0.0033033776562660933, -0.049435727298259735, 0.05838866904377937, 0.00326137593947351, 0.00484482292085886, -0.04506821557879448, 0.02456829883158207, 0.03554282709956169, -0.05325061082839966, 0.09211532026529312, 0.020439496263861656, -0.03369518741965294, -0.06198038160800934, -0.021103912964463234, 0.07823587954044342, 0.0511908158659935, 0.05931704118847847, -0.0001251013163710013, 0.049635015428066254, -0.015572285279631615, -0.0033567838836461306, 0.018201613798737526, -0.027344444766640663, -0.01087724044919014, 0.014147618785500526, 0.010987784713506699, 0.004325610585510731, 0.08233112096786499, -0.0009853893425315619, 0.07587910443544388, 0.0094499746337533, 0.02376875840127468, 0.016192778944969177, 0.062499385327100754, 0.047592245042324066, -0.003926280420273542, 0.09075245261192322, 0.044987451285123825, -0.034713178873062134, 0.0214077178388834, -0.03356045484542847, 0.04938490688800812, 0.01086695771664381, 0.02634473703801632, -0.03260895237326622, 0.08003030717372894, 0.009297656826674938, 0.007165808230638504, -0.027917252853512764, -0.030682150274515152, 0.004010629374533892, -0.04939069226384163, -0.0031376793049275875, 0.040053755044937134, -0.03978554159402847, 0.054801397025585175, 1.3629448403662536e-05, -0.08383733779191971, -0.012154764495790005, 0.03409498929977417, 0.003224048763513565, 0.06118462234735489, 0.05600668489933014, 0.009628667496144772, 0.02546164207160473, -0.04641689732670784, -0.039890095591545105, 0.07681320607662201, 0.022840876132249832, -0.022656885907053947, -0.019119353964924812, -0.06530294567346573, 0.04567812755703926, -0.004436585120856762, 0.014963171444833279, -0.021507779136300087, 0.0027424900326877832, 0.019035814329981804, 0.0591888427734375, -0.024756895378232002, 0.03661448881030083, 0.056308407336473465, -0.008864468894898891, -0.01743248477578163, -0.0010328679345548153, 0.02476668171584606, 0.01307632215321064, 0.05046331509947777, -0.005284919403493404, 0.05923973396420479, 0.06299065053462982, -0.043678347021341324, -0.04978303983807564, 0.055629655718803406, -0.024485383182764053, -0.0826754942536354, 0.02049105055630207, -0.10644620656967163, 0.006648417096585035, 0.02973046898841858, -0.02364403009414673, -0.008846178650856018, 0.0024555744603276253, -0.033523377031087875, 0.07522126287221909, -0.05898800864815712, -0.03678086772561073, 0.0341542512178421, 0.05411311611533165, -0.0174904502928257, 0.013392112217843533, 0.047168292105197906, 0.014611629769206047, -0.021231163293123245, -0.0655338391661644, 0.01238580234348774, 0.02760745957493782, -0.008021621033549309, -0.04596365988254547, -0.00822441279888153, 0.00916957762092352, -0.01563994772732258, 0.00754619250074029, 0.001583085861057043, -0.03039582632482052, -0.05106709524989128, 0.019631361588835716, 0.012626320123672485, -0.0015173547435551882, 0.020289147272706032, 0.013781723566353321, 0.014911076985299587, 0.02507670409977436, -0.036287058144807816, 0.010808524675667286, 0.0027413377538323402, 0.018151085823774338, 0.053987205028533936, -0.047454219311475754, -0.042873114347457886, -0.028991395607590675, 0.02132355235517025, -0.03851616010069847, 0.06319229304790497, -0.0577976368367672, 0.003778903279453516, -0.025439415127038956, -0.00017723633209243417, 0.009082484059035778, 0.01590951345860958, 0.04117998853325844, -0.039436761289834976, -0.009644358418881893, 0.013079164549708366, 0.06879621744155884, 0.043219249695539474, 0.0007539581274613738, 0.06777416169643402, 0.04937058687210083, -0.0034782334696501493, -0.0106055224314332, 0.006724935956299305, -0.013906234875321388, 0.048827674239873886, -0.010573525913059711, 0.003502258798107505, 0.0029022106900811195, 0.024004381150007248, 0.012027166783809662, -0.020979756489396095, -0.023911219090223312, 0.032657936215400696, -0.0010132959578186274, -0.005927524529397488, -0.0074053071439266205, 0.003631462110206485, -0.022669851779937744, -0.022124169394373894, 0.03869964927434921, 0.017232181504368782, 0.03859201446175575, -0.05047113820910454, -0.03421451523900032, -0.040044378489255905, -0.03579111024737358, -0.04625614732503891, 0.06702325493097305, -0.004616515710949898, -0.0032967394217848778, 0.020844431594014168, -0.005142587702721357, -0.05008496344089508, 0.022250378504395485, 0.04669339582324028, 0.013620869256556034, 0.01775301992893219, 0.004280848428606987, -0.027933238074183464, -0.01934206113219261, -0.03878600150346756, -0.03095548413693905, -0.06641342490911484, -0.011343399062752724, 0.01642681285738945, 0.017762890085577965, -0.0022822122555226088, -0.03300871700048447, -0.0013625911669805646, -0.021793439984321594, -0.026750877499580383, -0.01263754814863205, 0.0016187136061489582, -0.04956723377108574, 0.07854460179805756, 0.04109624773263931, 0.009659206494688988, -0.01146432664245367, 0.0016885962104424834, 0.05376631021499634, 0.0020553036592900753, -0.0411200113594532, 0.01463298313319683, -0.0375564768910408, -0.033568959683179855, 0.005192528013139963, -0.06330891698598862, 0.0332963690161705, 0.008761188015341759, 0.0013385816710069776, -0.0039574638940393925, -0.016167741268873215, 0.08267468214035034, 0.04759449511766434, -0.03430553898215294, 0.025088144466280937, -0.03509776294231415, 0.03686567768454552, 0.0041265287436544895, 0.04160181060433388, -0.13518168032169342, -0.0476338192820549, -0.012002615258097649, -0.03488917648792267, 0.0325455367565155, -0.0029357941821217537, -0.00485055148601532, -0.10422372072935104, 0.02786102704703808, 0.01415703259408474, 0.039439547806978226, -0.03888068348169327, -0.014246354810893536, -0.05199839174747467, 0.00892734993249178, -0.01997712068259716, -0.025172539055347443, -0.03412995859980583, 0.019304124638438225, -0.052020829170942307, -0.06720004975795746, -0.009463661350309849, -0.0012558617163449526, -0.05660486966371536, 0.026209836825728416, 0.00991586409509182, 0.04382864385843277, 0.002266435883939266, -0.03118954785168171, -0.06254676729440689, -0.03877933695912361, -0.06839393079280853, 0.04937215894460678, 0.05855073779821396, -0.04087292402982712, -0.019863808527588844, -0.021263400092720985, 0.04980374872684479, -0.045174919068813324, -0.023714227601885796, 0.023267466574907303, 0.10059486329555511, 0.009871194139122963, -0.013801496475934982, -0.05210413783788681, 0.00908206682652235, 0.017242800444364548, 0.05914314091205597, 0.026233676820993423, -0.007046382874250412, -0.015003210864961147, -0.0037666044663637877, 0.006282593123614788, -0.05239805951714516, -0.049663837999105453, 0.030661141499876976, -0.0033364722039550543, 0.02349112182855606, -0.08588296920061111, -0.04624491184949875, 0.055970098823308945, 0.0003090389946009964, 0.02017292007803917, -0.002980482531711459, 0.017664611339569092, 0.015466957353055477, -0.07417179644107819, 0.007349929306656122, -0.010501564480364323, 0.024524739012122154, 0.013687973842024803, -0.01178038027137518, 0.04515446349978447, 0.03290395066142082, -0.003503910033032298, -0.02713153138756752, -0.0527363196015358, -0.04601644352078438, 0.02228483557701111, 0.026227153837680817, 0.005561502650380135, 0.014578879810869694, -0.029714573174715042, 0.035704296082258224, 0.02225339412689209, 0.03896167874336243, -0.07926349341869354, -0.009010911919176579, 0.021901335567235947, -0.00549050560221076, 0.008699588477611542, 0.04330314323306084, -0.021263131871819496, 0.011329195462167263, -0.06336988508701324, 0.03637238219380379, 0.026744266971945763, -0.06642520427703857, 0.017049916088581085, -0.027969108894467354, 0.002363575855270028, -0.01819528080523014, 0.015295548364520073, -0.008504355326294899, 0.01166471466422081, -0.09759220480918884, -0.02920934557914734, -0.054254744201898575, 0.03612348809838295, 0.03251173719763756, 0.008269733749330044, -0.00029650586657226086, 0.011155554093420506, -0.03851884603500366, 0.023616140708327293, 0.009859234094619751, 0.05739988759160042, 0.048606131225824356, -0.013757903128862381, -0.00619223527610302, 0.011197327636182308, -0.03371751680970192, -0.01105159055441618, -0.07083337008953094, -0.010181684978306293, -0.03660108521580696, -0.015556108206510544, -0.021311074495315552, -0.010276027023792267, -0.043573420494794846, 0.05551862716674805, -0.03765476867556572, 0.052925270050764084, -0.0345223993062973, -0.0024300655350089073, 0.07255532592535019, 0.0044507309794425964, 0.0471416674554348, -0.009438825771212578, -0.019897891208529472, 0.057190004736185074, 0.08605414628982544, -0.052505817264318466, -0.013954989612102509, 0.0117373401299119, 0.013397442176938057, -0.047305285930633545, -0.05416742339730263, 0.04627256095409393, -0.025897040963172913, 0.015141542069613934, 0.03389450162649155, -0.0037825852632522583, -0.05760436877608299, -0.01600823551416397, 0.02427387237548828, 0.033736106008291245, -0.019682127982378006, -0.025346383452415466, -0.04756171256303787, -0.05687553063035011, -0.022819411009550095, 0.03831877559423447, -0.017833109945058823, 0.013596441596746445, 0.0007859903853386641, 0.00974009558558464, 0.033429887145757675, -0.026013389229774475, -0.007385677192360163, 0.03564511984586716, -0.026853268966078758, -0.07536248862743378, -0.026698365807533264, -4.464574564197081e-33, -0.033164650201797485, 0.014170353300869465, -0.03929094597697258, -0.034631866961717606, -0.00588670140132308, -0.01182121504098177, 0.015395160764455795, 0.01184738427400589, 0.010775741189718246, 0.03621402382850647, 0.007879547774791718, -0.023184580728411674, 0.010762309655547142, 0.017234599217772484, 0.0009542320040054619, 0.02836400642991066, 0.02374192513525486, -0.014805815182626247, 0.001241956022568047, 0.0035235618706792593, 0.023373577743768692, 0.05583077669143677, 0.05383283272385597, -0.037407923489809036, -0.021180560812354088, 0.00015267795242834836, -0.007277849595993757, 0.005505593493580818, 0.03058234415948391, 0.045463357120752335, -0.03357867896556854, 0.0316142775118351, -0.0025639357045292854, 0.03963550925254822, -0.014757335186004639, 0.05671680346131325, -0.0562787726521492, -0.005046026315540075, 0.035615451633930206, -0.027619902044534683, -0.023229196667671204, -0.046329230070114136, -0.037091974169015884, -0.04231889173388481, 0.037030670791864395, 0.007887196727097034, 0.03851759806275368, 0.0017477457877248526, 0.0056275902315974236, 0.006181095726788044, -0.0690268725156784, -0.009429633617401123, -0.007746730465441942, 0.016834992915391922, 0.012276817113161087, 0.02264062501490116, 0.01210087165236473, 0.011174350045621395, 0.012153944000601768, -0.011686221696436405, -0.04416128247976303, 0.023004690185189247, 0.022067243233323097, -0.05875043570995331, -0.0396428182721138, 0.06831353902816772, -0.032994791865348816, -0.036677535623311996, -0.03536548838019371, 0.017618492245674133, 0.006956413388252258, 0.05926928669214249, 0.04121562838554382, 0.0798109620809555, -0.005365635734051466, 0.011423885822296143, -0.02963883988559246, -0.011541171930730343, 0.022281259298324585, 0.007931845262646675, 0.0260356143116951, 0.012821233831346035, 0.017134573310613632, -0.00690188305452466, -0.010760330595076084, 0.013571435585618019, -0.0009907935746014118, -0.061607569456100464, 0.044051386415958405, -0.0008266161312349141, -0.027834083884954453, -0.012361901812255383, 0.013462989591062069, -0.03857453539967537, 0.001087042735889554, 0.021871233358979225, -0.03323984518647194, 0.018461568281054497, -0.00510111590847373, 0.037466518580913544, -0.0036754286848008633, -0.021924719214439392, -0.004964856430888176, -0.009598420932888985, 0.023359134793281555, 0.010487663559615612, 0.043872229754924774, -0.015142426826059818, -0.06303089112043381, 0.00823258701711893, -0.010913060978055, -0.04064095765352249, -0.06216912716627121, 0.022132640704512596, -0.027143454179167747, 0.040553972125053406, -0.008094459772109985, -0.0017641090089455247, 0.030152680352330208, -0.005422636400908232, -0.04698218032717705, -0.017376860603690147, 0.0411631315946579, 0.032063476741313934, -0.022294413298368454, -0.015816200524568558, -0.04507209360599518, 0.05694865807890892, 0.0471595898270607, -0.05780583992600441, 0.013247511349618435, -0.0047128694131970406, 1.6682449199834082e-07, 0.04810906574130058, 0.05036281421780586, 0.05452629178762436, 0.020756883546710014, -0.011908048763871193, -0.006374911405146122, 0.005263680592179298, 0.07219494879245758, -0.022176343947649002, 0.022010302171111107, -0.000990455038845539, -0.013716383837163448, 0.0068920208141207695, 0.024691328406333923, -0.13946205377578735, 0.002569822361692786, -0.04648265242576599, -0.04049672931432724, -0.06085560470819473, -0.015321263112127781, 0.1361299455165863, 0.0945034921169281, 0.042574189603328705, 0.04671314358711243, -0.023067805916070938, -0.012096592225134373, 0.03866731747984886, 0.0021164799109101295, -0.025147369131445885, -0.011507621966302395, -0.03465064987540245, -0.022953322157263756, -0.006338477600365877, -0.030517546460032463, -0.015623636543750763, 0.013951423577964306, 0.0003274794144090265, 0.002003192203119397, 0.004151047673076391, -0.02229251340031624, -0.03625895828008652, -0.02365794964134693, -0.018781743943691254, -0.01962890475988388, 0.04521255940198898, -0.08125686645507812, -0.02145691215991974, -0.0441543348133564, -0.026847535744309425, 0.02019740827381611, 0.002829937497153878, -0.019501160830259323, -0.03453307971358299, 0.022691328078508377, 0.03783262521028519, -0.01025441475212574, -0.002197595313191414, -0.08967448025941849, -0.045003097504377365, 0.008097019977867603, -0.020580565556883812, -0.020299850031733513, -0.02099221758544445, -0.017940493300557137, 0.0581897608935833, -0.007636507973074913, 0.015084723010659218, 1.782797550757165e-34, 0.048617925494909286, 0.04222282022237778, 0.047159530222415924, 0.058904752135276794, 0.03997856751084328, -0.05270717293024063, 0.015690552070736885, -0.0005250928807072341, 0.011365235783159733, -0.06564102321863174, -0.02208494022488594]\n",
      "\n",
      "Sentence: Sentences can be embedded one by one or as a list of strings.\n",
      "Embedding: [0.04317179322242737, -0.05387025699019432, -0.037804435938596725, 0.04272359237074852, -0.023540878668427467, 0.0344860814511776, 0.02895870991051197, 0.001928193960338831, 0.024173345416784286, -0.031701263040304184, 0.07328559458255768, 0.012559005059301853, 0.036462072283029556, -0.020525125786662102, 0.028197405859827995, -0.06873288005590439, 0.042223162949085236, 0.0009317320073023438, 0.03540349006652832, 0.014178739860653877, 0.00783991627395153, 0.02311789058148861, -0.00484732910990715, 0.010717391036450863, 0.004394880495965481, 0.005478011444211006, -0.03803388774394989, -0.0030548872891813517, 0.005722262430936098, -0.06782141327857971, -0.048800770193338394, -0.014503244310617447, 0.006680143531411886, -0.07174800336360931, 1.6464485952383257e-06, 0.010756452567875385, -0.03609229624271393, -0.023705722764134407, -0.05227918550372124, 0.03461106866598129, -0.005421760492026806, 0.016261177137494087, 0.019656438380479813, 0.022539565339684486, -0.0022599510848522186, 0.040634192526340485, 0.08171574771404266, 0.024817947298288345, 0.05318846553564072, 0.07827150821685791, -0.019181380048394203, -0.019408689811825752, -0.026280514895915985, -0.024408303201198578, 0.054940592497587204, 0.019031889736652374, 0.016081184148788452, -0.026889555156230927, -0.008246946148574352, 0.07334451377391815, 0.010012314654886723, 0.02933156117796898, 0.0034286133013665676, -0.021327024325728416, -0.0016244241269305348, -0.005562548991292715, -0.07648797333240509, -0.05854504555463791, -0.028227228671312332, 0.007518445141613483, 0.07112259417772293, 0.001954545034095645, 0.005459274165332317, 0.0032231942750513554, 0.05128002539277077, -0.03541059046983719, -0.05036085844039917, 0.047051895409822464, 0.005154801998287439, 0.015228725969791412, -0.010668058879673481, 0.03162984177470207, -0.009090377017855644, -0.040132761001586914, -0.0435236319899559, -0.019496962428092957, 0.016560498625040054, -0.04711687192320824, -0.03920917585492134, -0.030775699764490128, -0.029416728764772415, -0.04208265244960785, 0.0022706876043230295, -0.027832942083477974, 0.016942178830504417, 0.007745011243969202, -0.052374210208654404, -0.04500400647521019, 0.03836052864789963, -0.04907868057489395, 0.050661906599998474, 0.010161531157791615, -0.012502183206379414, -0.004645504988729954, -0.015454011969268322, 0.015886278823018074, 0.01183703076094389, -0.0359233021736145, -0.07762255519628525, 0.03433583304286003, -0.02147098071873188, -0.06860988587141037, -0.05462365970015526, 0.07839015871286392, -0.030070239678025246, -0.03375505656003952, -0.040499862283468246, 0.048051562160253525, 0.009539023041725159, 0.023139940574765205, -0.08161149173974991, -0.006516971625387669, 0.015421319752931595, 0.07042576372623444, -0.012506883591413498, -0.02482668124139309, -0.017132863402366638, 0.00613109115511179, 0.054441288113594055, -0.014056657440960407, -0.0062451730482280254, 0.03657881170511246, 0.07362305372953415, -0.006056810729205608, -0.03616304695606232, -0.0014220885932445526, 0.044316619634628296, -0.0031451149843633175, 0.031876787543296814, -0.013094805181026459, -0.03695245832204819, -0.004980317782610655, 0.0013001852203160524, -0.02052132971584797, 0.020627755671739578, 0.005938705988228321, -0.0030716436449438334, -0.0397513173520565, 0.04298901557922363, 0.06498026102781296, -0.0676022469997406, 0.054165564477443695, 0.001525607192888856, -0.03729090094566345, -0.0402427613735199, -0.022877244278788567, 0.13176974654197693, 0.004878762178122997, 0.01394704356789589, 0.04924354329705238, 0.024921901524066925, -0.008760936558246613, -0.005387709941715002, -0.026559598743915558, -0.01197662204504013, -0.023200640454888344, -0.02674340084195137, 0.005669083911925554, 0.022172197699546814, 0.04672938585281372, -0.05784875899553299, 0.08221212029457092, -0.0033683418296277523, 0.08096476644277573, 0.01414231862872839, 0.10239306092262268, -0.00576829956844449, -0.011587769724428654, 0.049058493226766586, 0.058782972395420074, 0.06500305235385895, 0.04746216535568237, -0.028946414589881897, -0.00176586105953902, 0.033256106078624725, 0.029119834303855896, 0.06038111448287964, 0.00037348110345192254, 0.010657614096999168, -0.0596284493803978, -0.07286016643047333, 0.029508017003536224, 0.009544634260237217, -0.027154261246323586, -0.056330472230911255, 0.0009667553822509944, -0.04777293652296066, 0.04675769433379173, 0.004872558172792196, -0.06575195491313934, -0.014224808663129807, 0.03998728096485138, -0.010979745537042618, 0.07689416408538818, -0.04000040888786316, 0.029682651162147522, 0.028130337595939636, -0.05554250627756119, 0.006312648765742779, 0.05004502832889557, 0.018988406285643578, 0.05386839061975479, -0.019598180428147316, 0.010860120877623558, 0.016415046527981758, 0.014413541182875633, 0.017144905403256416, 0.021762531250715256, -0.0498863160610199, 0.015610510483384132, 0.0048373485915362835, 0.018705327063798904, -0.0031854272820055485, 0.026686305180191994, 0.05555529147386551, -0.04880063235759735, -0.03029293194413185, 0.025211025029420853, 0.010726473294198513, 0.01882704719901085, -0.01506880298256874, 0.03438322991132736, 0.04151250422000885, 0.013778921216726303, -0.055484917014837265, 0.014384844340384007, -0.05881396308541298, -0.06016764044761658, 0.026985613629221916, -0.054612983018159866, 0.008146341890096664, -0.011775875464081764, 0.015744294971227646, 0.001439021318219602, -0.0264554675668478, -0.04488764703273773, 0.04397328197956085, -0.00010618877422530204, -0.022590605542063713, 0.0300296600908041, 0.01974407210946083, 0.007440801709890366, -0.019378993660211563, 0.008097955025732517, 0.04348598048090935, -0.00010857050801860169, -0.037722546607255936, 0.02671961672604084, -0.046315696090459824, -0.0015340314712375402, 0.008053134195506573, -0.043090105056762695, -0.021384885534644127, 0.012018521316349506, 0.00841399747878313, 0.0024827064480632544, -0.030956676229834557, -0.0905277281999588, -0.04766936972737312, 0.012260633520781994, -0.013646703213453293, -0.026365503668785095, -0.0076555111445486546, 0.008723804727196693, 0.026572512462735176, 0.0008400538936257362, -0.005559257231652737, -0.009295392781496048, 0.0319337323307991, 0.05946468934416771, 0.01832052692770958, -0.07565467059612274, -0.05593887344002724, -0.012087083421647549, -0.031626105308532715, 0.03621871396899223, 0.007536044344305992, -0.06156542897224426, -0.023045919835567474, -0.0035166842862963676, 0.012333273887634277, -0.009676364250481129, 0.04968615248799324, -0.08422567695379257, 0.015239624306559563, -0.018244551494717598, 0.07704627513885498, 0.09287181496620178, 0.04037242755293846, 0.11173268407583237, -0.010327092371881008, -0.02545582689344883, 0.02131539210677147, -0.0011618571588769555, 0.0028260238468647003, 0.0506967268884182, -0.03136974200606346, -0.008142716251313686, 0.013838736340403557, 0.046688973903656006, 0.05096706748008728, 0.03771544620394707, -0.029498888179659843, 0.03606318309903145, -0.002611671108752489, 0.0002722844365052879, -0.06718070805072784, -0.06540263444185257, -0.034359097480773926, 0.019106734544038773, 0.04132942482829094, -0.011097069829702377, 0.04519517719745636, -0.05935654044151306, 0.010696332901716232, -0.01822294108569622, -0.056581445038318634, 0.01203868631273508, 0.044477399438619614, 0.018704965710639954, 0.016380997374653816, 0.05511506646871567, -0.022333260625600815, 0.02128620445728302, -0.012034001760184765, 0.03267528861761093, 0.014700452797114849, -0.008166824467480183, 0.01129052136093378, -0.030062055215239525, -0.023434558883309364, -0.026864612475037575, -0.001287191524170339, -0.07671896368265152, 0.0022260674741119146, -0.00589475454762578, 0.026310402899980545, 0.002071249997243285, -0.06911521404981613, -0.01437921542674303, 0.02687881514430046, -0.035154033452272415, -0.026961171999573708, 0.0025471793487668037, -0.06488820910453796, 0.03187279403209686, 0.017012665048241615, -0.04540043696761131, -0.018061617389321327, -0.016111619770526886, 0.057077422738075256, -0.0027827234007418156, -0.06455858051776886, 0.0786597728729248, 0.022907495498657227, 0.006818427238613367, -0.009117398411035538, -0.022772574797272682, -0.04765262454748154, 0.04884307086467743, -0.02098918706178665, -0.024369368329644203, -0.005012077745050192, 0.06702534854412079, 0.006913657765835524, 0.02258429117500782, 0.025112520903348923, -0.006925058551132679, 0.008594063110649586, 0.023897724226117134, 0.032973818480968475, -0.10531056672334671, 0.012209456413984299, -0.01222633570432663, -0.057376928627491, 0.01843121089041233, 0.029715852811932564, -0.0609428845345974, -0.06552565842866898, 0.035571303218603134, 0.005643235053867102, 0.0033464476000517607, -0.03596866875886917, -0.00883415900170803, -0.06978949159383774, 0.0689779669046402, -0.00488211028277874, 0.022399522364139557, -0.03160533308982849, -0.007411857135593891, 0.031935106962919235, -0.05187886208295822, 0.02116016112267971, -0.050334032624959946, 0.009105751290917397, 0.021335439756512642, 0.016683800145983696, 0.03490201011300087, -0.06384999305009842, -0.006756245624274015, -0.012740538455545902, -0.04633665084838867, -0.011477955617010593, 0.02087782882153988, 0.024482225999236107, 0.0036646381486207247, -0.0028609733562916517, 0.022939080372452736, 0.021374613046646118, -0.03489011898636818, -0.030038781464099884, 0.04788700118660927, 0.058337077498435974, -0.009704970754683018, 0.013823437504470348, -0.032748572528362274, -0.0008114662487059832, 0.009542305953800678, 0.01204011868685484, 0.01972302421927452, -0.0004748426144942641, -0.013922609388828278, -0.05210703983902931, -0.0175592340528965, -0.054169803857803345, -0.011797023005783558, -0.017103061079978943, -0.035019513219594955, 0.033866140991449356, -0.06765870004892349, -0.022760650143027306, 0.019560731947422028, 0.05502491444349289, 0.01220288872718811, -0.0017516810912638903, 0.007224434521049261, 0.011634997092187405, -0.01619075797498226, -0.03377547115087509, 0.03226272016763687, -0.020381392911076546, -0.02338593825697899, -0.012999177910387516, -0.016679907217621803, 0.010307093150913715, -0.014603013172745705, -0.07790704071521759, -0.08258122205734253, -0.03388098627328873, 0.03811144456267357, 0.007860075682401657, 0.02414550818502903, -0.027571536600589752, 0.013086693361401558, -0.007885953411459923, 0.017865091562271118, 0.053732242435216904, -0.030182329937815666, 0.016945520415902138, 0.01195719838142395, 0.00035255070542916656, 0.0490209236741066, -0.008572091348469257, 0.0017126882448792458, 0.0048387497663497925, -0.04100813344120979, -0.046812091022729874, -0.0023255767300724983, -0.05167761817574501, 0.031003078445792198, 0.01609610766172409, -0.010080348700284958, -0.0037248299922794104, -0.03533880040049553, 0.029596170410513878, 0.0289097148925066, -0.07599121332168579, -0.05029810220003128, -0.02117835357785225, 0.03204625844955444, -0.03845388442277908, 0.024510255083441734, -0.02041883021593094, 0.006021108478307724, -0.009819372557103634, 0.037477776408195496, 0.03408395126461983, 0.012886416167020798, 0.05673428997397423, -0.08097045123577118, -0.00893605686724186, 0.013335254043340683, -0.025156579911708832, 0.002584161702543497, -0.06518030166625977, 0.013440020382404327, -0.020468221977353096, 0.0065337917767465115, 0.004569753538817167, 0.019927123561501503, -0.06073402613401413, 0.014069152995944023, -0.057533375918865204, 0.009798021055758, 0.035539329051971436, -0.02452836185693741, -0.004733121022582054, -0.027749283239245415, 0.023428305983543396, -8.762268407735974e-05, 0.0073044076561927795, 0.01420285739004612, 0.049280717968940735, -0.03165407478809357, -0.01349019818007946, 0.030848823487758636, 0.028040220960974693, -0.043306875973939896, -0.04422838240861893, 0.03807390108704567, 9.477963612880558e-05, -0.043489646166563034, 0.01438683271408081, 0.0024433399084955454, -0.048407331109046936, 0.010895556770265102, -0.00987483561038971, 0.04592954367399216, 0.039637964218854904, -0.026011694222688675, 0.024813469499349594, -0.05371495336294174, 0.056282490491867065, 0.008813587948679924, 0.05250769853591919, -0.01473711896687746, -0.017438136041164398, 0.034508414566516876, 0.0375523678958416, -0.047016773372888565, -0.01949111744761467, 0.03826318308711052, -0.05675959214568138, -0.0017861095257103443, 0.023340437561273575, -5.8821638132811416e-33, -0.048718832433223724, -0.02762656845152378, -0.033824048936367035, 0.026618827134370804, -0.03392766788601875, -0.008491912856698036, -0.019125044345855713, 0.030025240033864975, 0.0340782105922699, 0.051115766167640686, -0.01924799382686615, 0.028564250096678734, 0.03660403564572334, 0.01688586175441742, 0.04772583767771721, 0.012380232103168964, 0.021484406664967537, 0.000493612140417099, 0.012127403169870377, -0.058214399963617325, 0.01629546284675598, -0.007142606656998396, 0.048009198158979416, 0.025119127705693245, 0.046009764075279236, -0.022984052076935768, -0.02056966722011566, -0.0032222960144281387, 0.04000916704535484, 0.03523102030158043, -0.03431539237499237, 0.0027562754694372416, -0.012513885274529457, 0.01976863667368889, 0.005534912925213575, 0.10374464839696884, 0.005776132456958294, -0.05654267966747284, 0.041955869644880295, -0.03788302093744278, -0.03934434801340103, -0.062430959194898605, -0.0022439821623265743, -0.05465487390756607, 0.04561346396803856, -0.00569244846701622, 0.03389165177941322, -0.01444474421441555, 0.0027210598345845938, 0.011119205504655838, -0.05006613954901695, -0.016112729907035828, 0.0017282371409237385, 0.06888780742883682, 0.01164930872619152, 0.028317105025053024, 0.00697192270308733, 0.0268371794372797, -0.007720876485109329, 0.02168283984065056, 0.01151830330491066, 0.08728324621915817, -0.006272732280194759, -0.0644473284482956, -0.015823407098650932, 0.0403268039226532, -0.016972867771983147, -0.016118871048092842, -0.03755767270922661, 0.0702938660979271, -0.03304864093661308, 0.046632442623376846, 0.011802817694842815, 0.06510750204324722, -0.01169794611632824, -0.008283441886305809, -0.054690469056367874, -0.02002270519733429, 0.000842702982481569, -0.008195233531296253, 0.020835688337683678, 0.013745477423071861, -0.0012992690317332745, -0.03945755586028099, -0.020018460229039192, -0.015372158959507942, 0.011727183125913143, -0.04401117563247681, 0.05392678454518318, -0.023301085457205772, -0.022421104833483696, -0.0036521898582577705, 0.029221368953585625, 0.007564402651041746, -0.029092315584421158, 0.04015177860856056, -0.020085331052541733, -0.0017985958838835359, -0.012623624876141548, 0.02510771155357361, -0.046928536146879196, -0.030855480581521988, -0.00036335914046503603, 0.006017886567860842, 0.039750903844833374, 0.013854808174073696, 0.024977456778287888, 0.01769765093922615, -0.0931573212146759, -0.009836915880441666, 0.008449242450296879, -0.01953912526369095, -0.03265693411231041, 0.005137403029948473, 0.005809303838759661, 0.020853668451309204, -0.005978339817374945, 0.058681048452854156, -0.014949657954275608, -0.057296548038721085, -0.005982361268252134, 0.0019520828500390053, 0.0027297623455524445, 0.006069958675652742, -0.020052529871463776, -0.013168804347515106, -0.04062291607260704, 0.05689970403909683, 0.044496919959783554, -0.012430788017809391, 0.019696757197380066, 0.038097936660051346, 2.30237674259115e-07, 0.011057493276894093, 0.0479513518512249, 0.06182985380291939, 0.044027864933013916, 0.006176686845719814, 0.0025828885845839977, 0.03389136865735054, -0.005329393316060305, -0.02592834271490574, -0.012614419683814049, 0.02464953064918518, -0.0016877410234883428, 0.001179039478302002, 0.024044299498200417, -0.09773095697164536, 0.019736753776669502, -0.055292047560214996, -0.061742473393678665, -0.048715170472860336, 0.001110894838348031, 0.1187320351600647, 0.08132586628198624, 0.033244889229536057, 0.0438326932489872, -0.024955924600362778, -0.03596268221735954, 0.016631966456770897, 0.005937650799751282, -0.01439722254872322, 0.004467089660465717, -0.06019870564341545, -0.05659116059541702, -0.008215405978262424, 0.005830585956573486, -0.016948232427239418, 0.00958634540438652, 0.014673354104161263, 0.05058455839753151, 0.03068913146853447, 0.06604685634374619, -0.025655165314674377, -0.027885854244232178, -0.03191736713051796, -0.03392362967133522, 0.014990306459367275, -0.030333606526255608, -0.006064935587346554, -0.0048177288845181465, 0.0172137264162302, -0.00823371484875679, 0.015554782003164291, 0.026910632848739624, 0.005443077068775892, -0.010689977556467056, -0.00782138854265213, -0.044450704008340836, 0.0255874115973711, -0.05747605115175247, -0.02054429054260254, -0.030785001814365387, -0.01578553579747677, -0.007075364235788584, -0.04213124141097069, 0.03799339756369591, 0.06277649849653244, -0.007677933666855097, -0.03183532878756523, 1.9927786091618204e-34, 0.010483423247933388, -0.033932700753211975, 0.03938215225934982, 0.055306579917669296, 0.00942170899361372, 0.010972827672958374, -0.049193963408470154, 0.02950242906808853, -0.008853749372065067, -0.05962487682700157, -0.023782560601830482]\n",
      "\n",
      "Sentence: Embeddings are one of the most powerful concepts in machine learning!\n",
      "Embedding: [-0.029861172661185265, -0.013752203434705734, -0.04754022881388664, 0.027212655171751976, 0.03400538116693497, 0.031646598130464554, 0.04269638657569885, 0.0032979981042444706, 0.043571796268224716, 0.025383708998560905, 0.030252860859036446, 0.032113078981637955, -0.039991285651922226, 0.012876145541667938, 0.06702195107936859, -0.0792899876832962, 0.04687720537185669, 0.024026673287153244, -0.020799795165657997, -0.010743341408669949, -0.011941059492528439, -0.053929127752780914, 0.04210551828145981, 0.0223588515073061, -0.029894990846514702, 0.008359786123037338, 0.015838557854294777, -0.048023685812950134, 0.0018843833822757006, -0.016752159222960472, -0.0215628519654274, -0.038848862051963806, 0.030627399682998657, 0.04205263406038284, 1.6948333723121323e-06, -0.018692919984459877, -0.012455848045647144, 0.013212895020842552, -0.048903949558734894, 0.01347460225224495, 0.022887319326400757, 0.008817840367555618, 0.008649301715195179, -0.02009500376880169, -0.03152180463075638, -0.025343291461467743, 0.07573183625936508, 0.0362447090446949, 0.012528996914625168, 0.030969474464654922, 0.004507587291300297, -0.03500422462821007, -0.0004424689104780555, -0.009766488336026669, 0.06045453995466232, 0.04034723341464996, 0.011073482222855091, 0.006562017370015383, -0.005845970474183559, 0.0037978647742420435, -0.04469145089387894, 0.017640497535467148, 0.024591680616140366, -0.003600421827286482, 0.10247331112623215, 0.03737586736679077, 0.0061331335455179214, -0.02246769517660141, 0.014648249372839928, 0.05005365237593651, -0.022990724071860313, 0.011292477138340473, -0.031055232509970665, -0.014950929209589958, -0.0025313105434179306, 0.03209449723362923, -0.04670562222599983, -0.048588670790195465, 0.029830599203705788, 0.06442154943943024, -0.03126126900315285, 0.03574071824550629, 0.041652679443359375, -0.05525177717208862, -0.008746234700083733, -0.021863004192709923, -0.011274432763457298, -0.02144366316497326, -0.013282367028295994, -0.020486613735556602, -0.010057643987238407, 0.03547640144824982, -0.00747606810182333, -0.03701881319284439, 0.05778931826353073, -0.021816881373524666, 0.004362284205853939, 0.020438099279999733, 0.03368149325251579, -0.04928009584546089, 0.0482793003320694, -0.0018100268207490444, -0.010511861182749271, 0.04133228585124016, -0.06798341125249863, 0.017571602016687393, -0.04434124752879143, 0.00990841630846262, -0.03818093240261078, 0.011082768440246582, -0.05072803422808647, -0.021745124831795692, -0.010383633896708488, 0.04603332281112671, 0.015586260706186295, -0.04213666543364525, -0.02721460908651352, 0.03228190541267395, -0.04247395321726799, 0.027120696380734444, -0.0741061419248581, 0.04201074317097664, 0.02024381421506405, 0.07318110764026642, -0.008976975455880165, -0.023116033524274826, -0.03935593366622925, -0.014600841328501701, -0.033091042190790176, 0.011223956011235714, 0.002585715614259243, -0.0043685417622327805, 0.018585532903671265, 0.02699347957968712, -0.01672152616083622, 0.036956965923309326, 0.04444889351725578, -0.022172342985868454, 0.006729634013026953, 0.012293578125536442, 0.017175894230604172, -0.002364776097238064, 0.03722633421421051, -0.02228705585002899, 0.02946031652390957, -0.023369135335087776, 0.0053846705704927444, -0.030658163130283356, -0.023892007768154144, -0.026361441239714622, -0.020178865641355515, 0.11124558001756668, -0.01998363435268402, -0.0354030579328537, 0.0384143702685833, 0.0253069456666708, 0.019955161958932877, 0.055351827293634415, -0.019933298230171204, -0.002167225582525134, 0.04910925775766373, -0.04035305231809616, -0.011697717010974884, -0.05331132188439369, 0.008295891806483269, -0.05082515627145767, -0.02655036933720112, -0.015324294567108154, 0.005788154900074005, 0.002465785713866353, -0.034444984048604965, -0.0018512894166633487, -0.039573054760694504, -0.027169056236743927, 0.049356818199157715, 0.0838368758559227, 0.05434926599264145, 0.08222613483667374, 0.012389426119625568, -0.004797997884452343, 0.0007773644174449146, 0.029848698526620865, -0.018558403477072716, 0.059879545122385025, -0.006827934179455042, 0.000978127820417285, 0.02854856103658676, -0.007646222598850727, -0.018661992624402046, -0.026928730309009552, -0.029033247381448746, -0.013787157833576202, -0.0025759879499673843, -0.022017352283000946, -0.01708216778934002, -0.038184285163879395, 0.022150596603751183, -0.035923395305871964, -0.011943984776735306, -0.031830769032239914, -0.04808013141155243, 0.009776339866220951, -0.0010486182291060686, 0.04153706505894661, -0.011097447015345097, -0.047283053398132324, 0.019098447635769844, -0.053117699921131134, 0.021132521331310272, -0.002530700294300914, 0.05610548332333565, -0.013379553332924843, -0.005958643741905689, -0.012030808255076408, 0.04639299213886261, -0.028190866112709045, 0.022535525262355804, -0.0025047112721949816, -0.03524529188871384, 0.025549545884132385, 0.009103978052735329, 0.003252163529396057, 0.0025597147177904844, -0.012562442570924759, -0.035149674862623215, -0.042894650250673294, -0.002323300112038851, 0.02410212717950344, -0.005168363451957703, 0.01687401533126831, 0.005526465829461813, 0.02367919310927391, 0.05651646479964256, -0.03478693217039108, -0.06345181167125702, -0.007456289138644934, -0.017844879999756813, 0.053589798510074615, 0.026729173958301544, -0.08741990476846695, 0.01041965838521719, -0.00041396048618480563, -0.0030444583389908075, 0.009142417460680008, 0.029153019189834595, -0.05818314105272293, 0.06834633648395538, -0.04086184501647949, -0.009097841568291187, -0.034077007323503494, 0.03524118661880493, -0.010262809693813324, -0.000572490505874157, -0.002734513022005558, 0.015963595360517502, 0.004490622319281101, -0.0209051463752985, 0.030277006328105927, 0.024611927568912506, -0.014406794682145119, 0.017326949164271355, 0.00199037860147655, 0.04230520501732826, -0.023917648941278458, -0.03255472332239151, -0.01459397654980421, 0.03951011225581169, -0.060465008020401, -0.030206549912691116, 0.01671898551285267, -0.022681698203086853, -0.026195470243692398, -0.05513196438550949, 0.01449083723127842, -0.019924629479646683, 0.003997481428086758, 0.031261008232831955, -0.049072764813899994, -0.0009497167193330824, 0.05394976586103439, -0.009100827388465405, -0.026948632672429085, -0.03631582483649254, -0.013843686319887638, -0.0445622056722641, 0.054935842752456665, 0.0021759767550975084, 0.002234411658719182, -0.005230121314525604, -0.014789368957281113, 0.03605922311544418, 0.014526338316500187, 0.008391919545829296, -0.06103603541851044, -0.007899526506662369, -0.00298293842934072, 0.0035656823311001062, 0.083399198949337, -0.02612151950597763, 0.08067217469215393, 0.0036305265966802835, 0.01699749380350113, 0.025860456749796867, 0.001094431965611875, -0.045706357806921005, 0.055567868053913116, 0.02006438933312893, 0.04766611382365227, -0.049105286598205566, -0.01860816963016987, 0.03344050049781799, -0.025731049478054047, -0.0031636373605579138, 0.07214440405368805, -0.016151921823620796, -0.013393321074545383, -0.06062944605946541, -0.028218677267432213, -0.008919304236769676, -0.0027117147110402584, 0.008049196563661098, -0.049520935863256454, 0.07894345372915268, 0.02764284424483776, -0.005425793118774891, -0.003067255252972245, -0.041182685643434525, 0.013917158357799053, 0.030425360426306725, 0.01028563641011715, 0.010667916387319565, -0.05565541237592697, -0.017508354038000107, 0.020386874675750732, 0.008433112874627113, 0.03824709355831146, -0.03890998288989067, -0.016130371019244194, 0.03180598095059395, -0.07329700887203217, -0.017650272697210312, -0.047987405210733414, -0.05550418421626091, -0.005007493309676647, 0.00044683413580060005, 0.03573330119252205, -0.0008246584911830723, -0.03343243524432182, -0.03324166685342789, -0.02464602328836918, 0.02153322473168373, 0.003908595070242882, 0.02534712664783001, 0.006029939278960228, -0.007816070690751076, 0.012376554310321808, -0.017103945836424828, 0.02681027539074421, 0.002836755942553282, -0.01276431605219841, 0.1005108654499054, 0.010358041152358055, -0.03551429882645607, 0.01566162146627903, -0.09859493374824524, 0.04584416747093201, -0.031523071229457855, -0.02357812412083149, -0.027835074812173843, -7.758759602438658e-05, -0.028236348181962967, -0.019291836768388748, 0.018739020451903343, 0.05719410255551338, 0.025691192597150803, -0.03200306370854378, 0.019907409325242043, -0.031582050025463104, -0.040206179022789, 0.05776308476924896, 0.017297377809882164, -0.05370142310857773, -0.012532570399343967, -0.014548461884260178, -0.057617511600255966, 0.010972758755087852, -0.020472856238484383, 0.028554126620292664, -0.05043996497988701, 0.04369908198714256, 0.017571093514561653, -0.010234404355287552, -0.09697719663381577, -0.029999492689967155, -0.028667932376265526, 0.02249368466436863, -0.016812102869153023, -0.014367358759045601, -0.008795923553407192, -0.016904395073652267, 0.02415582537651062, -0.06531929969787598, -0.041080012917518616, -0.023405887186527252, -0.06760650128126144, -0.01556908618658781, 0.03623579069972038, 0.07831603288650513, -0.049751732498407364, -0.07085483521223068, -0.050117913633584976, -0.0008564268937334418, 0.005448971875011921, 0.004346978385001421, 0.0988052636384964, -0.021641526371240616, -0.018775086849927902, 0.01150699332356453, 0.02639959380030632, 0.0165235735476017, -0.022405795753002167, -0.04318266734480858, 0.1318039447069168, -0.029703490436077118, 0.026593420654535294, -0.013888843357563019, -0.016700414940714836, 0.034414615482091904, -0.008943591266870499, 0.061600103974342346, -0.0342303067445755, 0.0024642031639814377, -0.008140889927744865, 0.058032575994729996, 0.05242087319493294, -0.015328103676438332, 0.04013829305768013, 0.01514080073684454, -0.003014718648046255, -0.04970211535692215, -0.004242974333465099, 0.0577288493514061, 0.03178741782903671, 0.047400832176208496, 0.029521824792027473, -0.015012300573289394, -0.0247945599257946, -0.07115024328231812, 0.020684748888015747, 0.03114875964820385, -0.005860687233507633, 0.016278719529509544, -0.03936820849776268, 0.05465060472488403, 0.03265949338674545, -0.018702177330851555, -0.09798631817102432, 0.004337694030255079, -0.05581570416688919, -0.013462107628583908, 0.028845394030213356, 0.015874823555350304, -0.03325650095939636, 0.001444154535420239, -0.055110812187194824, 0.08246739953756332, 0.023884596303105354, -0.02048378624022007, -0.004785881377756596, 0.03787227347493172, -0.048756275326013565, 0.03446470946073532, 0.011035799980163574, 0.011245070025324821, 0.013326257467269897, -0.034637607634067535, -0.06922205537557602, 0.007301244419068098, -0.00657012639567256, 0.01732034422457218, 0.005230595823377371, 0.04481317847967148, 0.03898534178733826, -0.01992742158472538, -0.018092080950737, 0.0325937494635582, -0.020202646031975746, 0.0004862052737735212, -0.008887517265975475, -0.019134845584630966, 0.02506859414279461, 0.0474020354449749, 0.0021865523885935545, -0.01699885167181492, 0.03626716881990433, 0.0034624456893652678, 0.004219401627779007, 0.08041726052761078, 0.031062761321663857, -0.0010493978625163436, -0.03554665669798851, 0.0434836782515049, -0.03062189184129238, -0.030319251120090485, -0.04131750389933586, -0.010525783523917198, -0.023524262011051178, -0.018677154555916786, 0.004429355729371309, 0.054505616426467896, -0.060501743108034134, 0.0248421560972929, -0.03369662165641785, -0.0454169437289238, -0.026317328214645386, 0.006980476435273886, 0.06928717344999313, -0.020449060946702957, -0.019681332632899284, -0.009725638665258884, -0.0121564706787467, 0.007893424481153488, 0.001847448293119669, -0.06936511397361755, 0.0243357066065073, 0.04006094112992287, 0.03440132364630699, -0.028428224846720695, -0.010943127796053886, 0.01387424673885107, -0.004405902698636055, 0.001193415722809732, -0.08811648190021515, 0.01159309409558773, -0.025635140016674995, 0.05575255677103996, 0.12694613635540009, 0.05395660176873207, -0.014143640175461769, 0.012719633057713509, -0.013223614543676376, -0.05944841727614403, 0.02867048978805542, 0.025728458538651466, -0.008337782695889473, 0.00081739661982283, 0.0059305340982973576, 0.03291099891066551, 0.041275184601545334, -0.00577961653470993, -0.01711246557533741, 0.010622750036418438, -0.021960139274597168, -0.04972069337964058, 0.025376534089446068, -5.602574685989968e-33, -0.01353975385427475, -0.03779589757323265, -0.0026792436838150024, -0.0003696824423968792, -0.019826801493763924, 0.0054704900830984116, 0.006026813760399818, 0.019306913018226624, 0.003879822324961424, 0.02976987324655056, -0.018822859972715378, 0.0022003466729074717, 0.00817019585520029, 0.016196563839912415, 0.03175286203622818, -0.006834197789430618, 0.021925218403339386, 0.0004377432633191347, 0.029685940593481064, -0.026255715638399124, 0.006493835244327784, 0.03560251370072365, 0.0015861081192269921, -0.04765839874744415, -0.05262390896677971, 0.03782742843031883, 0.03543417155742645, -0.03103475831449032, 0.007964031770825386, 0.05484692007303238, -0.03564434126019478, 0.009101338684558868, -0.009459841065108776, -0.04632868245244026, -0.016390621662139893, 0.06324528902769089, -0.013858828693628311, -0.059572480618953705, -0.01579909585416317, 0.020188745111227036, -0.01982930675148964, -0.03492114320397377, 0.02279379591345787, -0.05916215479373932, 0.04188543185591698, 0.0012074820697307587, 0.05191587284207344, -0.018843617290258408, -0.03121020272374153, 0.02349328063428402, -0.07410299777984619, -0.0002766588586382568, -0.015172000043094158, 0.061171408742666245, 0.12506510317325592, -0.01284591481089592, -0.011267165653407574, 0.001517497468739748, -0.08091533184051514, 0.01126892026513815, -0.01975741796195507, 0.027426840737462044, 0.00940990075469017, -0.009587550535798073, 0.025485098361968994, 0.0681658461689949, -0.018345285207033157, -0.10096393525600433, -0.009452513419091702, -0.00527007644996047, 0.01986844278872013, 0.09808477014303207, 0.031563274562358856, 0.05304229259490967, 0.03751230984926224, -0.06642094254493713, -0.05928802862763405, -0.01570742577314377, 0.01766093634068966, -0.05810736119747162, 0.02232314832508564, 0.012986961752176285, -0.033026114106178284, 0.0009968769736588001, -0.009870865382254124, -0.03129550442099571, 0.0022852413821965456, -0.04912498965859413, 0.014769390225410461, -0.018336763605475426, -0.04163048788905144, 0.037689730525016785, 0.0335410051047802, -0.07971113175153732, 0.040129996836185455, 0.015907160937786102, 0.0050608995370566845, 0.04288087040185928, 0.022976016625761986, -0.04133511707186699, -0.03105032816529274, -0.05264049395918846, -0.04954052343964577, -0.02942562662065029, 0.05949244275689125, -0.025980312377214432, 0.03024975396692753, 0.008804090321063995, -0.04844672977924347, -0.020085148513317108, 0.009821753948926926, -0.07891938090324402, 0.004528848920017481, -0.009348985739052296, 0.00923311710357666, -0.03173626959323883, 0.02108330838382244, 0.006371264345943928, 0.03363478556275368, 0.0383613221347332, -0.045552808791399, 0.0010811645770445466, -0.009833235293626785, 0.007701888680458069, -0.028761770576238632, -0.01749594882130623, -0.004278088454157114, 0.028128731995821, 0.049733929336071014, -0.0745571106672287, -0.010700848884880543, -0.007660587318241596, 2.339688194297196e-07, 0.015248289331793785, 0.08396141976118088, 0.036724288016557693, -0.036924898624420166, 0.036475226283073425, 0.04264221712946892, -0.004398270510137081, 0.01781332865357399, -0.02670769765973091, -0.007138952612876892, 0.055997584015131, 0.03139660507440567, 0.002134402049705386, 0.0390370674431324, -0.0878528505563736, -0.022165995091199875, -0.02477356046438217, -0.011819055303931236, -0.007897070609033108, -0.020885715261101723, 0.043055612593889236, 0.10764352232217789, 0.04406186565756798, 0.014796324074268341, 0.024486279115080833, -0.03862679749727249, 0.01807434856891632, -0.0014783451333642006, 0.07741674780845642, -0.041956547647714615, -0.03805290907621384, 0.0361257903277874, 0.001590391737408936, 0.01953239180147648, -0.02000799961388111, 0.04225389286875725, 0.030611176043748856, -0.003536997362971306, 0.00593107845634222, -0.022322390228509903, -0.020713116973638535, -0.003629166167229414, 0.017465434968471527, -0.040875863283872604, 0.05915950611233711, -0.05890991538763046, -0.03967545926570892, -0.03335287794470787, 0.010216192342340946, 0.006972935516387224, 0.07703898102045059, -0.01869114488363266, -0.018256844952702522, -0.024231938645243645, -0.0034070212859660387, -0.036055464297533035, 0.04333896562457085, -0.03486030176281929, 0.052776847034692764, 0.028971021994948387, -0.04984628036618233, -0.01947491243481636, 0.011639847420156002, -0.03046148084104061, 0.08046382665634155, 0.06562479585409164, -0.02845330722630024, 1.8161531213167089e-34, -0.004191552754491568, -0.025788266211748123, 0.05173201113939285, 0.04944208264350891, 0.013247648254036903, -0.04219939187169075, -0.01124585047364235, -0.02615203894674778, 0.0551130548119545, 0.022002507001161575, -0.025117041543126106]\n",
      "\n",
      "Sentence: Learn to use embeddings well and you'll be well on your way to being an AI engineer.\n",
      "Embedding: [-0.022073091939091682, 0.02089502476155758, -0.06030059605836868, 0.008439524099230766, 0.04376506432890892, 0.015507092699408531, 0.049990709871053696, -0.030323244631290436, 0.04947845637798309, 0.023551126942038536, 0.03293502703309059, 0.01538771390914917, -0.06683549284934998, 0.1110028550028801, 0.06926766037940979, -0.02318894863128662, 0.03791030868887901, -0.00494147464632988, -0.015780087560415268, -0.03454761952161789, -0.026505326852202415, -0.02478792704641819, -0.01861415058374405, 0.030036183074116707, -0.028118645772337914, -0.008751396089792252, -0.0033077136613428593, -0.020611654967069626, 0.010331542231142521, -0.015148373320698738, -0.03483306244015694, -0.026324797421693802, 0.02069077454507351, 0.03791094198822975, 1.8191285562352277e-06, -0.002442919882014394, -0.0018056442495435476, 0.005617604125291109, -0.027986988425254822, 0.015470323152840137, 0.030645718798041344, 0.03726015239953995, -0.015561150386929512, 0.02544141188263893, -0.06420720368623734, 0.03163526952266693, 0.06634429842233658, 0.03809706121683121, 0.05578450486063957, 0.05316605046391487, -0.00969294086098671, -0.03614246845245361, 0.037243496626615524, -0.004678243305534124, 0.051457565277814865, 0.010005767457187176, 0.004902929533272982, 0.014156266115605831, 0.049509983509778976, 0.003329492872580886, -0.03211008012294769, 0.044238727539777756, 0.03274157643318176, -0.007906216196715832, 0.10780977457761765, 0.07329443097114563, 0.033670246601104736, -0.04283460974693298, 0.010596636682748795, 0.020565448328852654, -0.02026703581213951, 0.010496427305042744, -0.019761553034186363, -2.891750045819208e-05, -0.026186244562268257, -0.01851738803088665, -0.03442692384123802, -0.04086209461092949, 0.023257173597812653, 0.021419581025838852, 0.013132111169397831, -0.03272110968828201, -0.019142581149935722, -0.028657231479883194, -0.01168591994792223, 0.012191042304039001, 0.0105248698964715, -0.03395847603678703, 0.003089109668508172, -0.04448889568448067, 0.026510505005717278, 0.01095366571098566, 0.02514505758881569, -0.006488319486379623, 0.00454363226890564, -0.02027847059071064, -0.010321606881916523, 0.02065896987915039, -0.016531404107809067, -0.024561217054724693, 0.054754942655563354, 0.026826174929738045, 0.029551003128290176, 0.038675498217344284, -0.0776720866560936, 0.03800554946064949, -0.029836434870958328, 0.07968860864639282, -0.030094265937805176, 0.007578427437692881, -0.06898269802331924, -0.029266733676195145, -0.023558057844638824, 0.03481989726424217, 0.025293828919529915, -0.04538169130682945, -0.01579391397535801, 0.04390312731266022, -0.04043358936905861, 0.008325264789164066, -0.02846646122634411, 0.049493346363306046, 0.024127746000885963, 0.030219251289963722, -0.049959052354097366, -0.05945327877998352, -0.03701760247349739, 0.013032983988523483, -0.03364691883325577, 0.0345589853823185, -0.014452307485044003, 0.02576402574777603, 0.004611866548657417, 0.02215518243610859, -0.004934611264616251, 0.09660054743289948, -0.0027244635857641697, 0.0005653670523315668, -0.032424937933683395, 0.013168174773454666, 0.04416071996092796, -0.007030561100691557, 0.06842608749866486, -0.022816693410277367, -0.0028103485237807035, -0.04238834232091904, -0.013363217003643513, -0.05967383831739426, -0.006961249280720949, -0.0231900867074728, -0.03788510337471962, 0.09801866114139557, -0.02217288874089718, -0.023006269708275795, 0.03228151798248291, 0.008218041621148586, -0.007041174918413162, 0.04840797558426857, 0.04232913628220558, -0.0025971396826207638, 0.0001205336520797573, 0.016741469502449036, 0.029119782149791718, -0.012874063104391098, -0.024107791483402252, -0.032932061702013016, -0.0035029544960707426, -0.03193220496177673, -0.026417184621095657, 0.02304043062031269, 0.011163683608174324, -0.00995994545519352, -0.017590105533599854, -0.0020027966238558292, 0.01215947326272726, 0.046782366931438446, 0.052088215947151184, 0.07211719453334808, 0.019497832283377647, 0.011507255956530571, 0.0059416210278868675, -0.014783411286771297, -0.02877241000533104, 0.06726668030023575, -0.016875864937901497, 0.00525875436142087, -0.03397393599152565, 0.05245964974164963, -0.0259792972356081, -0.04413800686597824, 0.0014744914369657636, -0.010659920983016491, -0.015185976400971413, -0.0015588029054924846, 0.018150465562939644, -0.04854108765721321, 0.0036790326703339815, -0.0659312903881073, -0.014941847883164883, -0.032352983951568604, -0.027994908392429352, 0.01718565635383129, -0.00787079893052578, 0.04656921327114105, 0.014712337404489517, -0.0740438848733902, -0.06521044671535492, -0.05227349326014519, -0.01823435164988041, 0.05208594724535942, 0.03063047118484974, -0.023603778332471848, 0.024238474667072296, -0.018394023180007935, -0.004830113146454096, -0.021338634192943573, 0.01565842144191265, 0.009873432107269764, -0.04255618155002594, 0.006004588678479195, -0.0031450102105736732, 0.004515178967267275, -0.0015277988277375698, 0.011373162269592285, -0.06963534653186798, -0.03372584283351898, 0.013340702280402184, 0.0048728762194514275, -0.007814890705049038, 0.047804929316043854, -0.015971172600984573, 0.03146065026521683, 0.051592037081718445, -0.04051218926906586, -0.05064607411623001, 0.009999386966228485, -0.020072996616363525, 0.0421551950275898, 0.030318284407258034, -0.10043119639158249, -0.04120203107595444, 0.03439907729625702, 0.0329209640622139, 0.0010740769794210792, 0.03709625452756882, -0.06942372024059296, 0.06523936986923218, 0.008316636085510254, 0.01680360920727253, -0.02607058919966221, 0.008145005442202091, -0.014800924807786942, -0.026567023247480392, 0.03293219208717346, -0.007375167682766914, 0.007239780854433775, -0.026933016255497932, 0.017175544053316116, -0.022808317095041275, -0.0047534252516925335, 0.02885693684220314, 0.0001308106875512749, 0.05441291257739067, -0.014337902888655663, 0.018989183008670807, -0.013273226097226143, 0.04011780768632889, -0.0729275494813919, -0.02412106841802597, 0.03162172809243202, -0.016801437363028526, 0.008475433103740215, -0.0523940734565258, -0.01438828743994236, -0.014615658670663834, 0.006399068981409073, 0.02151135914027691, -0.05189606174826622, -0.0430576466023922, 0.023407578468322754, 0.0023027262650430202, -0.02484343945980072, -0.04382435604929924, -0.021657032892107964, -0.06915956735610962, 0.01767704449594021, 0.021206676959991455, -0.022029437124729156, -0.010677308775484562, 0.009574239142239094, 0.02219890058040619, 0.05514714494347572, 0.010368338786065578, -0.08148247003555298, -0.007947087287902832, -0.01858668401837349, 0.012049432843923569, 0.07514030486345291, -0.014121576212346554, 0.088392473757267, 0.0312628336250782, 0.008122555911540985, -0.022944454103708267, 0.03960108011960983, -0.02001681551337242, 0.09160276502370834, -0.02068392187356949, 0.05849907919764519, -0.04323684796690941, -0.004747397731989622, -0.009518853388726711, 0.005429469980299473, 0.00011915323557332158, 0.061537642031908035, -0.0016878689639270306, -0.04663205146789551, -0.020140543580055237, 0.013240613043308258, 0.00970686785876751, 0.02738475799560547, 0.030663976445794106, 0.006715842057019472, 0.0871221050620079, -0.0019737037364393473, 0.008182968944311142, 0.005443543661385775, -0.05762054771184921, 0.01348204631358385, 0.005062953103333712, -0.021056916564702988, 0.01259370893239975, -0.00549781508743763, -0.014464548788964748, -0.02925674058496952, 0.05532984808087349, -0.02600989304482937, -0.0028245211578905582, -0.023090165108442307, 0.008897051215171814, -0.02615654096007347, 0.0009086309582926333, -0.061620358377695084, -0.07564196735620499, -0.0105931730940938, -0.011956369504332542, 0.06714585423469543, -0.019623475149273872, -0.050093408674001694, -0.039122939109802246, -0.03070075437426567, 0.07189063727855682, 0.00929243490099907, -0.006343874614685774, 0.0007869733963161707, -0.013648392632603645, 0.02871888317167759, 0.04012249410152435, 0.012803709134459496, 0.01773814670741558, -0.004759793635457754, 0.05471736937761307, 0.0011080884141847491, -0.022579051554203033, -0.002802874194458127, -0.11369603872299194, 0.02559048868715763, 0.000400442659156397, -0.04398118332028389, 0.013631937094032764, -0.015413719229400158, -0.049901556223630905, -0.02328900247812271, -0.0016298687551170588, 0.039583537727594376, 0.018904078751802444, -0.030270328745245934, 0.02714378386735916, 0.001056766603142023, -0.0421069860458374, 0.037196118384599686, 0.03542587161064148, -0.06982746720314026, -0.022093763574957848, -0.04014965891838074, -0.01901642046868801, -0.02698352374136448, -0.015121323056519032, 0.03333655372262001, -0.09748896211385727, 0.01731024868786335, 0.006210192106664181, -0.0025942816864699125, -0.1101529449224472, -0.06101858988404274, -0.013655000366270542, -0.013503510504961014, -0.0672573447227478, -0.004051251336932182, -0.006649854127317667, 0.0038656701799482107, 0.009434710256755352, -0.03866373375058174, -0.019359299913048744, 0.013493433594703674, -0.045810677111148834, 0.06067372485995293, 0.060638006776571274, 0.048559702932834625, -0.045608825981616974, -0.057193659245967865, -0.015509499236941338, 0.03409627079963684, 0.0009481390006840229, -0.009943515993654728, 0.028465749695897102, -0.032902419567108154, -0.02832111530005932, 0.03199080005288124, 0.02612987719476223, -0.0274055078625679, -0.013635367155075073, 0.0074771493673324585, 0.1194303035736084, -0.04458068311214447, 0.010767101310193539, -0.08694244176149368, -0.021955085918307304, 0.01838749647140503, -0.010652159340679646, -0.018924301490187645, -0.030651366338133812, -0.030470170080661774, -0.032221484929323196, 0.04121512919664383, 0.008957515470683575, -0.027317998930811882, 0.009399956092238426, -0.000957124459091574, -0.01940096914768219, -0.04926234483718872, -0.009188845753669739, 0.04668943211436272, 0.0541892871260643, 0.02216094732284546, -0.028635185211896896, 0.05202960595488548, 0.024758899584412575, -0.0714268609881401, -0.01262066699564457, 0.007355210371315479, 0.021378444507718086, 0.029351437464356422, -0.025765156373381615, 0.052056290209293365, -0.0274891946464777, -0.031024260446429253, -0.09028800576925278, 0.06103716045618057, -0.05226099118590355, 0.021311169490218163, 0.04417352005839348, 0.032337091863155365, 0.017564807087183, -0.023952007293701172, -0.02697095274925232, 0.05112779513001442, 0.026906520128250122, -0.04519328102469444, 0.002526568714529276, 0.024493401870131493, -0.028954099863767624, 0.027999291196465492, -0.01360226608812809, -0.04323691502213478, 0.01858304813504219, 7.635558722540736e-05, 0.0024351428728550673, -0.0037331904750317335, -0.01722797565162182, 0.010129276663064957, 0.01984369195997715, -0.026001865044236183, -0.003401762107387185, 0.010912522673606873, -0.041636381298303604, 0.03370318561792374, -0.028163503855466843, 0.017912620678544044, -0.04530952125787735, -0.010981946252286434, -0.002208228223025799, 0.01991027593612671, 0.035637181252241135, -0.03117995150387287, 0.0378752276301384, -0.014140930958092213, -0.021690666675567627, 0.027301998808979988, 0.0036981753073632717, 0.0635388121008873, 0.012266901321709156, -0.006022736895829439, -0.007607609964907169, -0.018656505271792412, -0.005647190380841494, -0.0022004630882292986, -0.01318252645432949, 0.016772467643022537, -0.03772646561264992, 0.02978948876261711, -0.05015698820352554, 0.048908781260252, -0.060744427144527435, -0.08394183218479156, -0.0509001649916172, 0.018176758661866188, 0.06667327880859375, -0.003300402080640197, -0.0028239996172487736, -0.0535406656563282, 0.0390341579914093, 0.02198529802262783, 0.03135554492473602, -0.033652711659669876, 0.019691362977027893, 0.016788380220532417, 0.05040030553936958, 0.0030805787537246943, -0.0007247746689245105, 0.044290684163570404, -0.004129576496779919, 0.042932894080877304, -0.06625517457723618, 0.0011605657637119293, -0.02817166969180107, 0.015688635408878326, 0.09781336039304733, 0.055359434336423874, -0.013937911950051785, 0.021230723708868027, -0.013095627538859844, -0.06820277124643326, -0.0008090405608527362, 0.04992920905351639, -0.02692655473947525, -0.029780391603708267, 0.03844622150063515, 0.019735386595129967, 0.033708859235048294, 0.016587374731898308, 0.005773157346993685, -0.030489759519696236, -0.015251167118549347, -0.035615939646959305, -0.008692198432981968, -5.4229683327339386e-33, 0.003243680577725172, -0.03463301062583923, 0.03589329868555069, 0.018377140164375305, -0.021750470623373985, -0.0326412208378315, 0.002883974462747574, 0.015046361833810806, -0.001752581913024187, -0.019941916689276695, -0.006103466730564833, 0.022384731099009514, -0.0008789485436864197, 0.024868503212928772, 0.033973611891269684, 0.02755928784608841, 0.03377922996878624, 0.03985648602247238, 0.025554584339261055, 0.01830422692000866, -0.029287829995155334, 0.00518083618953824, 0.0008378475904464722, -0.03665604069828987, -0.0346732921898365, 0.03826870024204254, 0.005508206784725189, -0.04351877421140671, 0.024407774209976196, 0.035416778177022934, -0.0213442612439394, 0.02866235002875328, -0.00026540609542280436, 0.03734099119901657, -0.008681660518050194, 0.0030478788539767265, -0.02716822735965252, -0.038508858531713486, -0.0612388476729393, -0.0020084073767066, -0.012208018451929092, -0.08671984821557999, 0.00375361111946404, -0.017770705744624138, 0.008324837312102318, -0.016916727647185326, 0.07024043053388596, 0.03322339057922363, 0.04343134164810181, 0.014701700769364834, -0.12554696202278137, 0.015086648985743523, -0.054316453635692596, -0.0017914706841111183, 0.049960099160671234, -0.015378637239336967, 0.03326832130551338, -0.03077091835439205, -0.01838964968919754, 0.009457956999540329, -0.046029139310121536, -0.0020387049298733473, 0.026242835447192192, -0.0500788651406765, 0.020183607935905457, 0.0608983039855957, -0.020118076354265213, -0.02600538358092308, 0.010592524893581867, -0.03311533480882645, 0.01625956781208515, 0.07778622955083847, -0.0019073376897722483, -0.005628855898976326, 0.014371597208082676, -0.04068334028124809, -0.051497116684913635, 0.00016624151612631977, -0.0033305392134934664, 0.014468884095549583, 0.0004249343473929912, 0.030445313081145287, -0.01836361363530159, 0.0015119232703000307, 0.02998610958456993, -0.036800190806388855, 0.008356226608157158, -0.03310254588723183, 0.026691164821386337, 0.00547829968854785, -0.01805238611996174, 0.02425774559378624, 0.005727096926420927, -0.05933723226189613, 0.10435837507247925, -0.009879257529973984, -0.013610598631203175, 0.05799989402294159, 0.025010835379362106, 0.028933729976415634, -0.03205209970474243, -0.034023333340883255, -0.03416985645890236, -0.02769819088280201, 0.06470028311014175, 0.015079795382916927, -0.016192534938454628, 0.030326638370752335, -0.02671881578862667, -0.03677744045853615, -0.022784559056162834, -0.053643401712179184, 0.019049955531954765, -0.034250300377607346, 0.013268797658383846, -0.005413181614130735, 0.007497405167669058, -0.000736960384529084, -0.030856965109705925, 0.03822881355881691, -0.020831119269132614, -0.03431549668312073, 0.005602432880550623, 0.014499965123832226, -0.0376364104449749, -0.051178306341171265, -0.03510751575231552, 0.01718677207827568, 0.015072157606482506, -0.09620265662670135, -0.015354465693235397, 0.01583767868578434, 2.429409562410001e-07, -0.005888013169169426, 0.07687962800264359, 0.058606334030628204, 0.022123325616121292, -0.023669082671403885, 0.052527397871017456, 0.01486619096249342, 0.007341759279370308, -0.004989248234778643, 0.043741386383771896, -0.01283320039510727, 0.03373420238494873, -0.011081501841545105, -0.013393780216574669, -0.07800643891096115, -0.013633055612444878, 0.019474923610687256, 0.001917483750730753, -0.030025187879800797, 0.00010273681982653216, 0.09545328468084335, 0.11965401470661163, 0.03733721747994423, 0.004251318983733654, 0.020513014867901802, -0.038541436195373535, -0.019061407074332237, 0.05887928977608681, 0.06812641769647598, -0.031259533017873764, -0.06504404544830322, 0.02480440028011799, 0.0003900807350873947, 0.07547623664140701, -0.034607578068971634, 0.013294960372149944, 0.041400544345378876, 0.03075685352087021, 0.005503514781594276, -0.0015309039736166596, 0.027599379420280457, 0.006460272241383791, 0.010539812035858631, -0.03092985972762108, 0.04602321982383728, -0.03649205341935158, -0.013953978195786476, -0.035372085869312286, 0.0007978277280926704, 0.014063285663723946, 0.018025824800133705, -0.0143369035795331, 0.002192167332395911, -0.03968733921647072, -0.011728237383067608, -0.04452202841639519, 0.00805774237960577, -0.04048621281981468, 0.035614874213933945, 0.05128532648086548, -0.06640385836362839, -0.05325949564576149, 0.008928974159061909, 0.015642384067177773, 0.10211098194122314, 0.008107688277959824, -0.004038600251078606, 2.0235267403966986e-34, -0.013829405419528484, -0.01176238339394331, 0.015100580640137196, 0.08258964121341705, 0.023922855034470558, -0.011037803255021572, 0.0036566024646162987, -0.007447828073054552, 0.029455529525876045, 0.0035300073213875294, -0.061042170971632004]\n",
      "\n"
     ]
    }
   ],
   "source": [
    "# Create a list of sentences to turn into numbers\n",
    "sentences = [\n",
    "    \"The Sentences Transformers library provides an easy and open-source way to create embeddings.\",\n",
    "    \"Sentences can be embedded one by one or as a list of strings.\",\n",
    "    \"Embeddings are one of the most powerful concepts in machine learning!\",\n",
    "    \"Learn to use embeddings well and you'll be well on your way to being an AI engineer.\"\n",
    "]\n",
    "\n",
    "# Sentences are encoded/embedded by calling model.encode()\n",
    "embeddings =  embeddings.embed_documents(sentences)\n",
    "embeddings_dict = dict(zip(sentences, embeddings))\n",
    "print(embeddings_dict)\n",
    "# See the embeddings\n",
    "for sentence, embedding in embeddings_dict.items():\n",
    "    print(\"Sentence:\", sentence)\n",
    "    print(\"Embedding:\", embedding)\n",
    "    print(\"\")"
   ]
  },
  {
   "cell_type": "code",
   "execution_count": 26,
   "metadata": {},
   "outputs": [
    {
     "name": "stdout",
     "output_type": "stream",
     "text": [
      "['1. 2. 3. 1. 2. a.  b.  3. 4. a.  LYNX_Chatbot User Creation in TTI: User creation is managed by company fleet managers. Navigate to company management and select action button and add user.for adding user fleet manager needs to select the company for which user needs to be added and than the required data asked in the stepper form to create the user. Once user is created by fleet manager created user will get the email from OKTA where they get the link to activate the account. Once user activated the account. They can use the credentials to login to the lynx fleet application. Password reset: User can reset the password from the login screen of the lynx fleet application. Company tiering: feature users have access to depends on company tiering level.we have  tiering available for each company.access, core and enhance Feature Access Details: API Portal: Available in Access, Core, Enhance Live Map View: Available in Access, Core Live Map View - Geofence: Available in Access, Core Live Grid View: Available in Access, Core Live Grid View - 2 Way Commands: Available in Core Live Grid View - Advanced 2-Way Commands: Available in Enhance Widget - KPI: Available in Access, Core, Enhance Asset Tracking - Replay: Available in Access, Core, Enhance Asset Tracking - Temperature Chart: Available in Access, Core, Enhance Asset Tracking - Asset History: Available in Access, Core, Enhance Alerts & Notifications: Available in Access, Core, Enhance Reports: Available in Access, Core, Enhance Company Management: Available in Access, Core, Enhance Command History: Available in Access, Core, Enhance Asset History: After the user clicks on an asset name on the , they are directed to the  page. To view data Asset Tracking Page Asset History for a specific time period, the user can choose from: One of the predefined time intervals: , , or .', '24 hours 48 hours 7 days A , where the user can select a specific date and time, down to the second. Note that the custom period is limited to 7 custom time range days due to the large data volume. Need of beacon Sensors: fleet manager would like to know which truck/tractor is near my trailer to ensure the trailer is on the correct route. Sometimes, the situation occurs where the trailer gets hitched to the wrong truck and ends up going to the wrong destination. This results in our customers experiencing lost time and revenue. :Process to commission beacon sensors The beacons will be installed on the back of trucks The beacons will be commissioned in Lynx Fleet and associated with a truck. The Carrier team member will enter the beacon sensor MAC ID, truck license plate number, and truck description during commissioning. Beacon sensors can be commissioned individually. Beacon sensors can be commissioned via bulk upload When a company opts into beacon sensors, a remote command must be sent from Lynx Fleet to all their devices to enable beacon detection. An FMC can detect up to 100 beacon sensors. Each sensor detected will have its MAC ID and signal strength collected by the FMC every 2 minutes. This data will be stored in Flespi and associated with the trailer/device. Lynx Fleet can use GPS movement and signal strength to determine which trailer ID is moving with which truck/beacon. Screens Auto Refresh: In the lynx portal carrier loader will come only when we have access token which is expired (expiry is 1hr). In that case new token request is made and new token is being saved to the local storage and that is used for making further network calls.']\n"
     ]
    }
   ],
   "source": [
    "# Turn text chunks into a single list\n",
    "text_chunks = [item[\"sentence_chunk\"] for item in pages_and_chunks_over_min_token_len]\n",
    "print(text_chunks)"
   ]
  },
  {
   "cell_type": "code",
   "execution_count": 27,
   "metadata": {},
   "outputs": [
    {
     "name": "stdout",
     "output_type": "stream",
     "text": [
      "<pinecone.data.index.Index object at 0x343637850>\n"
     ]
    }
   ],
   "source": [
    "#Vector Search DB In PineCode\n",
    "##Create a pinecone index first and the run this code\n",
    "import pinecone\n",
    "from pinecone import Pinecone\n",
    "pc = Pinecone(api_key = os.environ['PINECONE_API_KEY'])\n",
    "index = pc.Index(\"llmchat\")\n",
    "print(index)\n",
    "index_name = 'llmchat'"
   ]
  },
  {
   "cell_type": "code",
   "execution_count": 28,
   "metadata": {},
   "outputs": [
    {
     "name": "stdout",
     "output_type": "stream",
     "text": [
      "[Document(metadata={'page': 0}, page_content='1. 2. 3. 1. 2. a.  b.  3. 4. a.  LYNX_Chatbot User Creation in TTI: User creation is managed by company fleet managers. Navigate to company management and select action button and add user.for adding user fleet manager needs to select the company for which user needs to be added and than the required data asked in the stepper form to create the user. Once user is created by fleet manager created user will get the email from OKTA where they get the link to activate the account. Once user activated the account. They can use the credentials to login to the lynx fleet application. Password reset: User can reset the password from the login screen of the lynx fleet application. Company tiering: feature users have access to depends on company tiering level.we have  tiering available for each company.access, core and enhance Feature Access Details: API Portal: Available in Access, Core, Enhance Live Map View: Available in Access, Core Live Map View - Geofence: Available in Access, Core Live Grid View: Available in Access, Core Live Grid View - 2 Way Commands: Available in Core Live Grid View - Advanced 2-Way Commands: Available in Enhance Widget - KPI: Available in Access, Core, Enhance Asset Tracking - Replay: Available in Access, Core, Enhance Asset Tracking - Temperature Chart: Available in Access, Core, Enhance Asset Tracking - Asset History: Available in Access, Core, Enhance Alerts & Notifications: Available in Access, Core, Enhance Reports: Available in Access, Core, Enhance Company Management: Available in Access, Core, Enhance Command History: Available in Access, Core, Enhance Asset History: After the user clicks on an asset name on the , they are directed to the  page. To view data Asset Tracking Page Asset History for a specific time period, the user can choose from: One of the predefined time intervals: , , or .'), Document(metadata={'page': 0}, page_content='24 hours 48 hours 7 days A , where the user can select a specific date and time, down to the second. Note that the custom period is limited to 7 custom time range days due to the large data volume. Need of beacon Sensors: fleet manager would like to know which truck/tractor is near my trailer to ensure the trailer is on the correct route. Sometimes, the situation occurs where the trailer gets hitched to the wrong truck and ends up going to the wrong destination. This results in our customers experiencing lost time and revenue. :Process to commission beacon sensors The beacons will be installed on the back of trucks The beacons will be commissioned in Lynx Fleet and associated with a truck. The Carrier team member will enter the beacon sensor MAC ID, truck license plate number, and truck description during commissioning. Beacon sensors can be commissioned individually. Beacon sensors can be commissioned via bulk upload When a company opts into beacon sensors, a remote command must be sent from Lynx Fleet to all their devices to enable beacon detection. An FMC can detect up to 100 beacon sensors. Each sensor detected will have its MAC ID and signal strength collected by the FMC every 2 minutes. This data will be stored in Flespi and associated with the trailer/device. Lynx Fleet can use GPS movement and signal strength to determine which trailer ID is moving with which truck/beacon. Screens Auto Refresh: In the lynx portal carrier loader will come only when we have access token which is expired (expiry is 1hr). In that case new token request is made and new token is being saved to the local storage and that is used for making further network calls.')]\n"
     ]
    }
   ],
   "source": [
    "from langchain.schema import Document\n",
    "document_list = [\n",
    "    Document(\n",
    "        page_content=text_chunks[\"sentence_chunk\"],\n",
    "        metadata={\"page\": text_chunks[\"page_number\"]}\n",
    "    )\n",
    "    for text_chunks in pages_and_chunks_over_min_token_len\n",
    "]\n",
    "print(document_list)"
   ]
  },
  {
   "cell_type": "code",
   "execution_count": 30,
   "metadata": {},
   "outputs": [],
   "source": [
    "# converting the document into embeddings and insertion into pinecone vector db based on the chunks - Each chunk is stored as a single record\n",
    "from langchain_pinecone import PineconeVectorStore\n",
    "vectorstore_from_docs = PineconeVectorStore.from_documents(\n",
    "        document_list,\n",
    "        index_name=index_name,\n",
    "        embedding=embeddings\n",
    "    )"
   ]
  }
 ],
 "metadata": {
  "kernelspec": {
   "display_name": "Python 3",
   "language": "python",
   "name": "python3"
  },
  "language_info": {
   "codemirror_mode": {
    "name": "ipython",
    "version": 3
   },
   "file_extension": ".py",
   "mimetype": "text/x-python",
   "name": "python",
   "nbconvert_exporter": "python",
   "pygments_lexer": "ipython3",
   "version": "3.10.0"
  }
 },
 "nbformat": 4,
 "nbformat_minor": 2
}
